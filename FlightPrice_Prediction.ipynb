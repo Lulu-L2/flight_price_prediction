{
  "cells": [
    {
      "cell_type": "code",
      "source": [
        "from google.colab import drive\n",
        "drive.mount('/content/drive')"
      ],
      "metadata": {
        "colab": {
          "base_uri": "https://localhost:8080/"
        },
        "id": "rOdQPaenb_HG",
        "outputId": "1a122151-6f4b-4ff5-b3a3-c15e1caecafd"
      },
      "execution_count": 1,
      "outputs": [
        {
          "output_type": "stream",
          "name": "stdout",
          "text": [
            "Drive already mounted at /content/drive; to attempt to forcibly remount, call drive.mount(\"/content/drive\", force_remount=True).\n"
          ]
        }
      ]
    },
    {
      "cell_type": "markdown",
      "source": [
        "# Building Flight Price Prediction"
      ],
      "metadata": {
        "id": "YQprcMS7XT4l"
      }
    },
    {
      "cell_type": "markdown",
      "source": [
        "# Import All library needed"
      ],
      "metadata": {
        "id": "XgXmUKLVXQuX"
      }
    },
    {
      "cell_type": "code",
      "execution_count": 3,
      "metadata": {
        "id": "EtHnUINzUScW"
      },
      "outputs": [],
      "source": [
        "import numpy as np\n",
        "import pandas as pd\n",
        "import matplotlib.pyplot as plt\n",
        "import seaborn as sns"
      ]
    },
    {
      "cell_type": "code",
      "execution_count": 16,
      "metadata": {
        "id": "Z5qrSD1fUScY"
      },
      "outputs": [],
      "source": [
        "df=pd.read_excel(\"/content/drive/MyDrive/Machine_Learning_Project/Flight-Price-Predict/Data_Train.xlsx\")"
      ]
    },
    {
      "cell_type": "code",
      "execution_count": 17,
      "metadata": {
        "colab": {
          "base_uri": "https://localhost:8080/",
          "height": 652
        },
        "id": "dCgZsP52UScY",
        "outputId": "703ba8ed-a39b-492a-e1b4-774a06f82159"
      },
      "outputs": [
        {
          "output_type": "execute_result",
          "data": {
            "text/plain": [
              "       Airline Date_of_Journey    Source Destination                  Route  \\\n",
              "0       IndiGo      24/03/2019  Banglore   New Delhi              BLR → DEL   \n",
              "1    Air India       1/05/2019   Kolkata    Banglore  CCU → IXR → BBI → BLR   \n",
              "2  Jet Airways       9/06/2019     Delhi      Cochin  DEL → LKO → BOM → COK   \n",
              "3       IndiGo      12/05/2019   Kolkata    Banglore        CCU → NAG → BLR   \n",
              "4       IndiGo      01/03/2019  Banglore   New Delhi        BLR → NAG → DEL   \n",
              "\n",
              "  Dep_Time  Arrival_Time Duration Total_Stops Additional_Info  Price  \n",
              "0    22:20  01:10 22 Mar   2h 50m    non-stop         No info   3897  \n",
              "1    05:50         13:15   7h 25m     2 stops         No info   7662  \n",
              "2    09:25  04:25 10 Jun      19h     2 stops         No info  13882  \n",
              "3    18:05         23:30   5h 25m      1 stop         No info   6218  \n",
              "4    16:50         21:35   4h 45m      1 stop         No info  13302  "
            ],
            "text/html": [
              "\n",
              "  <div id=\"df-1bc4a5e5-44c6-4f7f-a7a1-86037e45e54e\">\n",
              "    <div class=\"colab-df-container\">\n",
              "      <div>\n",
              "<style scoped>\n",
              "    .dataframe tbody tr th:only-of-type {\n",
              "        vertical-align: middle;\n",
              "    }\n",
              "\n",
              "    .dataframe tbody tr th {\n",
              "        vertical-align: top;\n",
              "    }\n",
              "\n",
              "    .dataframe thead th {\n",
              "        text-align: right;\n",
              "    }\n",
              "</style>\n",
              "<table border=\"1\" class=\"dataframe\">\n",
              "  <thead>\n",
              "    <tr style=\"text-align: right;\">\n",
              "      <th></th>\n",
              "      <th>Airline</th>\n",
              "      <th>Date_of_Journey</th>\n",
              "      <th>Source</th>\n",
              "      <th>Destination</th>\n",
              "      <th>Route</th>\n",
              "      <th>Dep_Time</th>\n",
              "      <th>Arrival_Time</th>\n",
              "      <th>Duration</th>\n",
              "      <th>Total_Stops</th>\n",
              "      <th>Additional_Info</th>\n",
              "      <th>Price</th>\n",
              "    </tr>\n",
              "  </thead>\n",
              "  <tbody>\n",
              "    <tr>\n",
              "      <th>0</th>\n",
              "      <td>IndiGo</td>\n",
              "      <td>24/03/2019</td>\n",
              "      <td>Banglore</td>\n",
              "      <td>New Delhi</td>\n",
              "      <td>BLR → DEL</td>\n",
              "      <td>22:20</td>\n",
              "      <td>01:10 22 Mar</td>\n",
              "      <td>2h 50m</td>\n",
              "      <td>non-stop</td>\n",
              "      <td>No info</td>\n",
              "      <td>3897</td>\n",
              "    </tr>\n",
              "    <tr>\n",
              "      <th>1</th>\n",
              "      <td>Air India</td>\n",
              "      <td>1/05/2019</td>\n",
              "      <td>Kolkata</td>\n",
              "      <td>Banglore</td>\n",
              "      <td>CCU → IXR → BBI → BLR</td>\n",
              "      <td>05:50</td>\n",
              "      <td>13:15</td>\n",
              "      <td>7h 25m</td>\n",
              "      <td>2 stops</td>\n",
              "      <td>No info</td>\n",
              "      <td>7662</td>\n",
              "    </tr>\n",
              "    <tr>\n",
              "      <th>2</th>\n",
              "      <td>Jet Airways</td>\n",
              "      <td>9/06/2019</td>\n",
              "      <td>Delhi</td>\n",
              "      <td>Cochin</td>\n",
              "      <td>DEL → LKO → BOM → COK</td>\n",
              "      <td>09:25</td>\n",
              "      <td>04:25 10 Jun</td>\n",
              "      <td>19h</td>\n",
              "      <td>2 stops</td>\n",
              "      <td>No info</td>\n",
              "      <td>13882</td>\n",
              "    </tr>\n",
              "    <tr>\n",
              "      <th>3</th>\n",
              "      <td>IndiGo</td>\n",
              "      <td>12/05/2019</td>\n",
              "      <td>Kolkata</td>\n",
              "      <td>Banglore</td>\n",
              "      <td>CCU → NAG → BLR</td>\n",
              "      <td>18:05</td>\n",
              "      <td>23:30</td>\n",
              "      <td>5h 25m</td>\n",
              "      <td>1 stop</td>\n",
              "      <td>No info</td>\n",
              "      <td>6218</td>\n",
              "    </tr>\n",
              "    <tr>\n",
              "      <th>4</th>\n",
              "      <td>IndiGo</td>\n",
              "      <td>01/03/2019</td>\n",
              "      <td>Banglore</td>\n",
              "      <td>New Delhi</td>\n",
              "      <td>BLR → NAG → DEL</td>\n",
              "      <td>16:50</td>\n",
              "      <td>21:35</td>\n",
              "      <td>4h 45m</td>\n",
              "      <td>1 stop</td>\n",
              "      <td>No info</td>\n",
              "      <td>13302</td>\n",
              "    </tr>\n",
              "  </tbody>\n",
              "</table>\n",
              "</div>\n",
              "      <button class=\"colab-df-convert\" onclick=\"convertToInteractive('df-1bc4a5e5-44c6-4f7f-a7a1-86037e45e54e')\"\n",
              "              title=\"Convert this dataframe to an interactive table.\"\n",
              "              style=\"display:none;\">\n",
              "        \n",
              "  <svg xmlns=\"http://www.w3.org/2000/svg\" height=\"24px\"viewBox=\"0 0 24 24\"\n",
              "       width=\"24px\">\n",
              "    <path d=\"M0 0h24v24H0V0z\" fill=\"none\"/>\n",
              "    <path d=\"M18.56 5.44l.94 2.06.94-2.06 2.06-.94-2.06-.94-.94-2.06-.94 2.06-2.06.94zm-11 1L8.5 8.5l.94-2.06 2.06-.94-2.06-.94L8.5 2.5l-.94 2.06-2.06.94zm10 10l.94 2.06.94-2.06 2.06-.94-2.06-.94-.94-2.06-.94 2.06-2.06.94z\"/><path d=\"M17.41 7.96l-1.37-1.37c-.4-.4-.92-.59-1.43-.59-.52 0-1.04.2-1.43.59L10.3 9.45l-7.72 7.72c-.78.78-.78 2.05 0 2.83L4 21.41c.39.39.9.59 1.41.59.51 0 1.02-.2 1.41-.59l7.78-7.78 2.81-2.81c.8-.78.8-2.07 0-2.86zM5.41 20L4 18.59l7.72-7.72 1.47 1.35L5.41 20z\"/>\n",
              "  </svg>\n",
              "      </button>\n",
              "      \n",
              "  <style>\n",
              "    .colab-df-container {\n",
              "      display:flex;\n",
              "      flex-wrap:wrap;\n",
              "      gap: 12px;\n",
              "    }\n",
              "\n",
              "    .colab-df-convert {\n",
              "      background-color: #E8F0FE;\n",
              "      border: none;\n",
              "      border-radius: 50%;\n",
              "      cursor: pointer;\n",
              "      display: none;\n",
              "      fill: #1967D2;\n",
              "      height: 32px;\n",
              "      padding: 0 0 0 0;\n",
              "      width: 32px;\n",
              "    }\n",
              "\n",
              "    .colab-df-convert:hover {\n",
              "      background-color: #E2EBFA;\n",
              "      box-shadow: 0px 1px 2px rgba(60, 64, 67, 0.3), 0px 1px 3px 1px rgba(60, 64, 67, 0.15);\n",
              "      fill: #174EA6;\n",
              "    }\n",
              "\n",
              "    [theme=dark] .colab-df-convert {\n",
              "      background-color: #3B4455;\n",
              "      fill: #D2E3FC;\n",
              "    }\n",
              "\n",
              "    [theme=dark] .colab-df-convert:hover {\n",
              "      background-color: #434B5C;\n",
              "      box-shadow: 0px 1px 3px 1px rgba(0, 0, 0, 0.15);\n",
              "      filter: drop-shadow(0px 1px 2px rgba(0, 0, 0, 0.3));\n",
              "      fill: #FFFFFF;\n",
              "    }\n",
              "  </style>\n",
              "\n",
              "      <script>\n",
              "        const buttonEl =\n",
              "          document.querySelector('#df-1bc4a5e5-44c6-4f7f-a7a1-86037e45e54e button.colab-df-convert');\n",
              "        buttonEl.style.display =\n",
              "          google.colab.kernel.accessAllowed ? 'block' : 'none';\n",
              "\n",
              "        async function convertToInteractive(key) {\n",
              "          const element = document.querySelector('#df-1bc4a5e5-44c6-4f7f-a7a1-86037e45e54e');\n",
              "          const dataTable =\n",
              "            await google.colab.kernel.invokeFunction('convertToInteractive',\n",
              "                                                     [key], {});\n",
              "          if (!dataTable) return;\n",
              "\n",
              "          const docLinkHtml = 'Like what you see? Visit the ' +\n",
              "            '<a target=\"_blank\" href=https://colab.research.google.com/notebooks/data_table.ipynb>data table notebook</a>'\n",
              "            + ' to learn more about interactive tables.';\n",
              "          element.innerHTML = '';\n",
              "          dataTable['output_type'] = 'display_data';\n",
              "          await google.colab.output.renderOutput(dataTable, element);\n",
              "          const docLink = document.createElement('div');\n",
              "          docLink.innerHTML = docLinkHtml;\n",
              "          element.appendChild(docLink);\n",
              "        }\n",
              "      </script>\n",
              "    </div>\n",
              "  </div>\n",
              "  "
            ]
          },
          "metadata": {},
          "execution_count": 17
        }
      ],
      "source": [
        "df.head()"
      ]
    },
    {
      "cell_type": "markdown",
      "metadata": {
        "id": "QLkHQsDVUSce"
      },
      "source": [
        "## **EDA**"
      ]
    },
    {
      "cell_type": "code",
      "execution_count": 18,
      "metadata": {
        "colab": {
          "base_uri": "https://localhost:8080/"
        },
        "id": "86WonC1kUSce",
        "outputId": "9421d06c-a4fc-4608-e171-fca9c5075c89"
      },
      "outputs": [
        {
          "output_type": "execute_result",
          "data": {
            "text/plain": [
              "(10683, 11)"
            ]
          },
          "metadata": {},
          "execution_count": 18
        }
      ],
      "source": [
        "df.shape"
      ]
    },
    {
      "cell_type": "code",
      "execution_count": 19,
      "metadata": {
        "colab": {
          "base_uri": "https://localhost:8080/"
        },
        "id": "GGkVVTVsUScf",
        "outputId": "0306ea7b-373c-40df-b656-8abd61ee0bb8"
      },
      "outputs": [
        {
          "output_type": "execute_result",
          "data": {
            "text/plain": [
              "Airline            object\n",
              "Date_of_Journey    object\n",
              "Source             object\n",
              "Destination        object\n",
              "Route              object\n",
              "Dep_Time           object\n",
              "Arrival_Time       object\n",
              "Duration           object\n",
              "Total_Stops        object\n",
              "Additional_Info    object\n",
              "Price               int64\n",
              "dtype: object"
            ]
          },
          "metadata": {},
          "execution_count": 19
        }
      ],
      "source": [
        "df.dtypes #checking the data types"
      ]
    },
    {
      "cell_type": "code",
      "execution_count": 20,
      "metadata": {
        "colab": {
          "base_uri": "https://localhost:8080/"
        },
        "id": "sLFZlNZSUScg",
        "outputId": "54404672-e652-48f8-921c-7d824b071084"
      },
      "outputs": [
        {
          "output_type": "execute_result",
          "data": {
            "text/plain": [
              "Airline            0\n",
              "Date_of_Journey    0\n",
              "Source             0\n",
              "Destination        0\n",
              "Route              1\n",
              "Dep_Time           0\n",
              "Arrival_Time       0\n",
              "Duration           0\n",
              "Total_Stops        1\n",
              "Additional_Info    0\n",
              "Price              0\n",
              "dtype: int64"
            ]
          },
          "metadata": {},
          "execution_count": 20
        }
      ],
      "source": [
        "df.isna().sum() #Checking null values"
      ]
    },
    {
      "cell_type": "code",
      "execution_count": 21,
      "metadata": {
        "colab": {
          "base_uri": "https://localhost:8080/"
        },
        "id": "cVE8MFILUScg",
        "outputId": "1051b5f4-2cc4-4cfe-d34b-06d3214d7586"
      },
      "outputs": [
        {
          "output_type": "execute_result",
          "data": {
            "text/plain": [
              "Airline            0\n",
              "Date_of_Journey    0\n",
              "Source             0\n",
              "Destination        0\n",
              "Route              0\n",
              "Dep_Time           0\n",
              "Arrival_Time       0\n",
              "Duration           0\n",
              "Total_Stops        0\n",
              "Additional_Info    0\n",
              "Price              0\n",
              "dtype: int64"
            ]
          },
          "metadata": {},
          "execution_count": 21
        }
      ],
      "source": [
        "#Remove the NaN values from the dataset\n",
        "df.dropna(how='any',inplace=True)\n",
        "df.isnull().sum()"
      ]
    },
    {
      "cell_type": "markdown",
      "metadata": {
        "id": "C9JQbS4wUSch"
      },
      "source": [
        "<br>\n",
        "<br>\n",
        "\n",
        "## **Feature Engineering**"
      ]
    },
    {
      "cell_type": "markdown",
      "metadata": {
        "id": "teoUBMl_USci"
      },
      "source": [
        "Let's convert **Date_of_Journey** to its appropriate format as **datetime** with regards to **day** and **month**"
      ]
    },
    {
      "cell_type": "code",
      "execution_count": 22,
      "metadata": {
        "colab": {
          "base_uri": "https://localhost:8080/",
          "height": 450
        },
        "id": "CCsuGyopUScj",
        "outputId": "99a8cedb-e0d8-4a92-c10c-7f214fa4c4d4"
      },
      "outputs": [
        {
          "output_type": "execute_result",
          "data": {
            "text/plain": [
              "       Airline Date_of_Journey    Source Destination                  Route  \\\n",
              "0       IndiGo      24/03/2019  Banglore   New Delhi              BLR → DEL   \n",
              "1    Air India       1/05/2019   Kolkata    Banglore  CCU → IXR → BBI → BLR   \n",
              "2  Jet Airways       9/06/2019     Delhi      Cochin  DEL → LKO → BOM → COK   \n",
              "\n",
              "  Dep_Time  Arrival_Time Duration Total_Stops Additional_Info  Price  \n",
              "0    22:20  01:10 22 Mar   2h 50m    non-stop         No info   3897  \n",
              "1    05:50         13:15   7h 25m     2 stops         No info   7662  \n",
              "2    09:25  04:25 10 Jun      19h     2 stops         No info  13882  "
            ],
            "text/html": [
              "\n",
              "  <div id=\"df-b0814ec8-da8b-4a85-b238-df5b18755516\">\n",
              "    <div class=\"colab-df-container\">\n",
              "      <div>\n",
              "<style scoped>\n",
              "    .dataframe tbody tr th:only-of-type {\n",
              "        vertical-align: middle;\n",
              "    }\n",
              "\n",
              "    .dataframe tbody tr th {\n",
              "        vertical-align: top;\n",
              "    }\n",
              "\n",
              "    .dataframe thead th {\n",
              "        text-align: right;\n",
              "    }\n",
              "</style>\n",
              "<table border=\"1\" class=\"dataframe\">\n",
              "  <thead>\n",
              "    <tr style=\"text-align: right;\">\n",
              "      <th></th>\n",
              "      <th>Airline</th>\n",
              "      <th>Date_of_Journey</th>\n",
              "      <th>Source</th>\n",
              "      <th>Destination</th>\n",
              "      <th>Route</th>\n",
              "      <th>Dep_Time</th>\n",
              "      <th>Arrival_Time</th>\n",
              "      <th>Duration</th>\n",
              "      <th>Total_Stops</th>\n",
              "      <th>Additional_Info</th>\n",
              "      <th>Price</th>\n",
              "    </tr>\n",
              "  </thead>\n",
              "  <tbody>\n",
              "    <tr>\n",
              "      <th>0</th>\n",
              "      <td>IndiGo</td>\n",
              "      <td>24/03/2019</td>\n",
              "      <td>Banglore</td>\n",
              "      <td>New Delhi</td>\n",
              "      <td>BLR → DEL</td>\n",
              "      <td>22:20</td>\n",
              "      <td>01:10 22 Mar</td>\n",
              "      <td>2h 50m</td>\n",
              "      <td>non-stop</td>\n",
              "      <td>No info</td>\n",
              "      <td>3897</td>\n",
              "    </tr>\n",
              "    <tr>\n",
              "      <th>1</th>\n",
              "      <td>Air India</td>\n",
              "      <td>1/05/2019</td>\n",
              "      <td>Kolkata</td>\n",
              "      <td>Banglore</td>\n",
              "      <td>CCU → IXR → BBI → BLR</td>\n",
              "      <td>05:50</td>\n",
              "      <td>13:15</td>\n",
              "      <td>7h 25m</td>\n",
              "      <td>2 stops</td>\n",
              "      <td>No info</td>\n",
              "      <td>7662</td>\n",
              "    </tr>\n",
              "    <tr>\n",
              "      <th>2</th>\n",
              "      <td>Jet Airways</td>\n",
              "      <td>9/06/2019</td>\n",
              "      <td>Delhi</td>\n",
              "      <td>Cochin</td>\n",
              "      <td>DEL → LKO → BOM → COK</td>\n",
              "      <td>09:25</td>\n",
              "      <td>04:25 10 Jun</td>\n",
              "      <td>19h</td>\n",
              "      <td>2 stops</td>\n",
              "      <td>No info</td>\n",
              "      <td>13882</td>\n",
              "    </tr>\n",
              "  </tbody>\n",
              "</table>\n",
              "</div>\n",
              "      <button class=\"colab-df-convert\" onclick=\"convertToInteractive('df-b0814ec8-da8b-4a85-b238-df5b18755516')\"\n",
              "              title=\"Convert this dataframe to an interactive table.\"\n",
              "              style=\"display:none;\">\n",
              "        \n",
              "  <svg xmlns=\"http://www.w3.org/2000/svg\" height=\"24px\"viewBox=\"0 0 24 24\"\n",
              "       width=\"24px\">\n",
              "    <path d=\"M0 0h24v24H0V0z\" fill=\"none\"/>\n",
              "    <path d=\"M18.56 5.44l.94 2.06.94-2.06 2.06-.94-2.06-.94-.94-2.06-.94 2.06-2.06.94zm-11 1L8.5 8.5l.94-2.06 2.06-.94-2.06-.94L8.5 2.5l-.94 2.06-2.06.94zm10 10l.94 2.06.94-2.06 2.06-.94-2.06-.94-.94-2.06-.94 2.06-2.06.94z\"/><path d=\"M17.41 7.96l-1.37-1.37c-.4-.4-.92-.59-1.43-.59-.52 0-1.04.2-1.43.59L10.3 9.45l-7.72 7.72c-.78.78-.78 2.05 0 2.83L4 21.41c.39.39.9.59 1.41.59.51 0 1.02-.2 1.41-.59l7.78-7.78 2.81-2.81c.8-.78.8-2.07 0-2.86zM5.41 20L4 18.59l7.72-7.72 1.47 1.35L5.41 20z\"/>\n",
              "  </svg>\n",
              "      </button>\n",
              "      \n",
              "  <style>\n",
              "    .colab-df-container {\n",
              "      display:flex;\n",
              "      flex-wrap:wrap;\n",
              "      gap: 12px;\n",
              "    }\n",
              "\n",
              "    .colab-df-convert {\n",
              "      background-color: #E8F0FE;\n",
              "      border: none;\n",
              "      border-radius: 50%;\n",
              "      cursor: pointer;\n",
              "      display: none;\n",
              "      fill: #1967D2;\n",
              "      height: 32px;\n",
              "      padding: 0 0 0 0;\n",
              "      width: 32px;\n",
              "    }\n",
              "\n",
              "    .colab-df-convert:hover {\n",
              "      background-color: #E2EBFA;\n",
              "      box-shadow: 0px 1px 2px rgba(60, 64, 67, 0.3), 0px 1px 3px 1px rgba(60, 64, 67, 0.15);\n",
              "      fill: #174EA6;\n",
              "    }\n",
              "\n",
              "    [theme=dark] .colab-df-convert {\n",
              "      background-color: #3B4455;\n",
              "      fill: #D2E3FC;\n",
              "    }\n",
              "\n",
              "    [theme=dark] .colab-df-convert:hover {\n",
              "      background-color: #434B5C;\n",
              "      box-shadow: 0px 1px 3px 1px rgba(0, 0, 0, 0.15);\n",
              "      filter: drop-shadow(0px 1px 2px rgba(0, 0, 0, 0.3));\n",
              "      fill: #FFFFFF;\n",
              "    }\n",
              "  </style>\n",
              "\n",
              "      <script>\n",
              "        const buttonEl =\n",
              "          document.querySelector('#df-b0814ec8-da8b-4a85-b238-df5b18755516 button.colab-df-convert');\n",
              "        buttonEl.style.display =\n",
              "          google.colab.kernel.accessAllowed ? 'block' : 'none';\n",
              "\n",
              "        async function convertToInteractive(key) {\n",
              "          const element = document.querySelector('#df-b0814ec8-da8b-4a85-b238-df5b18755516');\n",
              "          const dataTable =\n",
              "            await google.colab.kernel.invokeFunction('convertToInteractive',\n",
              "                                                     [key], {});\n",
              "          if (!dataTable) return;\n",
              "\n",
              "          const docLinkHtml = 'Like what you see? Visit the ' +\n",
              "            '<a target=\"_blank\" href=https://colab.research.google.com/notebooks/data_table.ipynb>data table notebook</a>'\n",
              "            + ' to learn more about interactive tables.';\n",
              "          element.innerHTML = '';\n",
              "          dataTable['output_type'] = 'display_data';\n",
              "          await google.colab.output.renderOutput(dataTable, element);\n",
              "          const docLink = document.createElement('div');\n",
              "          docLink.innerHTML = docLinkHtml;\n",
              "          element.appendChild(docLink);\n",
              "        }\n",
              "      </script>\n",
              "    </div>\n",
              "  </div>\n",
              "  "
            ]
          },
          "metadata": {},
          "execution_count": 22
        }
      ],
      "source": [
        "df.head(3)"
      ]
    },
    {
      "cell_type": "markdown",
      "metadata": {
        "id": "zzUEMnDiUScj"
      },
      "source": [
        "<br>\n",
        "\n",
        "### Date_of_journey"
      ]
    },
    {
      "cell_type": "code",
      "execution_count": 23,
      "metadata": {
        "id": "nNOyyMRnUSck"
      },
      "outputs": [],
      "source": [
        "df['Date_of_Journey']=pd.to_datetime(df['Date_of_Journey'])\n",
        "df['Day_of_Journey']=(df['Date_of_Journey']).dt.day\n",
        "df['Month_of_Journey']=(df['Date_of_Journey']).dt.month"
      ]
    },
    {
      "cell_type": "code",
      "execution_count": 24,
      "metadata": {
        "colab": {
          "base_uri": "https://localhost:8080/",
          "height": 450
        },
        "id": "5bI3FXnoUSck",
        "outputId": "76db0a96-9a69-4b6b-c5b1-625ec45520ea"
      },
      "outputs": [
        {
          "output_type": "execute_result",
          "data": {
            "text/plain": [
              "       Airline Date_of_Journey    Source Destination                  Route  \\\n",
              "0       IndiGo      2019-03-24  Banglore   New Delhi              BLR → DEL   \n",
              "1    Air India      2019-01-05   Kolkata    Banglore  CCU → IXR → BBI → BLR   \n",
              "2  Jet Airways      2019-09-06     Delhi      Cochin  DEL → LKO → BOM → COK   \n",
              "\n",
              "  Dep_Time  Arrival_Time Duration Total_Stops Additional_Info  Price  \\\n",
              "0    22:20  01:10 22 Mar   2h 50m    non-stop         No info   3897   \n",
              "1    05:50         13:15   7h 25m     2 stops         No info   7662   \n",
              "2    09:25  04:25 10 Jun      19h     2 stops         No info  13882   \n",
              "\n",
              "   Day_of_Journey  Month_of_Journey  \n",
              "0              24                 3  \n",
              "1               5                 1  \n",
              "2               6                 9  "
            ],
            "text/html": [
              "\n",
              "  <div id=\"df-8183edc1-5169-4a64-9e93-b02185ead0e6\">\n",
              "    <div class=\"colab-df-container\">\n",
              "      <div>\n",
              "<style scoped>\n",
              "    .dataframe tbody tr th:only-of-type {\n",
              "        vertical-align: middle;\n",
              "    }\n",
              "\n",
              "    .dataframe tbody tr th {\n",
              "        vertical-align: top;\n",
              "    }\n",
              "\n",
              "    .dataframe thead th {\n",
              "        text-align: right;\n",
              "    }\n",
              "</style>\n",
              "<table border=\"1\" class=\"dataframe\">\n",
              "  <thead>\n",
              "    <tr style=\"text-align: right;\">\n",
              "      <th></th>\n",
              "      <th>Airline</th>\n",
              "      <th>Date_of_Journey</th>\n",
              "      <th>Source</th>\n",
              "      <th>Destination</th>\n",
              "      <th>Route</th>\n",
              "      <th>Dep_Time</th>\n",
              "      <th>Arrival_Time</th>\n",
              "      <th>Duration</th>\n",
              "      <th>Total_Stops</th>\n",
              "      <th>Additional_Info</th>\n",
              "      <th>Price</th>\n",
              "      <th>Day_of_Journey</th>\n",
              "      <th>Month_of_Journey</th>\n",
              "    </tr>\n",
              "  </thead>\n",
              "  <tbody>\n",
              "    <tr>\n",
              "      <th>0</th>\n",
              "      <td>IndiGo</td>\n",
              "      <td>2019-03-24</td>\n",
              "      <td>Banglore</td>\n",
              "      <td>New Delhi</td>\n",
              "      <td>BLR → DEL</td>\n",
              "      <td>22:20</td>\n",
              "      <td>01:10 22 Mar</td>\n",
              "      <td>2h 50m</td>\n",
              "      <td>non-stop</td>\n",
              "      <td>No info</td>\n",
              "      <td>3897</td>\n",
              "      <td>24</td>\n",
              "      <td>3</td>\n",
              "    </tr>\n",
              "    <tr>\n",
              "      <th>1</th>\n",
              "      <td>Air India</td>\n",
              "      <td>2019-01-05</td>\n",
              "      <td>Kolkata</td>\n",
              "      <td>Banglore</td>\n",
              "      <td>CCU → IXR → BBI → BLR</td>\n",
              "      <td>05:50</td>\n",
              "      <td>13:15</td>\n",
              "      <td>7h 25m</td>\n",
              "      <td>2 stops</td>\n",
              "      <td>No info</td>\n",
              "      <td>7662</td>\n",
              "      <td>5</td>\n",
              "      <td>1</td>\n",
              "    </tr>\n",
              "    <tr>\n",
              "      <th>2</th>\n",
              "      <td>Jet Airways</td>\n",
              "      <td>2019-09-06</td>\n",
              "      <td>Delhi</td>\n",
              "      <td>Cochin</td>\n",
              "      <td>DEL → LKO → BOM → COK</td>\n",
              "      <td>09:25</td>\n",
              "      <td>04:25 10 Jun</td>\n",
              "      <td>19h</td>\n",
              "      <td>2 stops</td>\n",
              "      <td>No info</td>\n",
              "      <td>13882</td>\n",
              "      <td>6</td>\n",
              "      <td>9</td>\n",
              "    </tr>\n",
              "  </tbody>\n",
              "</table>\n",
              "</div>\n",
              "      <button class=\"colab-df-convert\" onclick=\"convertToInteractive('df-8183edc1-5169-4a64-9e93-b02185ead0e6')\"\n",
              "              title=\"Convert this dataframe to an interactive table.\"\n",
              "              style=\"display:none;\">\n",
              "        \n",
              "  <svg xmlns=\"http://www.w3.org/2000/svg\" height=\"24px\"viewBox=\"0 0 24 24\"\n",
              "       width=\"24px\">\n",
              "    <path d=\"M0 0h24v24H0V0z\" fill=\"none\"/>\n",
              "    <path d=\"M18.56 5.44l.94 2.06.94-2.06 2.06-.94-2.06-.94-.94-2.06-.94 2.06-2.06.94zm-11 1L8.5 8.5l.94-2.06 2.06-.94-2.06-.94L8.5 2.5l-.94 2.06-2.06.94zm10 10l.94 2.06.94-2.06 2.06-.94-2.06-.94-.94-2.06-.94 2.06-2.06.94z\"/><path d=\"M17.41 7.96l-1.37-1.37c-.4-.4-.92-.59-1.43-.59-.52 0-1.04.2-1.43.59L10.3 9.45l-7.72 7.72c-.78.78-.78 2.05 0 2.83L4 21.41c.39.39.9.59 1.41.59.51 0 1.02-.2 1.41-.59l7.78-7.78 2.81-2.81c.8-.78.8-2.07 0-2.86zM5.41 20L4 18.59l7.72-7.72 1.47 1.35L5.41 20z\"/>\n",
              "  </svg>\n",
              "      </button>\n",
              "      \n",
              "  <style>\n",
              "    .colab-df-container {\n",
              "      display:flex;\n",
              "      flex-wrap:wrap;\n",
              "      gap: 12px;\n",
              "    }\n",
              "\n",
              "    .colab-df-convert {\n",
              "      background-color: #E8F0FE;\n",
              "      border: none;\n",
              "      border-radius: 50%;\n",
              "      cursor: pointer;\n",
              "      display: none;\n",
              "      fill: #1967D2;\n",
              "      height: 32px;\n",
              "      padding: 0 0 0 0;\n",
              "      width: 32px;\n",
              "    }\n",
              "\n",
              "    .colab-df-convert:hover {\n",
              "      background-color: #E2EBFA;\n",
              "      box-shadow: 0px 1px 2px rgba(60, 64, 67, 0.3), 0px 1px 3px 1px rgba(60, 64, 67, 0.15);\n",
              "      fill: #174EA6;\n",
              "    }\n",
              "\n",
              "    [theme=dark] .colab-df-convert {\n",
              "      background-color: #3B4455;\n",
              "      fill: #D2E3FC;\n",
              "    }\n",
              "\n",
              "    [theme=dark] .colab-df-convert:hover {\n",
              "      background-color: #434B5C;\n",
              "      box-shadow: 0px 1px 3px 1px rgba(0, 0, 0, 0.15);\n",
              "      filter: drop-shadow(0px 1px 2px rgba(0, 0, 0, 0.3));\n",
              "      fill: #FFFFFF;\n",
              "    }\n",
              "  </style>\n",
              "\n",
              "      <script>\n",
              "        const buttonEl =\n",
              "          document.querySelector('#df-8183edc1-5169-4a64-9e93-b02185ead0e6 button.colab-df-convert');\n",
              "        buttonEl.style.display =\n",
              "          google.colab.kernel.accessAllowed ? 'block' : 'none';\n",
              "\n",
              "        async function convertToInteractive(key) {\n",
              "          const element = document.querySelector('#df-8183edc1-5169-4a64-9e93-b02185ead0e6');\n",
              "          const dataTable =\n",
              "            await google.colab.kernel.invokeFunction('convertToInteractive',\n",
              "                                                     [key], {});\n",
              "          if (!dataTable) return;\n",
              "\n",
              "          const docLinkHtml = 'Like what you see? Visit the ' +\n",
              "            '<a target=\"_blank\" href=https://colab.research.google.com/notebooks/data_table.ipynb>data table notebook</a>'\n",
              "            + ' to learn more about interactive tables.';\n",
              "          element.innerHTML = '';\n",
              "          dataTable['output_type'] = 'display_data';\n",
              "          await google.colab.output.renderOutput(dataTable, element);\n",
              "          const docLink = document.createElement('div');\n",
              "          docLink.innerHTML = docLinkHtml;\n",
              "          element.appendChild(docLink);\n",
              "        }\n",
              "      </script>\n",
              "    </div>\n",
              "  </div>\n",
              "  "
            ]
          },
          "metadata": {},
          "execution_count": 24
        }
      ],
      "source": [
        "df.head(3)"
      ]
    },
    {
      "cell_type": "code",
      "execution_count": 25,
      "metadata": {
        "id": "V5GNdROcUScl"
      },
      "outputs": [],
      "source": [
        "# drop the Date_of_journey\n",
        "df.drop([\"Date_of_Journey\"],axis=1,inplace=True)"
      ]
    },
    {
      "cell_type": "markdown",
      "metadata": {
        "id": "-mxOdnySUScl"
      },
      "source": [
        "<br>\n",
        "Let's do the same for the other relative columns\n",
        "<br>\n",
        "\n",
        "## Dep_time"
      ]
    },
    {
      "cell_type": "code",
      "execution_count": 26,
      "metadata": {
        "id": "q2PmG-7bUScm"
      },
      "outputs": [],
      "source": [
        "#covert to datetime\n",
        "df['Dep_hr']=pd.to_datetime(df['Dep_Time']).dt.hour\n",
        "df['Dep_min']=pd.to_datetime(df['Dep_Time']).dt.minute"
      ]
    },
    {
      "cell_type": "code",
      "execution_count": 27,
      "metadata": {
        "id": "T3dBqLVJUScm"
      },
      "outputs": [],
      "source": [
        "#we can now drop the 'Dep_Time'\n",
        "\n",
        "df.drop([\"Dep_Time\"],axis=1,inplace=True)"
      ]
    },
    {
      "cell_type": "markdown",
      "metadata": {
        "id": "nZ3LyTUIUScn"
      },
      "source": [
        "<br>\n",
        "\n",
        "## Arrival_time"
      ]
    },
    {
      "cell_type": "code",
      "execution_count": 28,
      "metadata": {
        "id": "LDUJq08RUScn"
      },
      "outputs": [],
      "source": [
        "\n",
        "df['Arrival_hr']=pd.to_datetime(df['Arrival_Time']).dt.hour\n",
        "df['Arrival_min']=pd.to_datetime(df['Arrival_Time']).dt.minute"
      ]
    },
    {
      "cell_type": "code",
      "execution_count": 29,
      "metadata": {
        "id": "LAE6WvOiUScn"
      },
      "outputs": [],
      "source": [
        "#we can now drop the 'Arrival_Time'\n",
        "\n",
        "df.drop([\"Arrival_Time\"],axis=1,inplace=True)"
      ]
    },
    {
      "cell_type": "markdown",
      "metadata": {
        "id": "IDd_PBVeUSco"
      },
      "source": [
        "<br>\n",
        "\n",
        "## Duration Time"
      ]
    },
    {
      "cell_type": "code",
      "execution_count": 30,
      "metadata": {
        "id": "HySYLkIzUSco"
      },
      "outputs": [],
      "source": [
        "duration=df['Duration'].str.split(' ',expand=True) #split duration datapoints based on space ' '\n",
        "duration[1].fillna('00m',inplace=True)   #fill all \"NAN\" with '00m'\n",
        "df['duration_hr']=duration[0].apply(lambda x: x[:-1]) #select the item at index o and leave the last one (in this case the 'h')\n",
        "df['duration_min']=duration[1].apply(lambda x: x[:-1]) #select the item at index 1 and leave the last one (in this case the 'm')"
      ]
    },
    {
      "cell_type": "code",
      "execution_count": 31,
      "metadata": {
        "id": "v5DSTtYIUScp"
      },
      "outputs": [],
      "source": [
        "#we can now drop the 'Duration'\n",
        "\n",
        "df.drop([\"Duration\"],axis=1,inplace=True)"
      ]
    },
    {
      "cell_type": "code",
      "execution_count": 32,
      "metadata": {
        "colab": {
          "base_uri": "https://localhost:8080/",
          "height": 450
        },
        "id": "DhMFixN6UScp",
        "outputId": "8f80be25-de23-4738-bd6c-f6bc2a44b587"
      },
      "outputs": [
        {
          "output_type": "execute_result",
          "data": {
            "text/plain": [
              "       Airline    Source Destination                  Route Total_Stops  \\\n",
              "0       IndiGo  Banglore   New Delhi              BLR → DEL    non-stop   \n",
              "1    Air India   Kolkata    Banglore  CCU → IXR → BBI → BLR     2 stops   \n",
              "2  Jet Airways     Delhi      Cochin  DEL → LKO → BOM → COK     2 stops   \n",
              "\n",
              "  Additional_Info  Price  Day_of_Journey  Month_of_Journey  Dep_hr  Dep_min  \\\n",
              "0         No info   3897              24                 3      22       20   \n",
              "1         No info   7662               5                 1       5       50   \n",
              "2         No info  13882               6                 9       9       25   \n",
              "\n",
              "   Arrival_hr  Arrival_min duration_hr duration_min  \n",
              "0           1           10           2           50  \n",
              "1          13           15           7           25  \n",
              "2           4           25          19           00  "
            ],
            "text/html": [
              "\n",
              "  <div id=\"df-443b650d-4cd6-46a3-b8d7-a85add33946d\">\n",
              "    <div class=\"colab-df-container\">\n",
              "      <div>\n",
              "<style scoped>\n",
              "    .dataframe tbody tr th:only-of-type {\n",
              "        vertical-align: middle;\n",
              "    }\n",
              "\n",
              "    .dataframe tbody tr th {\n",
              "        vertical-align: top;\n",
              "    }\n",
              "\n",
              "    .dataframe thead th {\n",
              "        text-align: right;\n",
              "    }\n",
              "</style>\n",
              "<table border=\"1\" class=\"dataframe\">\n",
              "  <thead>\n",
              "    <tr style=\"text-align: right;\">\n",
              "      <th></th>\n",
              "      <th>Airline</th>\n",
              "      <th>Source</th>\n",
              "      <th>Destination</th>\n",
              "      <th>Route</th>\n",
              "      <th>Total_Stops</th>\n",
              "      <th>Additional_Info</th>\n",
              "      <th>Price</th>\n",
              "      <th>Day_of_Journey</th>\n",
              "      <th>Month_of_Journey</th>\n",
              "      <th>Dep_hr</th>\n",
              "      <th>Dep_min</th>\n",
              "      <th>Arrival_hr</th>\n",
              "      <th>Arrival_min</th>\n",
              "      <th>duration_hr</th>\n",
              "      <th>duration_min</th>\n",
              "    </tr>\n",
              "  </thead>\n",
              "  <tbody>\n",
              "    <tr>\n",
              "      <th>0</th>\n",
              "      <td>IndiGo</td>\n",
              "      <td>Banglore</td>\n",
              "      <td>New Delhi</td>\n",
              "      <td>BLR → DEL</td>\n",
              "      <td>non-stop</td>\n",
              "      <td>No info</td>\n",
              "      <td>3897</td>\n",
              "      <td>24</td>\n",
              "      <td>3</td>\n",
              "      <td>22</td>\n",
              "      <td>20</td>\n",
              "      <td>1</td>\n",
              "      <td>10</td>\n",
              "      <td>2</td>\n",
              "      <td>50</td>\n",
              "    </tr>\n",
              "    <tr>\n",
              "      <th>1</th>\n",
              "      <td>Air India</td>\n",
              "      <td>Kolkata</td>\n",
              "      <td>Banglore</td>\n",
              "      <td>CCU → IXR → BBI → BLR</td>\n",
              "      <td>2 stops</td>\n",
              "      <td>No info</td>\n",
              "      <td>7662</td>\n",
              "      <td>5</td>\n",
              "      <td>1</td>\n",
              "      <td>5</td>\n",
              "      <td>50</td>\n",
              "      <td>13</td>\n",
              "      <td>15</td>\n",
              "      <td>7</td>\n",
              "      <td>25</td>\n",
              "    </tr>\n",
              "    <tr>\n",
              "      <th>2</th>\n",
              "      <td>Jet Airways</td>\n",
              "      <td>Delhi</td>\n",
              "      <td>Cochin</td>\n",
              "      <td>DEL → LKO → BOM → COK</td>\n",
              "      <td>2 stops</td>\n",
              "      <td>No info</td>\n",
              "      <td>13882</td>\n",
              "      <td>6</td>\n",
              "      <td>9</td>\n",
              "      <td>9</td>\n",
              "      <td>25</td>\n",
              "      <td>4</td>\n",
              "      <td>25</td>\n",
              "      <td>19</td>\n",
              "      <td>00</td>\n",
              "    </tr>\n",
              "  </tbody>\n",
              "</table>\n",
              "</div>\n",
              "      <button class=\"colab-df-convert\" onclick=\"convertToInteractive('df-443b650d-4cd6-46a3-b8d7-a85add33946d')\"\n",
              "              title=\"Convert this dataframe to an interactive table.\"\n",
              "              style=\"display:none;\">\n",
              "        \n",
              "  <svg xmlns=\"http://www.w3.org/2000/svg\" height=\"24px\"viewBox=\"0 0 24 24\"\n",
              "       width=\"24px\">\n",
              "    <path d=\"M0 0h24v24H0V0z\" fill=\"none\"/>\n",
              "    <path d=\"M18.56 5.44l.94 2.06.94-2.06 2.06-.94-2.06-.94-.94-2.06-.94 2.06-2.06.94zm-11 1L8.5 8.5l.94-2.06 2.06-.94-2.06-.94L8.5 2.5l-.94 2.06-2.06.94zm10 10l.94 2.06.94-2.06 2.06-.94-2.06-.94-.94-2.06-.94 2.06-2.06.94z\"/><path d=\"M17.41 7.96l-1.37-1.37c-.4-.4-.92-.59-1.43-.59-.52 0-1.04.2-1.43.59L10.3 9.45l-7.72 7.72c-.78.78-.78 2.05 0 2.83L4 21.41c.39.39.9.59 1.41.59.51 0 1.02-.2 1.41-.59l7.78-7.78 2.81-2.81c.8-.78.8-2.07 0-2.86zM5.41 20L4 18.59l7.72-7.72 1.47 1.35L5.41 20z\"/>\n",
              "  </svg>\n",
              "      </button>\n",
              "      \n",
              "  <style>\n",
              "    .colab-df-container {\n",
              "      display:flex;\n",
              "      flex-wrap:wrap;\n",
              "      gap: 12px;\n",
              "    }\n",
              "\n",
              "    .colab-df-convert {\n",
              "      background-color: #E8F0FE;\n",
              "      border: none;\n",
              "      border-radius: 50%;\n",
              "      cursor: pointer;\n",
              "      display: none;\n",
              "      fill: #1967D2;\n",
              "      height: 32px;\n",
              "      padding: 0 0 0 0;\n",
              "      width: 32px;\n",
              "    }\n",
              "\n",
              "    .colab-df-convert:hover {\n",
              "      background-color: #E2EBFA;\n",
              "      box-shadow: 0px 1px 2px rgba(60, 64, 67, 0.3), 0px 1px 3px 1px rgba(60, 64, 67, 0.15);\n",
              "      fill: #174EA6;\n",
              "    }\n",
              "\n",
              "    [theme=dark] .colab-df-convert {\n",
              "      background-color: #3B4455;\n",
              "      fill: #D2E3FC;\n",
              "    }\n",
              "\n",
              "    [theme=dark] .colab-df-convert:hover {\n",
              "      background-color: #434B5C;\n",
              "      box-shadow: 0px 1px 3px 1px rgba(0, 0, 0, 0.15);\n",
              "      filter: drop-shadow(0px 1px 2px rgba(0, 0, 0, 0.3));\n",
              "      fill: #FFFFFF;\n",
              "    }\n",
              "  </style>\n",
              "\n",
              "      <script>\n",
              "        const buttonEl =\n",
              "          document.querySelector('#df-443b650d-4cd6-46a3-b8d7-a85add33946d button.colab-df-convert');\n",
              "        buttonEl.style.display =\n",
              "          google.colab.kernel.accessAllowed ? 'block' : 'none';\n",
              "\n",
              "        async function convertToInteractive(key) {\n",
              "          const element = document.querySelector('#df-443b650d-4cd6-46a3-b8d7-a85add33946d');\n",
              "          const dataTable =\n",
              "            await google.colab.kernel.invokeFunction('convertToInteractive',\n",
              "                                                     [key], {});\n",
              "          if (!dataTable) return;\n",
              "\n",
              "          const docLinkHtml = 'Like what you see? Visit the ' +\n",
              "            '<a target=\"_blank\" href=https://colab.research.google.com/notebooks/data_table.ipynb>data table notebook</a>'\n",
              "            + ' to learn more about interactive tables.';\n",
              "          element.innerHTML = '';\n",
              "          dataTable['output_type'] = 'display_data';\n",
              "          await google.colab.output.renderOutput(dataTable, element);\n",
              "          const docLink = document.createElement('div');\n",
              "          docLink.innerHTML = docLinkHtml;\n",
              "          element.appendChild(docLink);\n",
              "        }\n",
              "      </script>\n",
              "    </div>\n",
              "  </div>\n",
              "  "
            ]
          },
          "metadata": {},
          "execution_count": 32
        }
      ],
      "source": [
        "df.head(3)"
      ]
    },
    {
      "cell_type": "markdown",
      "metadata": {
        "id": "vf4DoSCmUScq"
      },
      "source": [
        "<br>"
      ]
    },
    {
      "cell_type": "markdown",
      "metadata": {
        "id": "tpcFwEOPUScr"
      },
      "source": [
        "## Count of Airlines"
      ]
    },
    {
      "cell_type": "code",
      "execution_count": 33,
      "metadata": {
        "colab": {
          "base_uri": "https://localhost:8080/"
        },
        "id": "7uqJ4_6mUScs",
        "outputId": "097984e0-c44f-4cce-c228-6505ff6f7daf"
      },
      "outputs": [
        {
          "output_type": "execute_result",
          "data": {
            "text/plain": [
              "Jet Airways                          3849\n",
              "IndiGo                               2053\n",
              "Air India                            1751\n",
              "Multiple carriers                    1196\n",
              "SpiceJet                              818\n",
              "Vistara                               479\n",
              "Air Asia                              319\n",
              "GoAir                                 194\n",
              "Multiple carriers Premium economy      13\n",
              "Jet Airways Business                    6\n",
              "Vistara Premium economy                 3\n",
              "Trujet                                  1\n",
              "Name: Airline, dtype: int64"
            ]
          },
          "metadata": {},
          "execution_count": 33
        }
      ],
      "source": [
        "df['Airline'].value_counts()"
      ]
    },
    {
      "cell_type": "markdown",
      "metadata": {
        "id": "xjlQo_ViUSct"
      },
      "source": [
        "<br>\n",
        "\n",
        "## Airline vs Price"
      ]
    },
    {
      "cell_type": "code",
      "execution_count": 41,
      "metadata": {
        "colab": {
          "base_uri": "https://localhost:8080/",
          "height": 862
        },
        "id": "ktA3D0PQUSct",
        "outputId": "bc378e2b-c5db-4953-edbf-530402c3f41e"
      },
      "outputs": [
        {
          "output_type": "stream",
          "name": "stderr",
          "text": [
            "/usr/local/lib/python3.8/dist-packages/seaborn/_decorators.py:36: FutureWarning: Pass the following variables as keyword args: x, y. From version 0.12, the only valid positional argument will be `data`, and passing other arguments without an explicit keyword will result in an error or misinterpretation.\n",
            "  warnings.warn(\n"
          ]
        },
        {
          "output_type": "execute_result",
          "data": {
            "text/plain": [
              "(array([ 0,  1,  2,  3,  4,  5,  6,  7,  8,  9, 10, 11]),\n",
              " <a list of 12 Text major ticklabel objects>)"
            ]
          },
          "metadata": {},
          "execution_count": 41
        },
        {
          "output_type": "display_data",
          "data": {
            "text/plain": [
              "<Figure size 1080x720 with 1 Axes>"
            ],
            "image/png": "[encoded data removed]"
          },
          "metadata": {
            "needs_background": "light"
          }
        }
      ],
      "source": [
        "Airprices=df.groupby('Airline')['Price'].mean().sort_values(ascending=False)\n",
        "plt.figure(figsize=(15,10))\n",
        "sns.barplot(Airprices.index,Airprices.values)\n",
        "plt.xticks(rotation=270)"
      ]
    },
    {
      "cell_type": "markdown",
      "metadata": {
        "id": "TfxveH3XUScu"
      },
      "source": [
        "**Jet Airways Business has the highest price with Trujet having the lowest**"
      ]
    },
    {
      "cell_type": "code",
      "execution_count": 42,
      "metadata": {
        "colab": {
          "base_uri": "https://localhost:8080/",
          "height": 553
        },
        "id": "WyJWEXueUScu",
        "outputId": "9769b443-8d73-4974-8e0a-86bbc19faeec"
      },
      "outputs": [
        {
          "output_type": "execute_result",
          "data": {
            "text/plain": [
              "<function matplotlib.pyplot.show(*args, **kw)>"
            ]
          },
          "metadata": {},
          "execution_count": 42
        },
        {
          "output_type": "display_data",
          "data": {
            "text/plain": [
              "<Figure size 1296x720 with 1 Axes>"
            ],
            "image/png": "[encoded data removed]"
          },
          "metadata": {
            "needs_background": "light"
          }
        }
      ],
      "source": [
        "plt.figure(figsize=(18,10))\n",
        "sns.boxplot(y='Price',x='Airline',data= df.sort_values('Price',ascending=False))\n",
        "plt.show"
      ]
    },
    {
      "cell_type": "markdown",
      "metadata": {
        "id": "wuZZ9vnJUScu"
      },
      "source": [
        "<br>\n",
        "\n",
        "## Price based on number of stops"
      ]
    },
    {
      "cell_type": "code",
      "execution_count": 43,
      "metadata": {
        "colab": {
          "base_uri": "https://localhost:8080/"
        },
        "id": "1DjImHuyUScv",
        "outputId": "a4779444-67cc-4da2-be35-2b13e097d2b9"
      },
      "outputs": [
        {
          "output_type": "execute_result",
          "data": {
            "text/plain": [
              "Airline                            Total_Stops\n",
              "Air Asia                           1 stop          7078.325581\n",
              "                                   2 stops         6341.888889\n",
              "                                   non-stop        4492.331492\n",
              "Air India                          1 stop          9041.509259\n",
              "                                   2 stops        12092.779101\n",
              "                                   3 stops        12208.054054\n",
              "                                   4 stops        17686.000000\n",
              "                                   non-stop        5605.326139\n",
              "GoAir                              1 stop          6884.676471\n",
              "                                   non-stop        4726.173913\n",
              "IndiGo                             1 stop          7104.717528\n",
              "                                   2 stops         7507.526316\n",
              "                                   non-stop        4731.174053\n",
              "Jet Airways                        1 stop         12512.741223\n",
              "                                   2 stops        13387.247467\n",
              "                                   non-stop        6175.078652\n",
              "Jet Airways Business               1 stop         62844.250000\n",
              "                                   2 stops        49387.500000\n",
              "Multiple carriers                  1 stop         10711.316157\n",
              "                                   2 stops        14809.395349\n",
              "                                   3 stops        17292.750000\n",
              "Multiple carriers Premium economy  1 stop         11418.846154\n",
              "SpiceJet                           1 stop          6750.560811\n",
              "                                   non-stop        3805.423881\n",
              "Trujet                             1 stop          4140.000000\n",
              "Vistara                            1 stop          9641.148837\n",
              "                                   non-stop        6293.954545\n",
              "Vistara Premium economy            non-stop        8962.333333\n",
              "Name: Price, dtype: float64"
            ]
          },
          "metadata": {},
          "execution_count": 43
        }
      ],
      "source": [
        "df.groupby(['Airline','Total_Stops'])['Price'].mean()"
      ]
    },
    {
      "cell_type": "code",
      "execution_count": 44,
      "metadata": {
        "id": "R-xye4NdUScv",
        "colab": {
          "base_uri": "https://localhost:8080/",
          "height": 683
        },
        "outputId": "d4ce319d-4859-43e6-c7fe-4cef46a2a2ac"
      },
      "outputs": [
        {
          "output_type": "display_data",
          "data": {
            "text/plain": [
              "<Figure size 1296x720 with 1 Axes>"
            ],
            "image/png": "[encoded data removed]"
          },
          "metadata": {
            "needs_background": "light"
          }
        }
      ],
      "source": [
        "plt.figure(figsize=(18,10))\n",
        "ax=sns.barplot(x=df['Airline'],y=df['Price'],hue=df['Total_Stops'],palette=\"Set1\")\n",
        "ax.set_xticklabels(ax.get_xticklabels(),rotation=90)\n",
        "plt.show()"
      ]
    },
    {
      "cell_type": "markdown",
      "metadata": {
        "id": "gz9p--REUScw"
      },
      "source": [
        "**One stop and two stpos Jet Airways Business is having the highest price**\n",
        "\n",
        "<br>"
      ]
    },
    {
      "cell_type": "code",
      "execution_count": 45,
      "metadata": {
        "colab": {
          "base_uri": "https://localhost:8080/"
        },
        "id": "f6Nxr4T9UScw",
        "outputId": "2b6bd63c-6895-4745-bfec-5cc53d30342b"
      },
      "outputs": [
        {
          "output_type": "execute_result",
          "data": {
            "text/plain": [
              "Delhi       4536\n",
              "Kolkata     2871\n",
              "Banglore    2197\n",
              "Mumbai       697\n",
              "Chennai      381\n",
              "Name: Source, dtype: int64"
            ]
          },
          "metadata": {},
          "execution_count": 45
        }
      ],
      "source": [
        "df['Source'].value_counts()"
      ]
    },
    {
      "cell_type": "markdown",
      "metadata": {
        "id": "e8hYkUlLUScw"
      },
      "source": [
        "<br>\n",
        "\n",
        "## Source vs Price"
      ]
    },
    {
      "cell_type": "code",
      "execution_count": 46,
      "metadata": {
        "colab": {
          "base_uri": "https://localhost:8080/",
          "height": 623
        },
        "id": "yqpqI_xuUScx",
        "outputId": "796cb20e-4ace-4664-db94-e1efd8a66807"
      },
      "outputs": [
        {
          "output_type": "execute_result",
          "data": {
            "text/plain": [
              "<function matplotlib.pyplot.show(*args, **kw)>"
            ]
          },
          "metadata": {},
          "execution_count": 46
        },
        {
          "output_type": "display_data",
          "data": {
            "text/plain": [
              "<Figure size 1080x720 with 1 Axes>"
            ],
            "image/png": "[encoded data removed]"
          },
          "metadata": {
            "needs_background": "light"
          }
        }
      ],
      "source": [
        "plt.figure(figsize=(15,10))\n",
        "sns.barplot(y='Price',x='Source',data=df.sort_values('Price',ascending=False))\n",
        "plt.show"
      ]
    },
    {
      "cell_type": "markdown",
      "metadata": {
        "id": "Jn0mGwI-UScx"
      },
      "source": [
        "<br>\n",
        "\n",
        "## Destination vs Price"
      ]
    },
    {
      "cell_type": "code",
      "execution_count": 47,
      "metadata": {
        "colab": {
          "base_uri": "https://localhost:8080/",
          "height": 623
        },
        "id": "3ju_umFHUScx",
        "outputId": "30679283-e698-4d0c-fbe3-116020e3f73d"
      },
      "outputs": [
        {
          "output_type": "execute_result",
          "data": {
            "text/plain": [
              "<function matplotlib.pyplot.show(*args, **kw)>"
            ]
          },
          "metadata": {},
          "execution_count": 47
        },
        {
          "output_type": "display_data",
          "data": {
            "text/plain": [
              "<Figure size 1080x720 with 1 Axes>"
            ],
            "image/png": "[encoded data removed]"
          },
          "metadata": {
            "needs_background": "light"
          }
        }
      ],
      "source": [
        "plt.figure(figsize=(15,10))\n",
        "sns.barplot(y='Price',x='Destination',data=df.sort_values('Price',ascending=False))\n",
        "plt.show"
      ]
    },
    {
      "cell_type": "code",
      "execution_count": 48,
      "metadata": {
        "colab": {
          "base_uri": "https://localhost:8080/"
        },
        "id": "AQFdqnVEUScy",
        "outputId": "b9afdb69-2d47-4b3b-808c-430463949f44"
      },
      "outputs": [
        {
          "output_type": "execute_result",
          "data": {
            "text/plain": [
              "Cochin       4536\n",
              "Banglore     2871\n",
              "Delhi        1265\n",
              "New Delhi     932\n",
              "Hyderabad     697\n",
              "Kolkata       381\n",
              "Name: Destination, dtype: int64"
            ]
          },
          "metadata": {},
          "execution_count": 48
        }
      ],
      "source": [
        "df['Destination'].value_counts()"
      ]
    },
    {
      "cell_type": "code",
      "execution_count": 49,
      "metadata": {
        "id": "SxGERxj_UScy"
      },
      "outputs": [],
      "source": [
        "for i in df:\n",
        "    df.replace('New Delhi','Delhi',inplace=True)"
      ]
    },
    {
      "cell_type": "code",
      "execution_count": 50,
      "metadata": {
        "colab": {
          "base_uri": "https://localhost:8080/"
        },
        "id": "NSHDszKPUScy",
        "outputId": "7346c6ef-ead7-4951-e62e-d281cea0c624"
      },
      "outputs": [
        {
          "output_type": "execute_result",
          "data": {
            "text/plain": [
              "array(['Delhi', 'Banglore', 'Cochin', 'Kolkata', 'Hyderabad'],\n",
              "      dtype=object)"
            ]
          },
          "metadata": {},
          "execution_count": 50
        }
      ],
      "source": [
        "df['Destination'].unique()"
      ]
    },
    {
      "cell_type": "code",
      "execution_count": 51,
      "metadata": {
        "colab": {
          "base_uri": "https://localhost:8080/",
          "height": 606
        },
        "id": "Q5KjhWg-UScz",
        "outputId": "ccfdcf6b-d902-4205-ddda-3c0fe7ae541f"
      },
      "outputs": [
        {
          "output_type": "display_data",
          "data": {
            "text/plain": [
              "<Figure size 1080x720 with 1 Axes>"
            ],
            "image/png": "[encoded data removed]"
          },
          "metadata": {
            "needs_background": "light"
          }
        }
      ],
      "source": [
        "plt.figure(figsize=(15,10))\n",
        "sns.barplot(y='Price',x='Destination',data=df.sort_values('Price',ascending=False))\n",
        "plt.show()"
      ]
    },
    {
      "cell_type": "code",
      "execution_count": 52,
      "metadata": {
        "colab": {
          "base_uri": "https://localhost:8080/"
        },
        "id": "ZyUF-iyhUScz",
        "outputId": "e8f1e410-1b99-4da2-864b-71f175abc8ba"
      },
      "outputs": [
        {
          "output_type": "execute_result",
          "data": {
            "text/plain": [
              "Cochin       4536\n",
              "Banglore     2871\n",
              "Delhi        2197\n",
              "Hyderabad     697\n",
              "Kolkata       381\n",
              "Name: Destination, dtype: int64"
            ]
          },
          "metadata": {},
          "execution_count": 52
        }
      ],
      "source": [
        "df['Destination'].value_counts()"
      ]
    },
    {
      "cell_type": "code",
      "execution_count": 53,
      "metadata": {
        "colab": {
          "base_uri": "https://localhost:8080/",
          "height": 564
        },
        "id": "OozyONiEUSc0",
        "outputId": "be27fc48-20c7-42ef-f62f-55bac8886589"
      },
      "outputs": [
        {
          "output_type": "display_data",
          "data": {
            "text/plain": [
              "<Figure size 1656x864 with 2 Axes>"
            ],
            "image/png": "[encoded data removed]"
          },
          "metadata": {
            "needs_background": "light"
          }
        }
      ],
      "source": [
        "plt.figure(figsize=(23,12))\n",
        "sns.heatmap(df.corr(),annot=True);"
      ]
    },
    {
      "cell_type": "markdown",
      "metadata": {
        "id": "aUH_5Fb8USc9"
      },
      "source": [
        "The features are less correlated which is a good thing for us to avoid **Multicollinearity**"
      ]
    },
    {
      "cell_type": "markdown",
      "metadata": {
        "id": "RjSWFC5CUSc9"
      },
      "source": [
        "<br>\n",
        "<br>\n",
        "\n",
        "## Apply Onehot Encoding on the categorical variables"
      ]
    },
    {
      "cell_type": "code",
      "execution_count": 54,
      "metadata": {
        "id": "BcvVIHwvUSc9"
      },
      "outputs": [],
      "source": [
        "#Handling Categorical Values \n",
        "df['Total_Stops']=df['Total_Stops'].map({'non-stop':0, '2 stops':2, '1 stop':1, '3 stops':3, '4 stops':4})\n",
        "air_dummy=pd.get_dummies(df['Airline'],drop_first=True)\n",
        "# print(df['Source'].value_counts())\n",
        "# print(df['Destination'].value_counts())\n",
        "\n",
        "source_dest_dummy=pd.get_dummies(df[['Source','Destination']],drop_first=True)\n",
        "df=pd.concat([air_dummy,source_dest_dummy,df],axis=1)"
      ]
    },
    {
      "cell_type": "code",
      "execution_count": 55,
      "metadata": {
        "id": "AbrylYCXUSc-"
      },
      "outputs": [],
      "source": [
        "df.drop(['Airline','Source','Destination'],inplace=True,axis=1)"
      ]
    },
    {
      "cell_type": "code",
      "execution_count": 56,
      "metadata": {
        "colab": {
          "base_uri": "https://localhost:8080/",
          "height": 352
        },
        "id": "d1sBOc83USc-",
        "outputId": "c8cc8e14-7db1-419b-ffbf-2938e570718f"
      },
      "outputs": [
        {
          "output_type": "execute_result",
          "data": {
            "text/plain": [
              "   Air India  GoAir  IndiGo  Jet Airways  Jet Airways Business  \\\n",
              "0          0      0       1            0                     0   \n",
              "1          1      0       0            0                     0   \n",
              "2          0      0       0            1                     0   \n",
              "3          0      0       1            0                     0   \n",
              "4          0      0       1            0                     0   \n",
              "\n",
              "   Multiple carriers  Multiple carriers Premium economy  SpiceJet  Trujet  \\\n",
              "0                  0                                  0         0       0   \n",
              "1                  0                                  0         0       0   \n",
              "2                  0                                  0         0       0   \n",
              "3                  0                                  0         0       0   \n",
              "4                  0                                  0         0       0   \n",
              "\n",
              "   Vistara  ...  Additional_Info  Price  Day_of_Journey  Month_of_Journey  \\\n",
              "0        0  ...          No info   3897              24                 3   \n",
              "1        0  ...          No info   7662               5                 1   \n",
              "2        0  ...          No info  13882               6                 9   \n",
              "3        0  ...          No info   6218               5                12   \n",
              "4        0  ...          No info  13302               3                 1   \n",
              "\n",
              "   Dep_hr  Dep_min  Arrival_hr  Arrival_min  duration_hr duration_min  \n",
              "0      22       20           1           10            2           50  \n",
              "1       5       50          13           15            7           25  \n",
              "2       9       25           4           25           19           00  \n",
              "3      18        5          23           30            5           25  \n",
              "4      16       50          21           35            4           45  \n",
              "\n",
              "[5 rows x 31 columns]"
            ],
            "text/html": [
              "\n",
              "  <div id=\"df-55531288-90c3-4f41-9e5f-d7da9dc12422\">\n",
              "    <div class=\"colab-df-container\">\n",
              "      <div>\n",
              "<style scoped>\n",
              "    .dataframe tbody tr th:only-of-type {\n",
              "        vertical-align: middle;\n",
              "    }\n",
              "\n",
              "    .dataframe tbody tr th {\n",
              "        vertical-align: top;\n",
              "    }\n",
              "\n",
              "    .dataframe thead th {\n",
              "        text-align: right;\n",
              "    }\n",
              "</style>\n",
              "<table border=\"1\" class=\"dataframe\">\n",
              "  <thead>\n",
              "    <tr style=\"text-align: right;\">\n",
              "      <th></th>\n",
              "      <th>Air India</th>\n",
              "      <th>GoAir</th>\n",
              "      <th>IndiGo</th>\n",
              "      <th>Jet Airways</th>\n",
              "      <th>Jet Airways Business</th>\n",
              "      <th>Multiple carriers</th>\n",
              "      <th>Multiple carriers Premium economy</th>\n",
              "      <th>SpiceJet</th>\n",
              "      <th>Trujet</th>\n",
              "      <th>Vistara</th>\n",
              "      <th>...</th>\n",
              "      <th>Additional_Info</th>\n",
              "      <th>Price</th>\n",
              "      <th>Day_of_Journey</th>\n",
              "      <th>Month_of_Journey</th>\n",
              "      <th>Dep_hr</th>\n",
              "      <th>Dep_min</th>\n",
              "      <th>Arrival_hr</th>\n",
              "      <th>Arrival_min</th>\n",
              "      <th>duration_hr</th>\n",
              "      <th>duration_min</th>\n",
              "    </tr>\n",
              "  </thead>\n",
              "  <tbody>\n",
              "    <tr>\n",
              "      <th>0</th>\n",
              "      <td>0</td>\n",
              "      <td>0</td>\n",
              "      <td>1</td>\n",
              "      <td>0</td>\n",
              "      <td>0</td>\n",
              "      <td>0</td>\n",
              "      <td>0</td>\n",
              "      <td>0</td>\n",
              "      <td>0</td>\n",
              "      <td>0</td>\n",
              "      <td>...</td>\n",
              "      <td>No info</td>\n",
              "      <td>3897</td>\n",
              "      <td>24</td>\n",
              "      <td>3</td>\n",
              "      <td>22</td>\n",
              "      <td>20</td>\n",
              "      <td>1</td>\n",
              "      <td>10</td>\n",
              "      <td>2</td>\n",
              "      <td>50</td>\n",
              "    </tr>\n",
              "    <tr>\n",
              "      <th>1</th>\n",
              "      <td>1</td>\n",
              "      <td>0</td>\n",
              "      <td>0</td>\n",
              "      <td>0</td>\n",
              "      <td>0</td>\n",
              "      <td>0</td>\n",
              "      <td>0</td>\n",
              "      <td>0</td>\n",
              "      <td>0</td>\n",
              "      <td>0</td>\n",
              "      <td>...</td>\n",
              "      <td>No info</td>\n",
              "      <td>7662</td>\n",
              "      <td>5</td>\n",
              "      <td>1</td>\n",
              "      <td>5</td>\n",
              "      <td>50</td>\n",
              "      <td>13</td>\n",
              "      <td>15</td>\n",
              "      <td>7</td>\n",
              "      <td>25</td>\n",
              "    </tr>\n",
              "    <tr>\n",
              "      <th>2</th>\n",
              "      <td>0</td>\n",
              "      <td>0</td>\n",
              "      <td>0</td>\n",
              "      <td>1</td>\n",
              "      <td>0</td>\n",
              "      <td>0</td>\n",
              "      <td>0</td>\n",
              "      <td>0</td>\n",
              "      <td>0</td>\n",
              "      <td>0</td>\n",
              "      <td>...</td>\n",
              "      <td>No info</td>\n",
              "      <td>13882</td>\n",
              "      <td>6</td>\n",
              "      <td>9</td>\n",
              "      <td>9</td>\n",
              "      <td>25</td>\n",
              "      <td>4</td>\n",
              "      <td>25</td>\n",
              "      <td>19</td>\n",
              "      <td>00</td>\n",
              "    </tr>\n",
              "    <tr>\n",
              "      <th>3</th>\n",
              "      <td>0</td>\n",
              "      <td>0</td>\n",
              "      <td>1</td>\n",
              "      <td>0</td>\n",
              "      <td>0</td>\n",
              "      <td>0</td>\n",
              "      <td>0</td>\n",
              "      <td>0</td>\n",
              "      <td>0</td>\n",
              "      <td>0</td>\n",
              "      <td>...</td>\n",
              "      <td>No info</td>\n",
              "      <td>6218</td>\n",
              "      <td>5</td>\n",
              "      <td>12</td>\n",
              "      <td>18</td>\n",
              "      <td>5</td>\n",
              "      <td>23</td>\n",
              "      <td>30</td>\n",
              "      <td>5</td>\n",
              "      <td>25</td>\n",
              "    </tr>\n",
              "    <tr>\n",
              "      <th>4</th>\n",
              "      <td>0</td>\n",
              "      <td>0</td>\n",
              "      <td>1</td>\n",
              "      <td>0</td>\n",
              "      <td>0</td>\n",
              "      <td>0</td>\n",
              "      <td>0</td>\n",
              "      <td>0</td>\n",
              "      <td>0</td>\n",
              "      <td>0</td>\n",
              "      <td>...</td>\n",
              "      <td>No info</td>\n",
              "      <td>13302</td>\n",
              "      <td>3</td>\n",
              "      <td>1</td>\n",
              "      <td>16</td>\n",
              "      <td>50</td>\n",
              "      <td>21</td>\n",
              "      <td>35</td>\n",
              "      <td>4</td>\n",
              "      <td>45</td>\n",
              "    </tr>\n",
              "  </tbody>\n",
              "</table>\n",
              "<p>5 rows × 31 columns</p>\n",
              "</div>\n",
              "      <button class=\"colab-df-convert\" onclick=\"convertToInteractive('df-55531288-90c3-4f41-9e5f-d7da9dc12422')\"\n",
              "              title=\"Convert this dataframe to an interactive table.\"\n",
              "              style=\"display:none;\">\n",
              "        \n",
              "  <svg xmlns=\"http://www.w3.org/2000/svg\" height=\"24px\"viewBox=\"0 0 24 24\"\n",
              "       width=\"24px\">\n",
              "    <path d=\"M0 0h24v24H0V0z\" fill=\"none\"/>\n",
              "    <path d=\"M18.56 5.44l.94 2.06.94-2.06 2.06-.94-2.06-.94-.94-2.06-.94 2.06-2.06.94zm-11 1L8.5 8.5l.94-2.06 2.06-.94-2.06-.94L8.5 2.5l-.94 2.06-2.06.94zm10 10l.94 2.06.94-2.06 2.06-.94-2.06-.94-.94-2.06-.94 2.06-2.06.94z\"/><path d=\"M17.41 7.96l-1.37-1.37c-.4-.4-.92-.59-1.43-.59-.52 0-1.04.2-1.43.59L10.3 9.45l-7.72 7.72c-.78.78-.78 2.05 0 2.83L4 21.41c.39.39.9.59 1.41.59.51 0 1.02-.2 1.41-.59l7.78-7.78 2.81-2.81c.8-.78.8-2.07 0-2.86zM5.41 20L4 18.59l7.72-7.72 1.47 1.35L5.41 20z\"/>\n",
              "  </svg>\n",
              "      </button>\n",
              "      \n",
              "  <style>\n",
              "    .colab-df-container {\n",
              "      display:flex;\n",
              "      flex-wrap:wrap;\n",
              "      gap: 12px;\n",
              "    }\n",
              "\n",
              "    .colab-df-convert {\n",
              "      background-color: #E8F0FE;\n",
              "      border: none;\n",
              "      border-radius: 50%;\n",
              "      cursor: pointer;\n",
              "      display: none;\n",
              "      fill: #1967D2;\n",
              "      height: 32px;\n",
              "      padding: 0 0 0 0;\n",
              "      width: 32px;\n",
              "    }\n",
              "\n",
              "    .colab-df-convert:hover {\n",
              "      background-color: #E2EBFA;\n",
              "      box-shadow: 0px 1px 2px rgba(60, 64, 67, 0.3), 0px 1px 3px 1px rgba(60, 64, 67, 0.15);\n",
              "      fill: #174EA6;\n",
              "    }\n",
              "\n",
              "    [theme=dark] .colab-df-convert {\n",
              "      background-color: #3B4455;\n",
              "      fill: #D2E3FC;\n",
              "    }\n",
              "\n",
              "    [theme=dark] .colab-df-convert:hover {\n",
              "      background-color: #434B5C;\n",
              "      box-shadow: 0px 1px 3px 1px rgba(0, 0, 0, 0.15);\n",
              "      filter: drop-shadow(0px 1px 2px rgba(0, 0, 0, 0.3));\n",
              "      fill: #FFFFFF;\n",
              "    }\n",
              "  </style>\n",
              "\n",
              "      <script>\n",
              "        const buttonEl =\n",
              "          document.querySelector('#df-55531288-90c3-4f41-9e5f-d7da9dc12422 button.colab-df-convert');\n",
              "        buttonEl.style.display =\n",
              "          google.colab.kernel.accessAllowed ? 'block' : 'none';\n",
              "\n",
              "        async function convertToInteractive(key) {\n",
              "          const element = document.querySelector('#df-55531288-90c3-4f41-9e5f-d7da9dc12422');\n",
              "          const dataTable =\n",
              "            await google.colab.kernel.invokeFunction('convertToInteractive',\n",
              "                                                     [key], {});\n",
              "          if (!dataTable) return;\n",
              "\n",
              "          const docLinkHtml = 'Like what you see? Visit the ' +\n",
              "            '<a target=\"_blank\" href=https://colab.research.google.com/notebooks/data_table.ipynb>data table notebook</a>'\n",
              "            + ' to learn more about interactive tables.';\n",
              "          element.innerHTML = '';\n",
              "          dataTable['output_type'] = 'display_data';\n",
              "          await google.colab.output.renderOutput(dataTable, element);\n",
              "          const docLink = document.createElement('div');\n",
              "          docLink.innerHTML = docLinkHtml;\n",
              "          element.appendChild(docLink);\n",
              "        }\n",
              "      </script>\n",
              "    </div>\n",
              "  </div>\n",
              "  "
            ]
          },
          "metadata": {},
          "execution_count": 56
        }
      ],
      "source": [
        "df.head()"
      ]
    },
    {
      "cell_type": "code",
      "execution_count": 57,
      "metadata": {
        "colab": {
          "base_uri": "https://localhost:8080/"
        },
        "id": "zskbuQ9uUSc_",
        "outputId": "389695f5-bbc3-43d4-998f-e6d459d1d597"
      },
      "outputs": [
        {
          "output_type": "execute_result",
          "data": {
            "text/plain": [
              "(10682, 31)"
            ]
          },
          "metadata": {},
          "execution_count": 57
        }
      ],
      "source": [
        "df.shape"
      ]
    },
    {
      "cell_type": "markdown",
      "metadata": {
        "id": "CFpf8baKUSc_"
      },
      "source": [
        "<br>\n",
        "<br>\n",
        "<br>\n",
        "<br>"
      ]
    },
    {
      "cell_type": "markdown",
      "metadata": {
        "id": "E2vmIiBJUSdA"
      },
      "source": [
        "# **Test Data**"
      ]
    },
    {
      "cell_type": "code",
      "execution_count": 58,
      "metadata": {
        "id": "Okl0cOoWUSdA"
      },
      "outputs": [],
      "source": [
        "df_test=pd.read_excel(\"/content/drive/MyDrive/Machine_Learning_Project/Flight-Price-Predict/Test_set.xlsx\")"
      ]
    },
    {
      "cell_type": "code",
      "execution_count": 59,
      "metadata": {
        "colab": {
          "base_uri": "https://localhost:8080/",
          "height": 476
        },
        "id": "qLuHcchHUSdB",
        "outputId": "c90ee074-b47f-4240-c1d9-1ca5b8ac44d5"
      },
      "outputs": [
        {
          "output_type": "execute_result",
          "data": {
            "text/plain": [
              "             Airline Date_of_Journey    Source Destination            Route  \\\n",
              "0        Jet Airways       6/06/2019     Delhi      Cochin  DEL → BOM → COK   \n",
              "1             IndiGo      12/05/2019   Kolkata    Banglore  CCU → MAA → BLR   \n",
              "2        Jet Airways      21/05/2019     Delhi      Cochin  DEL → BOM → COK   \n",
              "3  Multiple carriers      21/05/2019     Delhi      Cochin  DEL → BOM → COK   \n",
              "4           Air Asia      24/06/2019  Banglore       Delhi        BLR → DEL   \n",
              "\n",
              "  Dep_Time  Arrival_Time Duration Total_Stops              Additional_Info  \n",
              "0    17:30  04:25 07 Jun  10h 55m      1 stop                      No info  \n",
              "1    06:20         10:20       4h      1 stop                      No info  \n",
              "2    19:15  19:00 22 May  23h 45m      1 stop  In-flight meal not included  \n",
              "3    08:00         21:00      13h      1 stop                      No info  \n",
              "4    23:55  02:45 25 Jun   2h 50m    non-stop                      No info  "
            ],
            "text/html": [
              "\n",
              "  <div id=\"df-23011924-4dd0-4f58-b940-7f563605d93a\">\n",
              "    <div class=\"colab-df-container\">\n",
              "      <div>\n",
              "<style scoped>\n",
              "    .dataframe tbody tr th:only-of-type {\n",
              "        vertical-align: middle;\n",
              "    }\n",
              "\n",
              "    .dataframe tbody tr th {\n",
              "        vertical-align: top;\n",
              "    }\n",
              "\n",
              "    .dataframe thead th {\n",
              "        text-align: right;\n",
              "    }\n",
              "</style>\n",
              "<table border=\"1\" class=\"dataframe\">\n",
              "  <thead>\n",
              "    <tr style=\"text-align: right;\">\n",
              "      <th></th>\n",
              "      <th>Airline</th>\n",
              "      <th>Date_of_Journey</th>\n",
              "      <th>Source</th>\n",
              "      <th>Destination</th>\n",
              "      <th>Route</th>\n",
              "      <th>Dep_Time</th>\n",
              "      <th>Arrival_Time</th>\n",
              "      <th>Duration</th>\n",
              "      <th>Total_Stops</th>\n",
              "      <th>Additional_Info</th>\n",
              "    </tr>\n",
              "  </thead>\n",
              "  <tbody>\n",
              "    <tr>\n",
              "      <th>0</th>\n",
              "      <td>Jet Airways</td>\n",
              "      <td>6/06/2019</td>\n",
              "      <td>Delhi</td>\n",
              "      <td>Cochin</td>\n",
              "      <td>DEL → BOM → COK</td>\n",
              "      <td>17:30</td>\n",
              "      <td>04:25 07 Jun</td>\n",
              "      <td>10h 55m</td>\n",
              "      <td>1 stop</td>\n",
              "      <td>No info</td>\n",
              "    </tr>\n",
              "    <tr>\n",
              "      <th>1</th>\n",
              "      <td>IndiGo</td>\n",
              "      <td>12/05/2019</td>\n",
              "      <td>Kolkata</td>\n",
              "      <td>Banglore</td>\n",
              "      <td>CCU → MAA → BLR</td>\n",
              "      <td>06:20</td>\n",
              "      <td>10:20</td>\n",
              "      <td>4h</td>\n",
              "      <td>1 stop</td>\n",
              "      <td>No info</td>\n",
              "    </tr>\n",
              "    <tr>\n",
              "      <th>2</th>\n",
              "      <td>Jet Airways</td>\n",
              "      <td>21/05/2019</td>\n",
              "      <td>Delhi</td>\n",
              "      <td>Cochin</td>\n",
              "      <td>DEL → BOM → COK</td>\n",
              "      <td>19:15</td>\n",
              "      <td>19:00 22 May</td>\n",
              "      <td>23h 45m</td>\n",
              "      <td>1 stop</td>\n",
              "      <td>In-flight meal not included</td>\n",
              "    </tr>\n",
              "    <tr>\n",
              "      <th>3</th>\n",
              "      <td>Multiple carriers</td>\n",
              "      <td>21/05/2019</td>\n",
              "      <td>Delhi</td>\n",
              "      <td>Cochin</td>\n",
              "      <td>DEL → BOM → COK</td>\n",
              "      <td>08:00</td>\n",
              "      <td>21:00</td>\n",
              "      <td>13h</td>\n",
              "      <td>1 stop</td>\n",
              "      <td>No info</td>\n",
              "    </tr>\n",
              "    <tr>\n",
              "      <th>4</th>\n",
              "      <td>Air Asia</td>\n",
              "      <td>24/06/2019</td>\n",
              "      <td>Banglore</td>\n",
              "      <td>Delhi</td>\n",
              "      <td>BLR → DEL</td>\n",
              "      <td>23:55</td>\n",
              "      <td>02:45 25 Jun</td>\n",
              "      <td>2h 50m</td>\n",
              "      <td>non-stop</td>\n",
              "      <td>No info</td>\n",
              "    </tr>\n",
              "  </tbody>\n",
              "</table>\n",
              "</div>\n",
              "      <button class=\"colab-df-convert\" onclick=\"convertToInteractive('df-23011924-4dd0-4f58-b940-7f563605d93a')\"\n",
              "              title=\"Convert this dataframe to an interactive table.\"\n",
              "              style=\"display:none;\">\n",
              "        \n",
              "  <svg xmlns=\"http://www.w3.org/2000/svg\" height=\"24px\"viewBox=\"0 0 24 24\"\n",
              "       width=\"24px\">\n",
              "    <path d=\"M0 0h24v24H0V0z\" fill=\"none\"/>\n",
              "    <path d=\"M18.56 5.44l.94 2.06.94-2.06 2.06-.94-2.06-.94-.94-2.06-.94 2.06-2.06.94zm-11 1L8.5 8.5l.94-2.06 2.06-.94-2.06-.94L8.5 2.5l-.94 2.06-2.06.94zm10 10l.94 2.06.94-2.06 2.06-.94-2.06-.94-.94-2.06-.94 2.06-2.06.94z\"/><path d=\"M17.41 7.96l-1.37-1.37c-.4-.4-.92-.59-1.43-.59-.52 0-1.04.2-1.43.59L10.3 9.45l-7.72 7.72c-.78.78-.78 2.05 0 2.83L4 21.41c.39.39.9.59 1.41.59.51 0 1.02-.2 1.41-.59l7.78-7.78 2.81-2.81c.8-.78.8-2.07 0-2.86zM5.41 20L4 18.59l7.72-7.72 1.47 1.35L5.41 20z\"/>\n",
              "  </svg>\n",
              "      </button>\n",
              "      \n",
              "  <style>\n",
              "    .colab-df-container {\n",
              "      display:flex;\n",
              "      flex-wrap:wrap;\n",
              "      gap: 12px;\n",
              "    }\n",
              "\n",
              "    .colab-df-convert {\n",
              "      background-color: #E8F0FE;\n",
              "      border: none;\n",
              "      border-radius: 50%;\n",
              "      cursor: pointer;\n",
              "      display: none;\n",
              "      fill: #1967D2;\n",
              "      height: 32px;\n",
              "      padding: 0 0 0 0;\n",
              "      width: 32px;\n",
              "    }\n",
              "\n",
              "    .colab-df-convert:hover {\n",
              "      background-color: #E2EBFA;\n",
              "      box-shadow: 0px 1px 2px rgba(60, 64, 67, 0.3), 0px 1px 3px 1px rgba(60, 64, 67, 0.15);\n",
              "      fill: #174EA6;\n",
              "    }\n",
              "\n",
              "    [theme=dark] .colab-df-convert {\n",
              "      background-color: #3B4455;\n",
              "      fill: #D2E3FC;\n",
              "    }\n",
              "\n",
              "    [theme=dark] .colab-df-convert:hover {\n",
              "      background-color: #434B5C;\n",
              "      box-shadow: 0px 1px 3px 1px rgba(0, 0, 0, 0.15);\n",
              "      filter: drop-shadow(0px 1px 2px rgba(0, 0, 0, 0.3));\n",
              "      fill: #FFFFFF;\n",
              "    }\n",
              "  </style>\n",
              "\n",
              "      <script>\n",
              "        const buttonEl =\n",
              "          document.querySelector('#df-23011924-4dd0-4f58-b940-7f563605d93a button.colab-df-convert');\n",
              "        buttonEl.style.display =\n",
              "          google.colab.kernel.accessAllowed ? 'block' : 'none';\n",
              "\n",
              "        async function convertToInteractive(key) {\n",
              "          const element = document.querySelector('#df-23011924-4dd0-4f58-b940-7f563605d93a');\n",
              "          const dataTable =\n",
              "            await google.colab.kernel.invokeFunction('convertToInteractive',\n",
              "                                                     [key], {});\n",
              "          if (!dataTable) return;\n",
              "\n",
              "          const docLinkHtml = 'Like what you see? Visit the ' +\n",
              "            '<a target=\"_blank\" href=https://colab.research.google.com/notebooks/data_table.ipynb>data table notebook</a>'\n",
              "            + ' to learn more about interactive tables.';\n",
              "          element.innerHTML = '';\n",
              "          dataTable['output_type'] = 'display_data';\n",
              "          await google.colab.output.renderOutput(dataTable, element);\n",
              "          const docLink = document.createElement('div');\n",
              "          docLink.innerHTML = docLinkHtml;\n",
              "          element.appendChild(docLink);\n",
              "        }\n",
              "      </script>\n",
              "    </div>\n",
              "  </div>\n",
              "  "
            ]
          },
          "metadata": {},
          "execution_count": 59
        }
      ],
      "source": [
        "df_test.head()"
      ]
    },
    {
      "cell_type": "markdown",
      "metadata": {
        "id": "h2pybW6kUSdC"
      },
      "source": [
        "<br>\n",
        "\n",
        "### Let's Perform that same steps as we did for train data earlier"
      ]
    },
    {
      "cell_type": "code",
      "execution_count": 60,
      "metadata": {
        "id": "8hahiSV1USdC"
      },
      "outputs": [],
      "source": [
        "df_test['Date_of_Journey']=pd.to_datetime(df_test['Date_of_Journey'])\n",
        "df_test['Day_of_Journey']=(df_test['Date_of_Journey']).dt.day\n",
        "df_test['Month_of_Journey']=(df_test['Date_of_Journey']).dt.month\n",
        "\n",
        "#Dep_time \n",
        "df_test['Dep_hr']=pd.to_datetime(df_test['Dep_Time']).dt.hour\n",
        "df_test['Dep_min']=pd.to_datetime(df_test['Dep_Time']).dt.minute\n",
        "\n",
        "#Arrival_time\n",
        "df_test['Arrival_hr']=pd.to_datetime(df_test['Arrival_Time']).dt.hour\n",
        "df_test['Arrival_min']=pd.to_datetime(df_test['Arrival_Time']).dt.minute\n",
        "\n",
        "#Splitting duration  time\n",
        "\n",
        "a=df_test['Duration'].str.split(' ',expand=True)\n",
        "a[1].fillna('00m',inplace=True)\n",
        "df_test['dur_hr']=a[0].apply(lambda x: x[:-1])\n",
        "df_test['dur_min']=a[1].apply(lambda x: x[:-1])\n",
        "\n",
        "#dropping the data\n",
        "df_test.drop(['Date_of_Journey','Duration','Arrival_Time','Dep_Time'],inplace=True,axis=1)\n",
        "\n",
        "#Handling Categorical Values \n",
        "df_test['Total_Stops']=df_test['Total_Stops'].map({'non-stop':0, '2 stops':2, '1 stop':1, '3 stops':3, '4 stops':4})\n",
        "\n",
        "air_dummy=pd.get_dummies(df_test['Airline'],drop_first=True)\n",
        "source_dest_dummy=pd.get_dummies(df_test[['Source','Destination']],drop_first=True)\n",
        "df_test=pd.concat([air_dummy,source_dest_dummy,df_test],axis=1)\n"
      ]
    },
    {
      "cell_type": "code",
      "execution_count": 61,
      "metadata": {
        "id": "feLbPyJoUSdD"
      },
      "outputs": [],
      "source": [
        "df_test.drop(['Airline','Source','Destination','Additional_Info',\"Route\"],inplace=True,axis=1)"
      ]
    },
    {
      "cell_type": "code",
      "execution_count": 62,
      "metadata": {
        "colab": {
          "base_uri": "https://localhost:8080/"
        },
        "id": "0qr5M25kUSdE",
        "outputId": "f3c61c60-8c90-4daa-f2d4-fe96e9d264f1"
      },
      "outputs": [
        {
          "output_type": "stream",
          "name": "stdout",
          "text": [
            "train_shape (10682, 31)\n",
            "test_shape (2671, 28)\n"
          ]
        }
      ],
      "source": [
        "print('train_shape',df.shape)\n",
        "print('test_shape',df_test.shape)"
      ]
    },
    {
      "cell_type": "code",
      "execution_count": 63,
      "metadata": {
        "colab": {
          "base_uri": "https://localhost:8080/",
          "height": 352
        },
        "id": "uRrXF2-fUSdE",
        "outputId": "fdbf74d0-33cb-48cc-8de9-02dfada41259"
      },
      "outputs": [
        {
          "output_type": "execute_result",
          "data": {
            "text/plain": [
              "   Air India  GoAir  IndiGo  Jet Airways  Jet Airways Business  \\\n",
              "0          0      0       1            0                     0   \n",
              "1          1      0       0            0                     0   \n",
              "2          0      0       0            1                     0   \n",
              "3          0      0       1            0                     0   \n",
              "4          0      0       1            0                     0   \n",
              "\n",
              "   Multiple carriers  Multiple carriers Premium economy  SpiceJet  Trujet  \\\n",
              "0                  0                                  0         0       0   \n",
              "1                  0                                  0         0       0   \n",
              "2                  0                                  0         0       0   \n",
              "3                  0                                  0         0       0   \n",
              "4                  0                                  0         0       0   \n",
              "\n",
              "   Vistara  ...  Additional_Info  Price  Day_of_Journey  Month_of_Journey  \\\n",
              "0        0  ...          No info   3897              24                 3   \n",
              "1        0  ...          No info   7662               5                 1   \n",
              "2        0  ...          No info  13882               6                 9   \n",
              "3        0  ...          No info   6218               5                12   \n",
              "4        0  ...          No info  13302               3                 1   \n",
              "\n",
              "   Dep_hr  Dep_min  Arrival_hr  Arrival_min  duration_hr duration_min  \n",
              "0      22       20           1           10            2           50  \n",
              "1       5       50          13           15            7           25  \n",
              "2       9       25           4           25           19           00  \n",
              "3      18        5          23           30            5           25  \n",
              "4      16       50          21           35            4           45  \n",
              "\n",
              "[5 rows x 31 columns]"
            ],
            "text/html": [
              "\n",
              "  <div id=\"df-2b06c276-cf5d-4327-8b90-4f59cd51200d\">\n",
              "    <div class=\"colab-df-container\">\n",
              "      <div>\n",
              "<style scoped>\n",
              "    .dataframe tbody tr th:only-of-type {\n",
              "        vertical-align: middle;\n",
              "    }\n",
              "\n",
              "    .dataframe tbody tr th {\n",
              "        vertical-align: top;\n",
              "    }\n",
              "\n",
              "    .dataframe thead th {\n",
              "        text-align: right;\n",
              "    }\n",
              "</style>\n",
              "<table border=\"1\" class=\"dataframe\">\n",
              "  <thead>\n",
              "    <tr style=\"text-align: right;\">\n",
              "      <th></th>\n",
              "      <th>Air India</th>\n",
              "      <th>GoAir</th>\n",
              "      <th>IndiGo</th>\n",
              "      <th>Jet Airways</th>\n",
              "      <th>Jet Airways Business</th>\n",
              "      <th>Multiple carriers</th>\n",
              "      <th>Multiple carriers Premium economy</th>\n",
              "      <th>SpiceJet</th>\n",
              "      <th>Trujet</th>\n",
              "      <th>Vistara</th>\n",
              "      <th>...</th>\n",
              "      <th>Additional_Info</th>\n",
              "      <th>Price</th>\n",
              "      <th>Day_of_Journey</th>\n",
              "      <th>Month_of_Journey</th>\n",
              "      <th>Dep_hr</th>\n",
              "      <th>Dep_min</th>\n",
              "      <th>Arrival_hr</th>\n",
              "      <th>Arrival_min</th>\n",
              "      <th>duration_hr</th>\n",
              "      <th>duration_min</th>\n",
              "    </tr>\n",
              "  </thead>\n",
              "  <tbody>\n",
              "    <tr>\n",
              "      <th>0</th>\n",
              "      <td>0</td>\n",
              "      <td>0</td>\n",
              "      <td>1</td>\n",
              "      <td>0</td>\n",
              "      <td>0</td>\n",
              "      <td>0</td>\n",
              "      <td>0</td>\n",
              "      <td>0</td>\n",
              "      <td>0</td>\n",
              "      <td>0</td>\n",
              "      <td>...</td>\n",
              "      <td>No info</td>\n",
              "      <td>3897</td>\n",
              "      <td>24</td>\n",
              "      <td>3</td>\n",
              "      <td>22</td>\n",
              "      <td>20</td>\n",
              "      <td>1</td>\n",
              "      <td>10</td>\n",
              "      <td>2</td>\n",
              "      <td>50</td>\n",
              "    </tr>\n",
              "    <tr>\n",
              "      <th>1</th>\n",
              "      <td>1</td>\n",
              "      <td>0</td>\n",
              "      <td>0</td>\n",
              "      <td>0</td>\n",
              "      <td>0</td>\n",
              "      <td>0</td>\n",
              "      <td>0</td>\n",
              "      <td>0</td>\n",
              "      <td>0</td>\n",
              "      <td>0</td>\n",
              "      <td>...</td>\n",
              "      <td>No info</td>\n",
              "      <td>7662</td>\n",
              "      <td>5</td>\n",
              "      <td>1</td>\n",
              "      <td>5</td>\n",
              "      <td>50</td>\n",
              "      <td>13</td>\n",
              "      <td>15</td>\n",
              "      <td>7</td>\n",
              "      <td>25</td>\n",
              "    </tr>\n",
              "    <tr>\n",
              "      <th>2</th>\n",
              "      <td>0</td>\n",
              "      <td>0</td>\n",
              "      <td>0</td>\n",
              "      <td>1</td>\n",
              "      <td>0</td>\n",
              "      <td>0</td>\n",
              "      <td>0</td>\n",
              "      <td>0</td>\n",
              "      <td>0</td>\n",
              "      <td>0</td>\n",
              "      <td>...</td>\n",
              "      <td>No info</td>\n",
              "      <td>13882</td>\n",
              "      <td>6</td>\n",
              "      <td>9</td>\n",
              "      <td>9</td>\n",
              "      <td>25</td>\n",
              "      <td>4</td>\n",
              "      <td>25</td>\n",
              "      <td>19</td>\n",
              "      <td>00</td>\n",
              "    </tr>\n",
              "    <tr>\n",
              "      <th>3</th>\n",
              "      <td>0</td>\n",
              "      <td>0</td>\n",
              "      <td>1</td>\n",
              "      <td>0</td>\n",
              "      <td>0</td>\n",
              "      <td>0</td>\n",
              "      <td>0</td>\n",
              "      <td>0</td>\n",
              "      <td>0</td>\n",
              "      <td>0</td>\n",
              "      <td>...</td>\n",
              "      <td>No info</td>\n",
              "      <td>6218</td>\n",
              "      <td>5</td>\n",
              "      <td>12</td>\n",
              "      <td>18</td>\n",
              "      <td>5</td>\n",
              "      <td>23</td>\n",
              "      <td>30</td>\n",
              "      <td>5</td>\n",
              "      <td>25</td>\n",
              "    </tr>\n",
              "    <tr>\n",
              "      <th>4</th>\n",
              "      <td>0</td>\n",
              "      <td>0</td>\n",
              "      <td>1</td>\n",
              "      <td>0</td>\n",
              "      <td>0</td>\n",
              "      <td>0</td>\n",
              "      <td>0</td>\n",
              "      <td>0</td>\n",
              "      <td>0</td>\n",
              "      <td>0</td>\n",
              "      <td>...</td>\n",
              "      <td>No info</td>\n",
              "      <td>13302</td>\n",
              "      <td>3</td>\n",
              "      <td>1</td>\n",
              "      <td>16</td>\n",
              "      <td>50</td>\n",
              "      <td>21</td>\n",
              "      <td>35</td>\n",
              "      <td>4</td>\n",
              "      <td>45</td>\n",
              "    </tr>\n",
              "  </tbody>\n",
              "</table>\n",
              "<p>5 rows × 31 columns</p>\n",
              "</div>\n",
              "      <button class=\"colab-df-convert\" onclick=\"convertToInteractive('df-2b06c276-cf5d-4327-8b90-4f59cd51200d')\"\n",
              "              title=\"Convert this dataframe to an interactive table.\"\n",
              "              style=\"display:none;\">\n",
              "        \n",
              "  <svg xmlns=\"http://www.w3.org/2000/svg\" height=\"24px\"viewBox=\"0 0 24 24\"\n",
              "       width=\"24px\">\n",
              "    <path d=\"M0 0h24v24H0V0z\" fill=\"none\"/>\n",
              "    <path d=\"M18.56 5.44l.94 2.06.94-2.06 2.06-.94-2.06-.94-.94-2.06-.94 2.06-2.06.94zm-11 1L8.5 8.5l.94-2.06 2.06-.94-2.06-.94L8.5 2.5l-.94 2.06-2.06.94zm10 10l.94 2.06.94-2.06 2.06-.94-2.06-.94-.94-2.06-.94 2.06-2.06.94z\"/><path d=\"M17.41 7.96l-1.37-1.37c-.4-.4-.92-.59-1.43-.59-.52 0-1.04.2-1.43.59L10.3 9.45l-7.72 7.72c-.78.78-.78 2.05 0 2.83L4 21.41c.39.39.9.59 1.41.59.51 0 1.02-.2 1.41-.59l7.78-7.78 2.81-2.81c.8-.78.8-2.07 0-2.86zM5.41 20L4 18.59l7.72-7.72 1.47 1.35L5.41 20z\"/>\n",
              "  </svg>\n",
              "      </button>\n",
              "      \n",
              "  <style>\n",
              "    .colab-df-container {\n",
              "      display:flex;\n",
              "      flex-wrap:wrap;\n",
              "      gap: 12px;\n",
              "    }\n",
              "\n",
              "    .colab-df-convert {\n",
              "      background-color: #E8F0FE;\n",
              "      border: none;\n",
              "      border-radius: 50%;\n",
              "      cursor: pointer;\n",
              "      display: none;\n",
              "      fill: #1967D2;\n",
              "      height: 32px;\n",
              "      padding: 0 0 0 0;\n",
              "      width: 32px;\n",
              "    }\n",
              "\n",
              "    .colab-df-convert:hover {\n",
              "      background-color: #E2EBFA;\n",
              "      box-shadow: 0px 1px 2px rgba(60, 64, 67, 0.3), 0px 1px 3px 1px rgba(60, 64, 67, 0.15);\n",
              "      fill: #174EA6;\n",
              "    }\n",
              "\n",
              "    [theme=dark] .colab-df-convert {\n",
              "      background-color: #3B4455;\n",
              "      fill: #D2E3FC;\n",
              "    }\n",
              "\n",
              "    [theme=dark] .colab-df-convert:hover {\n",
              "      background-color: #434B5C;\n",
              "      box-shadow: 0px 1px 3px 1px rgba(0, 0, 0, 0.15);\n",
              "      filter: drop-shadow(0px 1px 2px rgba(0, 0, 0, 0.3));\n",
              "      fill: #FFFFFF;\n",
              "    }\n",
              "  </style>\n",
              "\n",
              "      <script>\n",
              "        const buttonEl =\n",
              "          document.querySelector('#df-2b06c276-cf5d-4327-8b90-4f59cd51200d button.colab-df-convert');\n",
              "        buttonEl.style.display =\n",
              "          google.colab.kernel.accessAllowed ? 'block' : 'none';\n",
              "\n",
              "        async function convertToInteractive(key) {\n",
              "          const element = document.querySelector('#df-2b06c276-cf5d-4327-8b90-4f59cd51200d');\n",
              "          const dataTable =\n",
              "            await google.colab.kernel.invokeFunction('convertToInteractive',\n",
              "                                                     [key], {});\n",
              "          if (!dataTable) return;\n",
              "\n",
              "          const docLinkHtml = 'Like what you see? Visit the ' +\n",
              "            '<a target=\"_blank\" href=https://colab.research.google.com/notebooks/data_table.ipynb>data table notebook</a>'\n",
              "            + ' to learn more about interactive tables.';\n",
              "          element.innerHTML = '';\n",
              "          dataTable['output_type'] = 'display_data';\n",
              "          await google.colab.output.renderOutput(dataTable, element);\n",
              "          const docLink = document.createElement('div');\n",
              "          docLink.innerHTML = docLinkHtml;\n",
              "          element.appendChild(docLink);\n",
              "        }\n",
              "      </script>\n",
              "    </div>\n",
              "  </div>\n",
              "  "
            ]
          },
          "metadata": {},
          "execution_count": 63
        }
      ],
      "source": [
        "df.head()"
      ]
    },
    {
      "cell_type": "code",
      "execution_count": 64,
      "metadata": {
        "id": "TWWYlPw9USdF"
      },
      "outputs": [],
      "source": [
        "x=df.drop(['Route', 'Price','Additional_Info'],axis=1)\n",
        "y=df['Price']"
      ]
    },
    {
      "cell_type": "code",
      "execution_count": 65,
      "metadata": {
        "colab": {
          "base_uri": "https://localhost:8080/",
          "height": 289
        },
        "id": "T5H7rS4mUSdF",
        "outputId": "2a251b29-394b-4be2-8358-c279d2a0c610"
      },
      "outputs": [
        {
          "output_type": "execute_result",
          "data": {
            "text/plain": [
              "   Air India  GoAir  IndiGo  Jet Airways  Jet Airways Business  \\\n",
              "0          0      0       1            0                     0   \n",
              "1          1      0       0            0                     0   \n",
              "2          0      0       0            1                     0   \n",
              "\n",
              "   Multiple carriers  Multiple carriers Premium economy  SpiceJet  Trujet  \\\n",
              "0                  0                                  0         0       0   \n",
              "1                  0                                  0         0       0   \n",
              "2                  0                                  0         0       0   \n",
              "\n",
              "   Vistara  ...  Destination_Kolkata  Total_Stops  Day_of_Journey  \\\n",
              "0        0  ...                    0            0              24   \n",
              "1        0  ...                    0            2               5   \n",
              "2        0  ...                    0            2               6   \n",
              "\n",
              "   Month_of_Journey  Dep_hr  Dep_min  Arrival_hr  Arrival_min  duration_hr  \\\n",
              "0                 3      22       20           1           10            2   \n",
              "1                 1       5       50          13           15            7   \n",
              "2                 9       9       25           4           25           19   \n",
              "\n",
              "   duration_min  \n",
              "0            50  \n",
              "1            25  \n",
              "2            00  \n",
              "\n",
              "[3 rows x 28 columns]"
            ],
            "text/html": [
              "\n",
              "  <div id=\"df-9eb2d317-e399-4fd4-91c1-036ba774b98e\">\n",
              "    <div class=\"colab-df-container\">\n",
              "      <div>\n",
              "<style scoped>\n",
              "    .dataframe tbody tr th:only-of-type {\n",
              "        vertical-align: middle;\n",
              "    }\n",
              "\n",
              "    .dataframe tbody tr th {\n",
              "        vertical-align: top;\n",
              "    }\n",
              "\n",
              "    .dataframe thead th {\n",
              "        text-align: right;\n",
              "    }\n",
              "</style>\n",
              "<table border=\"1\" class=\"dataframe\">\n",
              "  <thead>\n",
              "    <tr style=\"text-align: right;\">\n",
              "      <th></th>\n",
              "      <th>Air India</th>\n",
              "      <th>GoAir</th>\n",
              "      <th>IndiGo</th>\n",
              "      <th>Jet Airways</th>\n",
              "      <th>Jet Airways Business</th>\n",
              "      <th>Multiple carriers</th>\n",
              "      <th>Multiple carriers Premium economy</th>\n",
              "      <th>SpiceJet</th>\n",
              "      <th>Trujet</th>\n",
              "      <th>Vistara</th>\n",
              "      <th>...</th>\n",
              "      <th>Destination_Kolkata</th>\n",
              "      <th>Total_Stops</th>\n",
              "      <th>Day_of_Journey</th>\n",
              "      <th>Month_of_Journey</th>\n",
              "      <th>Dep_hr</th>\n",
              "      <th>Dep_min</th>\n",
              "      <th>Arrival_hr</th>\n",
              "      <th>Arrival_min</th>\n",
              "      <th>duration_hr</th>\n",
              "      <th>duration_min</th>\n",
              "    </tr>\n",
              "  </thead>\n",
              "  <tbody>\n",
              "    <tr>\n",
              "      <th>0</th>\n",
              "      <td>0</td>\n",
              "      <td>0</td>\n",
              "      <td>1</td>\n",
              "      <td>0</td>\n",
              "      <td>0</td>\n",
              "      <td>0</td>\n",
              "      <td>0</td>\n",
              "      <td>0</td>\n",
              "      <td>0</td>\n",
              "      <td>0</td>\n",
              "      <td>...</td>\n",
              "      <td>0</td>\n",
              "      <td>0</td>\n",
              "      <td>24</td>\n",
              "      <td>3</td>\n",
              "      <td>22</td>\n",
              "      <td>20</td>\n",
              "      <td>1</td>\n",
              "      <td>10</td>\n",
              "      <td>2</td>\n",
              "      <td>50</td>\n",
              "    </tr>\n",
              "    <tr>\n",
              "      <th>1</th>\n",
              "      <td>1</td>\n",
              "      <td>0</td>\n",
              "      <td>0</td>\n",
              "      <td>0</td>\n",
              "      <td>0</td>\n",
              "      <td>0</td>\n",
              "      <td>0</td>\n",
              "      <td>0</td>\n",
              "      <td>0</td>\n",
              "      <td>0</td>\n",
              "      <td>...</td>\n",
              "      <td>0</td>\n",
              "      <td>2</td>\n",
              "      <td>5</td>\n",
              "      <td>1</td>\n",
              "      <td>5</td>\n",
              "      <td>50</td>\n",
              "      <td>13</td>\n",
              "      <td>15</td>\n",
              "      <td>7</td>\n",
              "      <td>25</td>\n",
              "    </tr>\n",
              "    <tr>\n",
              "      <th>2</th>\n",
              "      <td>0</td>\n",
              "      <td>0</td>\n",
              "      <td>0</td>\n",
              "      <td>1</td>\n",
              "      <td>0</td>\n",
              "      <td>0</td>\n",
              "      <td>0</td>\n",
              "      <td>0</td>\n",
              "      <td>0</td>\n",
              "      <td>0</td>\n",
              "      <td>...</td>\n",
              "      <td>0</td>\n",
              "      <td>2</td>\n",
              "      <td>6</td>\n",
              "      <td>9</td>\n",
              "      <td>9</td>\n",
              "      <td>25</td>\n",
              "      <td>4</td>\n",
              "      <td>25</td>\n",
              "      <td>19</td>\n",
              "      <td>00</td>\n",
              "    </tr>\n",
              "  </tbody>\n",
              "</table>\n",
              "<p>3 rows × 28 columns</p>\n",
              "</div>\n",
              "      <button class=\"colab-df-convert\" onclick=\"convertToInteractive('df-9eb2d317-e399-4fd4-91c1-036ba774b98e')\"\n",
              "              title=\"Convert this dataframe to an interactive table.\"\n",
              "              style=\"display:none;\">\n",
              "        \n",
              "  <svg xmlns=\"http://www.w3.org/2000/svg\" height=\"24px\"viewBox=\"0 0 24 24\"\n",
              "       width=\"24px\">\n",
              "    <path d=\"M0 0h24v24H0V0z\" fill=\"none\"/>\n",
              "    <path d=\"M18.56 5.44l.94 2.06.94-2.06 2.06-.94-2.06-.94-.94-2.06-.94 2.06-2.06.94zm-11 1L8.5 8.5l.94-2.06 2.06-.94-2.06-.94L8.5 2.5l-.94 2.06-2.06.94zm10 10l.94 2.06.94-2.06 2.06-.94-2.06-.94-.94-2.06-.94 2.06-2.06.94z\"/><path d=\"M17.41 7.96l-1.37-1.37c-.4-.4-.92-.59-1.43-.59-.52 0-1.04.2-1.43.59L10.3 9.45l-7.72 7.72c-.78.78-.78 2.05 0 2.83L4 21.41c.39.39.9.59 1.41.59.51 0 1.02-.2 1.41-.59l7.78-7.78 2.81-2.81c.8-.78.8-2.07 0-2.86zM5.41 20L4 18.59l7.72-7.72 1.47 1.35L5.41 20z\"/>\n",
              "  </svg>\n",
              "      </button>\n",
              "      \n",
              "  <style>\n",
              "    .colab-df-container {\n",
              "      display:flex;\n",
              "      flex-wrap:wrap;\n",
              "      gap: 12px;\n",
              "    }\n",
              "\n",
              "    .colab-df-convert {\n",
              "      background-color: #E8F0FE;\n",
              "      border: none;\n",
              "      border-radius: 50%;\n",
              "      cursor: pointer;\n",
              "      display: none;\n",
              "      fill: #1967D2;\n",
              "      height: 32px;\n",
              "      padding: 0 0 0 0;\n",
              "      width: 32px;\n",
              "    }\n",
              "\n",
              "    .colab-df-convert:hover {\n",
              "      background-color: #E2EBFA;\n",
              "      box-shadow: 0px 1px 2px rgba(60, 64, 67, 0.3), 0px 1px 3px 1px rgba(60, 64, 67, 0.15);\n",
              "      fill: #174EA6;\n",
              "    }\n",
              "\n",
              "    [theme=dark] .colab-df-convert {\n",
              "      background-color: #3B4455;\n",
              "      fill: #D2E3FC;\n",
              "    }\n",
              "\n",
              "    [theme=dark] .colab-df-convert:hover {\n",
              "      background-color: #434B5C;\n",
              "      box-shadow: 0px 1px 3px 1px rgba(0, 0, 0, 0.15);\n",
              "      filter: drop-shadow(0px 1px 2px rgba(0, 0, 0, 0.3));\n",
              "      fill: #FFFFFF;\n",
              "    }\n",
              "  </style>\n",
              "\n",
              "      <script>\n",
              "        const buttonEl =\n",
              "          document.querySelector('#df-9eb2d317-e399-4fd4-91c1-036ba774b98e button.colab-df-convert');\n",
              "        buttonEl.style.display =\n",
              "          google.colab.kernel.accessAllowed ? 'block' : 'none';\n",
              "\n",
              "        async function convertToInteractive(key) {\n",
              "          const element = document.querySelector('#df-9eb2d317-e399-4fd4-91c1-036ba774b98e');\n",
              "          const dataTable =\n",
              "            await google.colab.kernel.invokeFunction('convertToInteractive',\n",
              "                                                     [key], {});\n",
              "          if (!dataTable) return;\n",
              "\n",
              "          const docLinkHtml = 'Like what you see? Visit the ' +\n",
              "            '<a target=\"_blank\" href=https://colab.research.google.com/notebooks/data_table.ipynb>data table notebook</a>'\n",
              "            + ' to learn more about interactive tables.';\n",
              "          element.innerHTML = '';\n",
              "          dataTable['output_type'] = 'display_data';\n",
              "          await google.colab.output.renderOutput(dataTable, element);\n",
              "          const docLink = document.createElement('div');\n",
              "          docLink.innerHTML = docLinkHtml;\n",
              "          element.appendChild(docLink);\n",
              "        }\n",
              "      </script>\n",
              "    </div>\n",
              "  </div>\n",
              "  "
            ]
          },
          "metadata": {},
          "execution_count": 65
        }
      ],
      "source": [
        "x.head(3)"
      ]
    },
    {
      "cell_type": "markdown",
      "metadata": {
        "id": "iJAew7KtUSdF"
      },
      "source": [
        "<br>\n",
        "<br>\n",
        "\n",
        "## **Model Building and Hyperparameter Tuning**"
      ]
    },
    {
      "cell_type": "markdown",
      "metadata": {
        "id": "flqgHO2mUSdG"
      },
      "source": [
        "### ExtraTreesRegressor"
      ]
    },
    {
      "cell_type": "code",
      "execution_count": 66,
      "metadata": {
        "collapsed": true,
        "jupyter": {
          "outputs_hidden": true,
          "source_hidden": true
        },
        "colab": {
          "base_uri": "https://localhost:8080/"
        },
        "id": "gvUAYR_8USdG",
        "outputId": "fa9a0c92-7eaf-4fed-a78c-133c083c439a"
      },
      "outputs": [
        {
          "output_type": "execute_result",
          "data": {
            "text/plain": [
              "ExtraTreesRegressor()"
            ]
          },
          "metadata": {},
          "execution_count": 66
        }
      ],
      "source": [
        "from sklearn.ensemble import ExtraTreesRegressor\n",
        "ET_Model=ExtraTreesRegressor()\n",
        "ET_Model.fit(x,y)"
      ]
    },
    {
      "cell_type": "markdown",
      "metadata": {
        "jupyter": {
          "source_hidden": true
        },
        "id": "zJZSM1EcUSdG"
      },
      "source": [
        "**Future Importance**"
      ]
    },
    {
      "cell_type": "code",
      "execution_count": 67,
      "metadata": {
        "collapsed": true,
        "jupyter": {
          "outputs_hidden": true,
          "source_hidden": true
        },
        "colab": {
          "base_uri": "https://localhost:8080/",
          "height": 702
        },
        "id": "yF2Qla3uUSdH",
        "outputId": "7905578e-131d-4f1d-c5bd-769f8d9dff04"
      },
      "outputs": [
        {
          "output_type": "execute_result",
          "data": {
            "text/plain": [
              "<matplotlib.axes._subplots.AxesSubplot at 0x7fe2e774be20>"
            ]
          },
          "metadata": {},
          "execution_count": 67
        },
        {
          "output_type": "display_data",
          "data": {
            "text/plain": [
              "<Figure size 1296x720 with 1 Axes>"
            ],
            "image/png": "[encoded data removed]"
          },
          "metadata": {
            "needs_background": "light"
          }
        }
      ],
      "source": [
        "pd.Series(ET_Model.feature_importances_,index=x.columns).sort_values(ascending=False).plot(kind='bar',figsize=(18,10))"
      ]
    },
    {
      "cell_type": "code",
      "execution_count": 68,
      "metadata": {
        "id": "RHU12ulFUSdH"
      },
      "outputs": [],
      "source": [
        "#splitting the dataset\n",
        "from sklearn.model_selection import train_test_split\n",
        "X_train, X_test, y_train, y_test = train_test_split(x, y, test_size = 0.2, random_state = 50)"
      ]
    },
    {
      "cell_type": "code",
      "execution_count": 69,
      "metadata": {
        "colab": {
          "base_uri": "https://localhost:8080/"
        },
        "id": "2v7g8LSHUSdH",
        "outputId": "bed2f4d3-09af-420a-ba37-637efc848917"
      },
      "outputs": [
        {
          "output_type": "execute_result",
          "data": {
            "text/plain": [
              "0.7656232663267615"
            ]
          },
          "metadata": {},
          "execution_count": 69
        }
      ],
      "source": [
        "#Preparing Extra Tree Regression\n",
        "from sklearn.ensemble import  ExtraTreesRegressor\n",
        "ET_Model=ExtraTreesRegressor(n_estimators = 120)\n",
        "ET_Model.fit(X_train,y_train)\n",
        "y_predict=ET_Model.predict(X_test)\n",
        "\n",
        "\n",
        "from sklearn.metrics import r2_score\n",
        "r2_score(y_test,y_predict)"
      ]
    },
    {
      "cell_type": "code",
      "execution_count": 70,
      "metadata": {
        "colab": {
          "base_uri": "https://localhost:8080/"
        },
        "id": "_LjcYjnTUSdI",
        "outputId": "c6a4f98f-37bc-449c-ada2-d5091aa655a5"
      },
      "outputs": [
        {
          "output_type": "execute_result",
          "data": {
            "text/plain": [
              "0.7907018248948755"
            ]
          },
          "metadata": {},
          "execution_count": 70
        }
      ],
      "source": [
        "from sklearn.ensemble import RandomForestRegressor\n",
        "RF_Model=RandomForestRegressor()\n",
        "RF_Model.fit(X_train,y_train)\n",
        "y_predict=RF_Model.predict(X_test)\n",
        "r2_score(y_test,y_predict)"
      ]
    },
    {
      "cell_type": "markdown",
      "metadata": {
        "id": "qTnFWuQSUSdI"
      },
      "source": [
        "<br>\n",
        "\n",
        "**Hyperparameter**"
      ]
    },
    {
      "cell_type": "code",
      "execution_count": 71,
      "metadata": {
        "id": "2IuFhXCsUSdJ"
      },
      "outputs": [],
      "source": [
        "from sklearn.model_selection import RandomizedSearchCV\n",
        "\n",
        "n_estimators = [int(x) for x in np.linspace(start = 80, stop = 1500, num = 10)]\n",
        "max_features = ['auto', 'sqrt']\n",
        "max_depth = [int(x) for x in np.linspace(6, 45, num = 5)]\n",
        "min_samples_split = [2, 5, 10, 15, 100]\n",
        "min_samples_leaf = [1, 2, 5, 10]\n",
        "\n",
        "# create random grid\n",
        "\n",
        "rand_grid={'n_estimators': n_estimators,\n",
        "               'max_features': max_features,\n",
        "               'max_depth': max_depth,\n",
        "               'min_samples_split': min_samples_split,\n",
        "               'min_samples_leaf': min_samples_leaf}\n",
        "\n",
        "rf=RandomForestRegressor()\n",
        "\n",
        "rCV=RandomizedSearchCV(estimator=rf,param_distributions=rand_grid,scoring='neg_mean_squared_error',n_iter=10,cv=3,random_state=42, n_jobs = 1)"
      ]
    },
    {
      "cell_type": "code",
      "execution_count": 72,
      "metadata": {
        "colab": {
          "base_uri": "https://localhost:8080/"
        },
        "id": "TSSOZ3e8USdK",
        "outputId": "ab5d87f1-e7b5-4a02-913c-4b897d6a5527"
      },
      "outputs": [
        {
          "output_type": "execute_result",
          "data": {
            "text/plain": [
              "RandomizedSearchCV(cv=3, estimator=RandomForestRegressor(), n_jobs=1,\n",
              "                   param_distributions={'max_depth': [6, 15, 25, 35, 45],\n",
              "                                        'max_features': ['auto', 'sqrt'],\n",
              "                                        'min_samples_leaf': [1, 2, 5, 10],\n",
              "                                        'min_samples_split': [2, 5, 10, 15,\n",
              "                                                              100],\n",
              "                                        'n_estimators': [80, 237, 395, 553, 711,\n",
              "                                                         868, 1026, 1184, 1342,\n",
              "                                                         1500]},\n",
              "                   random_state=42, scoring='neg_mean_squared_error')"
            ]
          },
          "metadata": {},
          "execution_count": 72
        }
      ],
      "source": [
        "rCV.fit(X_train,y_train)"
      ]
    },
    {
      "cell_type": "code",
      "execution_count": 73,
      "metadata": {
        "colab": {
          "base_uri": "https://localhost:8080/"
        },
        "id": "e1MvbmayUSdL",
        "outputId": "ad6c3bae-5560-4d9b-8c9b-de88c3731ef4"
      },
      "outputs": [
        {
          "output_type": "execute_result",
          "data": {
            "text/plain": [
              "array([12566.47506473,  4293.30938385,  6140.55976077, ...,\n",
              "       11642.4306814 ,  9612.58241108,  8654.1908604 ])"
            ]
          },
          "metadata": {},
          "execution_count": 73
        }
      ],
      "source": [
        "rf_pred=rCV.predict(X_test)\n",
        "rf_pred"
      ]
    },
    {
      "cell_type": "code",
      "execution_count": 74,
      "metadata": {
        "colab": {
          "base_uri": "https://localhost:8080/"
        },
        "id": "ZS9UMFyKUSdL",
        "outputId": "69795fde-12e5-4419-bb35-6f4e99ffc134"
      },
      "outputs": [
        {
          "output_type": "stream",
          "name": "stdout",
          "text": [
            "MAE 1157.7276349472916\n",
            "MSE 3953451.774088799\n"
          ]
        }
      ],
      "source": [
        "from sklearn.metrics import mean_absolute_error,mean_squared_error\n",
        "print('MAE',mean_absolute_error(y_test,rf_pred))\n",
        "print('MSE',mean_squared_error(y_test,rf_pred))"
      ]
    },
    {
      "cell_type": "code",
      "execution_count": 75,
      "metadata": {
        "colab": {
          "base_uri": "https://localhost:8080/"
        },
        "id": "-pqypK3RUSdM",
        "outputId": "9593203a-60e9-4755-cea2-e5f2ae4a5467"
      },
      "outputs": [
        {
          "output_type": "execute_result",
          "data": {
            "text/plain": [
              "0.8074649719971319"
            ]
          },
          "metadata": {},
          "execution_count": 75
        }
      ],
      "source": [
        "r2_score(y_test,rf_pred)"
      ]
    },
    {
      "cell_type": "code",
      "execution_count": 76,
      "metadata": {
        "colab": {
          "base_uri": "https://localhost:8080/"
        },
        "id": "-OWJ_LC4USdM",
        "outputId": "c3919fa9-9b4c-4497-ea04-558331376516"
      },
      "outputs": [
        {
          "output_type": "stream",
          "name": "stdout",
          "text": [
            "Looking in indexes: https://pypi.org/simple, https://us-python.pkg.dev/colab-wheels/public/simple/\n",
            "Requirement already satisfied: catboost in /usr/local/lib/python3.8/dist-packages (1.1.1)\n",
            "Requirement already satisfied: graphviz in /usr/local/lib/python3.8/dist-packages (from catboost) (0.10.1)\n",
            "Requirement already satisfied: scipy in /usr/local/lib/python3.8/dist-packages (from catboost) (1.7.3)\n",
            "Requirement already satisfied: numpy>=1.16.0 in /usr/local/lib/python3.8/dist-packages (from catboost) (1.21.6)\n",
            "Requirement already satisfied: plotly in /usr/local/lib/python3.8/dist-packages (from catboost) (5.5.0)\n",
            "Requirement already satisfied: matplotlib in /usr/local/lib/python3.8/dist-packages (from catboost) (3.2.2)\n",
            "Requirement already satisfied: pandas>=0.24.0 in /usr/local/lib/python3.8/dist-packages (from catboost) (1.3.5)\n",
            "Requirement already satisfied: six in /usr/local/lib/python3.8/dist-packages (from catboost) (1.15.0)\n",
            "Requirement already satisfied: python-dateutil>=2.7.3 in /usr/local/lib/python3.8/dist-packages (from pandas>=0.24.0->catboost) (2.8.2)\n",
            "Requirement already satisfied: pytz>=2017.3 in /usr/local/lib/python3.8/dist-packages (from pandas>=0.24.0->catboost) (2022.6)\n",
            "Requirement already satisfied: kiwisolver>=1.0.1 in /usr/local/lib/python3.8/dist-packages (from matplotlib->catboost) (1.4.4)\n",
            "Requirement already satisfied: pyparsing!=2.0.4,!=2.1.2,!=2.1.6,>=2.0.1 in /usr/local/lib/python3.8/dist-packages (from matplotlib->catboost) (3.0.9)\n",
            "Requirement already satisfied: cycler>=0.10 in /usr/local/lib/python3.8/dist-packages (from matplotlib->catboost) (0.11.0)\n",
            "Requirement already satisfied: tenacity>=6.2.0 in /usr/local/lib/python3.8/dist-packages (from plotly->catboost) (8.1.0)\n"
          ]
        }
      ],
      "source": [
        "!pip install catboost"
      ]
    },
    {
      "cell_type": "code",
      "execution_count": 77,
      "metadata": {
        "collapsed": true,
        "jupyter": {
          "outputs_hidden": true
        },
        "colab": {
          "base_uri": "https://localhost:8080/"
        },
        "id": "yC4F19P4USdN",
        "outputId": "c080edab-124f-4816-f406-04e5d0d38e4c"
      },
      "outputs": [
        {
          "output_type": "stream",
          "name": "stdout",
          "text": [
            "Learning rate set to 0.057463\n",
            "0:\tlearn: 4465.7280757\ttotal: 48.4ms\tremaining: 48.3s\n",
            "1:\tlearn: 4317.7245126\ttotal: 49.8ms\tremaining: 24.9s\n",
            "2:\tlearn: 4167.9871081\ttotal: 51.6ms\tremaining: 17.2s\n",
            "3:\tlearn: 4030.4839609\ttotal: 53.3ms\tremaining: 13.3s\n",
            "4:\tlearn: 3906.4844760\ttotal: 54.8ms\tremaining: 10.9s\n",
            "5:\tlearn: 3785.4580402\ttotal: 56.4ms\tremaining: 9.34s\n",
            "6:\tlearn: 3673.8662552\ttotal: 59.6ms\tremaining: 8.45s\n",
            "7:\tlearn: 3582.0533069\ttotal: 61.2ms\tremaining: 7.59s\n",
            "8:\tlearn: 3495.5629367\ttotal: 62.5ms\tremaining: 6.88s\n",
            "9:\tlearn: 3404.7478335\ttotal: 63.7ms\tremaining: 6.31s\n",
            "10:\tlearn: 3325.1004431\ttotal: 65ms\tremaining: 5.84s\n",
            "11:\tlearn: 3254.1004651\ttotal: 66.3ms\tremaining: 5.46s\n",
            "12:\tlearn: 3184.6084064\ttotal: 68.3ms\tremaining: 5.19s\n",
            "13:\tlearn: 3122.3064005\ttotal: 70.8ms\tremaining: 4.98s\n",
            "14:\tlearn: 3067.6550706\ttotal: 72.1ms\tremaining: 4.73s\n",
            "15:\tlearn: 3014.5169632\ttotal: 73.4ms\tremaining: 4.51s\n",
            "16:\tlearn: 2962.4252595\ttotal: 74.8ms\tremaining: 4.32s\n",
            "17:\tlearn: 2920.1931240\ttotal: 76ms\tremaining: 4.15s\n",
            "18:\tlearn: 2877.4542155\ttotal: 77.3ms\tremaining: 3.99s\n",
            "19:\tlearn: 2836.6245798\ttotal: 78.5ms\tremaining: 3.85s\n",
            "20:\tlearn: 2795.6640990\ttotal: 79.7ms\tremaining: 3.72s\n",
            "21:\tlearn: 2762.1990538\ttotal: 81.2ms\tremaining: 3.61s\n",
            "22:\tlearn: 2727.9208771\ttotal: 82.7ms\tremaining: 3.51s\n",
            "23:\tlearn: 2696.1162679\ttotal: 84.2ms\tremaining: 3.42s\n",
            "24:\tlearn: 2667.2771566\ttotal: 85.7ms\tremaining: 3.34s\n",
            "25:\tlearn: 2643.7041952\ttotal: 87.2ms\tremaining: 3.26s\n",
            "26:\tlearn: 2620.3247888\ttotal: 88.6ms\tremaining: 3.19s\n",
            "27:\tlearn: 2598.7370952\ttotal: 90.1ms\tremaining: 3.13s\n",
            "28:\tlearn: 2574.8649008\ttotal: 91.5ms\tremaining: 3.06s\n",
            "29:\tlearn: 2552.8938076\ttotal: 94.4ms\tremaining: 3.05s\n",
            "30:\tlearn: 2535.4864413\ttotal: 96.5ms\tremaining: 3.02s\n",
            "31:\tlearn: 2516.7698332\ttotal: 98.6ms\tremaining: 2.98s\n",
            "32:\tlearn: 2498.8170112\ttotal: 103ms\tremaining: 3.03s\n",
            "33:\tlearn: 2486.8236752\ttotal: 105ms\tremaining: 2.98s\n",
            "34:\tlearn: 2477.3394868\ttotal: 106ms\tremaining: 2.92s\n",
            "35:\tlearn: 2464.0562980\ttotal: 107ms\tremaining: 2.87s\n",
            "36:\tlearn: 2448.5270397\ttotal: 109ms\tremaining: 2.83s\n",
            "37:\tlearn: 2436.8217449\ttotal: 110ms\tremaining: 2.78s\n",
            "38:\tlearn: 2424.4391048\ttotal: 111ms\tremaining: 2.73s\n",
            "39:\tlearn: 2415.6459023\ttotal: 113ms\tremaining: 2.71s\n",
            "40:\tlearn: 2406.0964751\ttotal: 114ms\tremaining: 2.68s\n",
            "41:\tlearn: 2393.8742177\ttotal: 116ms\tremaining: 2.65s\n",
            "42:\tlearn: 2382.4365188\ttotal: 118ms\tremaining: 2.62s\n",
            "43:\tlearn: 2370.4289366\ttotal: 119ms\tremaining: 2.59s\n",
            "44:\tlearn: 2359.2903311\ttotal: 122ms\tremaining: 2.58s\n",
            "45:\tlearn: 2353.6558567\ttotal: 124ms\tremaining: 2.57s\n",
            "46:\tlearn: 2345.4044111\ttotal: 126ms\tremaining: 2.55s\n",
            "47:\tlearn: 2335.5301779\ttotal: 127ms\tremaining: 2.52s\n",
            "48:\tlearn: 2330.7826322\ttotal: 129ms\tremaining: 2.5s\n",
            "49:\tlearn: 2321.1864216\ttotal: 130ms\tremaining: 2.48s\n",
            "50:\tlearn: 2313.2986029\ttotal: 132ms\tremaining: 2.45s\n",
            "51:\tlearn: 2307.6117185\ttotal: 133ms\tremaining: 2.43s\n",
            "52:\tlearn: 2301.3961730\ttotal: 135ms\tremaining: 2.41s\n",
            "53:\tlearn: 2294.3517169\ttotal: 136ms\tremaining: 2.39s\n",
            "54:\tlearn: 2286.6209598\ttotal: 138ms\tremaining: 2.37s\n",
            "55:\tlearn: 2278.8261647\ttotal: 139ms\tremaining: 2.35s\n",
            "56:\tlearn: 2274.1806199\ttotal: 141ms\tremaining: 2.33s\n",
            "57:\tlearn: 2267.5010929\ttotal: 142ms\tremaining: 2.31s\n",
            "58:\tlearn: 2261.4589527\ttotal: 144ms\tremaining: 2.3s\n",
            "59:\tlearn: 2255.9921223\ttotal: 146ms\tremaining: 2.29s\n",
            "60:\tlearn: 2249.4552343\ttotal: 147ms\tremaining: 2.27s\n",
            "61:\tlearn: 2244.6644634\ttotal: 149ms\tremaining: 2.25s\n",
            "62:\tlearn: 2238.9734365\ttotal: 152ms\tremaining: 2.26s\n",
            "63:\tlearn: 2234.9909927\ttotal: 154ms\tremaining: 2.25s\n",
            "64:\tlearn: 2231.1442896\ttotal: 155ms\tremaining: 2.23s\n",
            "65:\tlearn: 2226.5662708\ttotal: 157ms\tremaining: 2.22s\n",
            "66:\tlearn: 2219.7483791\ttotal: 159ms\tremaining: 2.21s\n",
            "67:\tlearn: 2216.2304285\ttotal: 160ms\tremaining: 2.19s\n",
            "68:\tlearn: 2213.0029269\ttotal: 162ms\tremaining: 2.18s\n",
            "69:\tlearn: 2209.9166932\ttotal: 163ms\tremaining: 2.17s\n",
            "70:\tlearn: 2203.9449162\ttotal: 165ms\tremaining: 2.15s\n",
            "71:\tlearn: 2197.3360911\ttotal: 166ms\tremaining: 2.14s\n",
            "72:\tlearn: 2193.1454818\ttotal: 168ms\tremaining: 2.13s\n",
            "73:\tlearn: 2191.3714829\ttotal: 169ms\tremaining: 2.12s\n",
            "74:\tlearn: 2187.2799783\ttotal: 171ms\tremaining: 2.1s\n",
            "75:\tlearn: 2184.9487788\ttotal: 172ms\tremaining: 2.09s\n",
            "76:\tlearn: 2180.5415792\ttotal: 174ms\tremaining: 2.08s\n",
            "77:\tlearn: 2174.7030474\ttotal: 175ms\tremaining: 2.07s\n",
            "78:\tlearn: 2171.6711621\ttotal: 176ms\tremaining: 2.06s\n",
            "79:\tlearn: 2168.7820825\ttotal: 178ms\tremaining: 2.04s\n",
            "80:\tlearn: 2166.3097499\ttotal: 180ms\tremaining: 2.04s\n",
            "81:\tlearn: 2163.5093344\ttotal: 182ms\tremaining: 2.04s\n",
            "82:\tlearn: 2160.6405708\ttotal: 184ms\tremaining: 2.03s\n",
            "83:\tlearn: 2155.5610777\ttotal: 189ms\tremaining: 2.06s\n",
            "84:\tlearn: 2151.1650726\ttotal: 191ms\tremaining: 2.05s\n",
            "85:\tlearn: 2149.7702700\ttotal: 192ms\tremaining: 2.04s\n",
            "86:\tlearn: 2146.0709542\ttotal: 194ms\tremaining: 2.04s\n",
            "87:\tlearn: 2142.8669614\ttotal: 196ms\tremaining: 2.03s\n",
            "88:\tlearn: 2140.2125861\ttotal: 197ms\tremaining: 2.02s\n",
            "89:\tlearn: 2136.8289963\ttotal: 199ms\tremaining: 2.01s\n",
            "90:\tlearn: 2134.4213461\ttotal: 200ms\tremaining: 2s\n",
            "91:\tlearn: 2130.2947106\ttotal: 202ms\tremaining: 1.99s\n",
            "92:\tlearn: 2125.6762707\ttotal: 203ms\tremaining: 1.98s\n",
            "93:\tlearn: 2121.9653594\ttotal: 205ms\tremaining: 1.98s\n",
            "94:\tlearn: 2116.8091629\ttotal: 207ms\tremaining: 1.97s\n",
            "95:\tlearn: 2115.5022262\ttotal: 208ms\tremaining: 1.96s\n",
            "96:\tlearn: 2112.9830571\ttotal: 210ms\tremaining: 1.95s\n",
            "97:\tlearn: 2109.5443737\ttotal: 211ms\tremaining: 1.94s\n",
            "98:\tlearn: 2105.7973532\ttotal: 213ms\tremaining: 1.94s\n",
            "99:\tlearn: 2101.2037661\ttotal: 214ms\tremaining: 1.93s\n",
            "100:\tlearn: 2096.1113779\ttotal: 216ms\tremaining: 1.92s\n",
            "101:\tlearn: 2094.0045045\ttotal: 218ms\tremaining: 1.92s\n",
            "102:\tlearn: 2091.3247216\ttotal: 219ms\tremaining: 1.91s\n",
            "103:\tlearn: 2086.9048284\ttotal: 221ms\tremaining: 1.9s\n",
            "104:\tlearn: 2082.7266963\ttotal: 222ms\tremaining: 1.89s\n",
            "105:\tlearn: 2079.8091016\ttotal: 224ms\tremaining: 1.89s\n",
            "106:\tlearn: 2075.5102216\ttotal: 225ms\tremaining: 1.88s\n",
            "107:\tlearn: 2073.4945720\ttotal: 227ms\tremaining: 1.87s\n",
            "108:\tlearn: 2069.3783146\ttotal: 228ms\tremaining: 1.87s\n",
            "109:\tlearn: 2065.3296881\ttotal: 230ms\tremaining: 1.86s\n",
            "110:\tlearn: 2063.9820739\ttotal: 231ms\tremaining: 1.85s\n",
            "111:\tlearn: 2060.6653369\ttotal: 233ms\tremaining: 1.85s\n",
            "112:\tlearn: 2058.9501335\ttotal: 234ms\tremaining: 1.84s\n",
            "113:\tlearn: 2056.4421971\ttotal: 236ms\tremaining: 1.83s\n",
            "114:\tlearn: 2055.3227016\ttotal: 237ms\tremaining: 1.83s\n",
            "115:\tlearn: 2050.9968075\ttotal: 239ms\tremaining: 1.82s\n",
            "116:\tlearn: 2047.7938564\ttotal: 241ms\tremaining: 1.81s\n",
            "117:\tlearn: 2044.4858936\ttotal: 243ms\tremaining: 1.81s\n",
            "118:\tlearn: 2041.0867610\ttotal: 244ms\tremaining: 1.81s\n",
            "119:\tlearn: 2040.2085227\ttotal: 246ms\tremaining: 1.8s\n",
            "120:\tlearn: 2038.0143889\ttotal: 247ms\tremaining: 1.79s\n",
            "121:\tlearn: 2035.1904591\ttotal: 249ms\tremaining: 1.79s\n",
            "122:\tlearn: 2033.3851679\ttotal: 250ms\tremaining: 1.78s\n",
            "123:\tlearn: 2030.1091356\ttotal: 252ms\tremaining: 1.78s\n",
            "124:\tlearn: 2029.5564205\ttotal: 253ms\tremaining: 1.77s\n",
            "125:\tlearn: 2026.1337658\ttotal: 255ms\tremaining: 1.77s\n",
            "126:\tlearn: 2025.0189836\ttotal: 256ms\tremaining: 1.76s\n",
            "127:\tlearn: 2021.9200815\ttotal: 258ms\tremaining: 1.76s\n",
            "128:\tlearn: 2019.5114583\ttotal: 260ms\tremaining: 1.75s\n",
            "129:\tlearn: 2017.2751331\ttotal: 261ms\tremaining: 1.75s\n",
            "130:\tlearn: 2015.0969983\ttotal: 263ms\tremaining: 1.74s\n",
            "131:\tlearn: 2013.0569794\ttotal: 264ms\tremaining: 1.74s\n",
            "132:\tlearn: 2010.2906436\ttotal: 266ms\tremaining: 1.73s\n",
            "133:\tlearn: 2007.6481717\ttotal: 268ms\tremaining: 1.73s\n",
            "134:\tlearn: 2002.9492022\ttotal: 269ms\tremaining: 1.72s\n",
            "135:\tlearn: 2002.1875658\ttotal: 271ms\tremaining: 1.72s\n",
            "136:\tlearn: 1998.9796537\ttotal: 272ms\tremaining: 1.71s\n",
            "137:\tlearn: 1996.2053889\ttotal: 274ms\tremaining: 1.71s\n",
            "138:\tlearn: 1992.7798962\ttotal: 275ms\tremaining: 1.71s\n",
            "139:\tlearn: 1990.1673673\ttotal: 277ms\tremaining: 1.7s\n",
            "140:\tlearn: 1988.2813410\ttotal: 279ms\tremaining: 1.7s\n",
            "141:\tlearn: 1985.9634337\ttotal: 280ms\tremaining: 1.69s\n",
            "142:\tlearn: 1984.9852760\ttotal: 282ms\tremaining: 1.69s\n",
            "143:\tlearn: 1981.5611632\ttotal: 283ms\tremaining: 1.68s\n",
            "144:\tlearn: 1980.3403023\ttotal: 285ms\tremaining: 1.68s\n",
            "145:\tlearn: 1979.1728709\ttotal: 286ms\tremaining: 1.67s\n",
            "146:\tlearn: 1977.9352153\ttotal: 288ms\tremaining: 1.67s\n",
            "147:\tlearn: 1976.1491781\ttotal: 289ms\tremaining: 1.67s\n",
            "148:\tlearn: 1973.2055101\ttotal: 291ms\tremaining: 1.66s\n",
            "149:\tlearn: 1972.6745770\ttotal: 293ms\tremaining: 1.66s\n",
            "150:\tlearn: 1971.0950286\ttotal: 294ms\tremaining: 1.65s\n",
            "151:\tlearn: 1967.9828151\ttotal: 296ms\tremaining: 1.65s\n",
            "152:\tlearn: 1966.0746288\ttotal: 297ms\tremaining: 1.65s\n",
            "153:\tlearn: 1964.4106851\ttotal: 299ms\tremaining: 1.64s\n",
            "154:\tlearn: 1961.8503286\ttotal: 300ms\tremaining: 1.64s\n",
            "155:\tlearn: 1959.7518765\ttotal: 302ms\tremaining: 1.63s\n",
            "156:\tlearn: 1957.0720669\ttotal: 304ms\tremaining: 1.63s\n",
            "157:\tlearn: 1956.0090587\ttotal: 305ms\tremaining: 1.62s\n",
            "158:\tlearn: 1952.8394795\ttotal: 307ms\tremaining: 1.62s\n",
            "159:\tlearn: 1950.8397618\ttotal: 308ms\tremaining: 1.62s\n",
            "160:\tlearn: 1949.3290804\ttotal: 310ms\tremaining: 1.61s\n",
            "161:\tlearn: 1946.4694596\ttotal: 311ms\tremaining: 1.61s\n",
            "162:\tlearn: 1944.3492457\ttotal: 313ms\tremaining: 1.6s\n",
            "163:\tlearn: 1941.8469579\ttotal: 314ms\tremaining: 1.6s\n",
            "164:\tlearn: 1940.3896175\ttotal: 316ms\tremaining: 1.6s\n",
            "165:\tlearn: 1937.7974607\ttotal: 317ms\tremaining: 1.59s\n",
            "166:\tlearn: 1935.7148974\ttotal: 319ms\tremaining: 1.59s\n",
            "167:\tlearn: 1932.3134674\ttotal: 320ms\tremaining: 1.59s\n",
            "168:\tlearn: 1930.5614717\ttotal: 322ms\tremaining: 1.58s\n",
            "169:\tlearn: 1929.4656497\ttotal: 323ms\tremaining: 1.58s\n",
            "170:\tlearn: 1927.7647084\ttotal: 325ms\tremaining: 1.57s\n",
            "171:\tlearn: 1926.5870153\ttotal: 326ms\tremaining: 1.57s\n",
            "172:\tlearn: 1925.5010876\ttotal: 328ms\tremaining: 1.57s\n",
            "173:\tlearn: 1924.0349513\ttotal: 330ms\tremaining: 1.56s\n",
            "174:\tlearn: 1921.8799425\ttotal: 331ms\tremaining: 1.56s\n",
            "175:\tlearn: 1919.9229413\ttotal: 333ms\tremaining: 1.56s\n",
            "176:\tlearn: 1919.0135109\ttotal: 334ms\tremaining: 1.55s\n",
            "177:\tlearn: 1917.0102157\ttotal: 336ms\tremaining: 1.55s\n",
            "178:\tlearn: 1914.5686236\ttotal: 337ms\tremaining: 1.55s\n",
            "179:\tlearn: 1912.4008242\ttotal: 339ms\tremaining: 1.54s\n",
            "180:\tlearn: 1909.3596736\ttotal: 340ms\tremaining: 1.54s\n",
            "181:\tlearn: 1906.4143993\ttotal: 342ms\tremaining: 1.54s\n",
            "182:\tlearn: 1905.0535079\ttotal: 343ms\tremaining: 1.53s\n",
            "183:\tlearn: 1902.8146373\ttotal: 345ms\tremaining: 1.53s\n",
            "184:\tlearn: 1901.7193607\ttotal: 346ms\tremaining: 1.52s\n",
            "185:\tlearn: 1899.7272699\ttotal: 348ms\tremaining: 1.52s\n",
            "186:\tlearn: 1898.5304244\ttotal: 349ms\tremaining: 1.52s\n",
            "187:\tlearn: 1897.0739098\ttotal: 351ms\tremaining: 1.51s\n",
            "188:\tlearn: 1894.5016873\ttotal: 352ms\tremaining: 1.51s\n",
            "189:\tlearn: 1892.5209273\ttotal: 354ms\tremaining: 1.51s\n",
            "190:\tlearn: 1890.9588410\ttotal: 355ms\tremaining: 1.5s\n",
            "191:\tlearn: 1889.7128491\ttotal: 357ms\tremaining: 1.5s\n",
            "192:\tlearn: 1888.8885955\ttotal: 358ms\tremaining: 1.5s\n",
            "193:\tlearn: 1888.0018393\ttotal: 360ms\tremaining: 1.49s\n",
            "194:\tlearn: 1887.0114729\ttotal: 361ms\tremaining: 1.49s\n",
            "195:\tlearn: 1886.1149584\ttotal: 363ms\tremaining: 1.49s\n",
            "196:\tlearn: 1885.0633608\ttotal: 365ms\tremaining: 1.49s\n",
            "197:\tlearn: 1883.5795929\ttotal: 373ms\tremaining: 1.51s\n",
            "198:\tlearn: 1881.4375386\ttotal: 375ms\tremaining: 1.51s\n",
            "199:\tlearn: 1880.6406972\ttotal: 377ms\tremaining: 1.51s\n",
            "200:\tlearn: 1879.1601652\ttotal: 378ms\tremaining: 1.5s\n",
            "201:\tlearn: 1878.3766642\ttotal: 380ms\tremaining: 1.5s\n",
            "202:\tlearn: 1874.8103918\ttotal: 381ms\tremaining: 1.5s\n",
            "203:\tlearn: 1873.2498095\ttotal: 383ms\tremaining: 1.49s\n",
            "204:\tlearn: 1872.0468481\ttotal: 384ms\tremaining: 1.49s\n",
            "205:\tlearn: 1869.6479288\ttotal: 386ms\tremaining: 1.49s\n",
            "206:\tlearn: 1867.8143121\ttotal: 387ms\tremaining: 1.48s\n",
            "207:\tlearn: 1865.5481925\ttotal: 389ms\tremaining: 1.48s\n",
            "208:\tlearn: 1863.4857240\ttotal: 391ms\tremaining: 1.48s\n",
            "209:\tlearn: 1862.5966715\ttotal: 392ms\tremaining: 1.47s\n",
            "210:\tlearn: 1860.7174603\ttotal: 394ms\tremaining: 1.47s\n",
            "211:\tlearn: 1860.0684077\ttotal: 395ms\tremaining: 1.47s\n",
            "212:\tlearn: 1859.5940507\ttotal: 397ms\tremaining: 1.47s\n",
            "213:\tlearn: 1859.1156181\ttotal: 398ms\tremaining: 1.46s\n",
            "214:\tlearn: 1857.8917707\ttotal: 399ms\tremaining: 1.46s\n",
            "215:\tlearn: 1854.9933960\ttotal: 401ms\tremaining: 1.46s\n",
            "216:\tlearn: 1854.4600622\ttotal: 403ms\tremaining: 1.45s\n",
            "217:\tlearn: 1853.3372131\ttotal: 405ms\tremaining: 1.45s\n",
            "218:\tlearn: 1853.0739862\ttotal: 407ms\tremaining: 1.45s\n",
            "219:\tlearn: 1850.9067699\ttotal: 408ms\tremaining: 1.45s\n",
            "220:\tlearn: 1850.7403740\ttotal: 410ms\tremaining: 1.44s\n",
            "221:\tlearn: 1850.4713084\ttotal: 411ms\tremaining: 1.44s\n",
            "222:\tlearn: 1849.4055094\ttotal: 413ms\tremaining: 1.44s\n",
            "223:\tlearn: 1847.9288404\ttotal: 414ms\tremaining: 1.43s\n",
            "224:\tlearn: 1847.2381811\ttotal: 416ms\tremaining: 1.43s\n",
            "225:\tlearn: 1847.0286416\ttotal: 417ms\tremaining: 1.43s\n",
            "226:\tlearn: 1845.0009660\ttotal: 419ms\tremaining: 1.43s\n",
            "227:\tlearn: 1843.8117526\ttotal: 420ms\tremaining: 1.42s\n",
            "228:\tlearn: 1842.1997498\ttotal: 423ms\tremaining: 1.42s\n",
            "229:\tlearn: 1842.0481530\ttotal: 425ms\tremaining: 1.42s\n",
            "230:\tlearn: 1838.9875108\ttotal: 426ms\tremaining: 1.42s\n",
            "231:\tlearn: 1838.6110226\ttotal: 428ms\tremaining: 1.42s\n",
            "232:\tlearn: 1838.5035448\ttotal: 429ms\tremaining: 1.41s\n",
            "233:\tlearn: 1838.3418898\ttotal: 431ms\tremaining: 1.41s\n",
            "234:\tlearn: 1838.2935627\ttotal: 434ms\tremaining: 1.41s\n",
            "235:\tlearn: 1836.0108776\ttotal: 437ms\tremaining: 1.41s\n",
            "236:\tlearn: 1835.3309100\ttotal: 439ms\tremaining: 1.41s\n",
            "237:\tlearn: 1835.2070778\ttotal: 441ms\tremaining: 1.41s\n",
            "238:\tlearn: 1834.7763708\ttotal: 442ms\tremaining: 1.41s\n",
            "239:\tlearn: 1832.7366678\ttotal: 444ms\tremaining: 1.41s\n",
            "240:\tlearn: 1830.9012081\ttotal: 446ms\tremaining: 1.4s\n",
            "241:\tlearn: 1830.4631658\ttotal: 448ms\tremaining: 1.4s\n",
            "242:\tlearn: 1829.1049385\ttotal: 450ms\tremaining: 1.4s\n",
            "243:\tlearn: 1827.2710450\ttotal: 451ms\tremaining: 1.4s\n",
            "244:\tlearn: 1825.5558309\ttotal: 453ms\tremaining: 1.4s\n",
            "245:\tlearn: 1824.1903451\ttotal: 455ms\tremaining: 1.39s\n",
            "246:\tlearn: 1823.0245569\ttotal: 456ms\tremaining: 1.39s\n",
            "247:\tlearn: 1821.0847283\ttotal: 458ms\tremaining: 1.39s\n",
            "248:\tlearn: 1819.4291339\ttotal: 459ms\tremaining: 1.39s\n",
            "249:\tlearn: 1819.2119762\ttotal: 461ms\tremaining: 1.38s\n",
            "250:\tlearn: 1817.1321301\ttotal: 462ms\tremaining: 1.38s\n",
            "251:\tlearn: 1816.9862715\ttotal: 464ms\tremaining: 1.38s\n",
            "252:\tlearn: 1815.5547028\ttotal: 465ms\tremaining: 1.37s\n",
            "253:\tlearn: 1814.3193797\ttotal: 467ms\tremaining: 1.37s\n",
            "254:\tlearn: 1814.2021359\ttotal: 468ms\tremaining: 1.37s\n",
            "255:\tlearn: 1811.9162371\ttotal: 470ms\tremaining: 1.36s\n",
            "256:\tlearn: 1811.0476624\ttotal: 472ms\tremaining: 1.36s\n",
            "257:\tlearn: 1809.1593357\ttotal: 473ms\tremaining: 1.36s\n",
            "258:\tlearn: 1809.0449007\ttotal: 474ms\tremaining: 1.36s\n",
            "259:\tlearn: 1807.7017705\ttotal: 476ms\tremaining: 1.35s\n",
            "260:\tlearn: 1807.5599805\ttotal: 477ms\tremaining: 1.35s\n",
            "261:\tlearn: 1805.6507767\ttotal: 479ms\tremaining: 1.35s\n",
            "262:\tlearn: 1804.1716346\ttotal: 480ms\tremaining: 1.34s\n",
            "263:\tlearn: 1802.4741327\ttotal: 483ms\tremaining: 1.34s\n",
            "264:\tlearn: 1801.1570167\ttotal: 485ms\tremaining: 1.34s\n",
            "265:\tlearn: 1799.3080056\ttotal: 486ms\tremaining: 1.34s\n",
            "266:\tlearn: 1797.9374610\ttotal: 488ms\tremaining: 1.34s\n",
            "267:\tlearn: 1795.8991266\ttotal: 490ms\tremaining: 1.34s\n",
            "268:\tlearn: 1794.8340144\ttotal: 491ms\tremaining: 1.33s\n",
            "269:\tlearn: 1793.0383335\ttotal: 493ms\tremaining: 1.33s\n",
            "270:\tlearn: 1791.9696124\ttotal: 495ms\tremaining: 1.33s\n",
            "271:\tlearn: 1791.8616554\ttotal: 496ms\tremaining: 1.33s\n",
            "272:\tlearn: 1790.4101349\ttotal: 498ms\tremaining: 1.33s\n",
            "273:\tlearn: 1789.3336525\ttotal: 500ms\tremaining: 1.32s\n",
            "274:\tlearn: 1788.4952927\ttotal: 501ms\tremaining: 1.32s\n",
            "275:\tlearn: 1788.3814588\ttotal: 503ms\tremaining: 1.32s\n",
            "276:\tlearn: 1787.1186933\ttotal: 505ms\tremaining: 1.32s\n",
            "277:\tlearn: 1786.3356947\ttotal: 506ms\tremaining: 1.31s\n",
            "278:\tlearn: 1786.1526517\ttotal: 507ms\tremaining: 1.31s\n",
            "279:\tlearn: 1785.1333957\ttotal: 509ms\tremaining: 1.31s\n",
            "280:\tlearn: 1784.0076210\ttotal: 511ms\tremaining: 1.31s\n",
            "281:\tlearn: 1782.2473166\ttotal: 512ms\tremaining: 1.3s\n",
            "282:\tlearn: 1782.0317952\ttotal: 514ms\tremaining: 1.3s\n",
            "283:\tlearn: 1780.6791621\ttotal: 515ms\tremaining: 1.3s\n",
            "284:\tlearn: 1779.2290150\ttotal: 517ms\tremaining: 1.3s\n",
            "285:\tlearn: 1777.9036426\ttotal: 518ms\tremaining: 1.29s\n",
            "286:\tlearn: 1777.6957933\ttotal: 520ms\tremaining: 1.29s\n",
            "287:\tlearn: 1776.7105990\ttotal: 521ms\tremaining: 1.29s\n",
            "288:\tlearn: 1775.8126421\ttotal: 523ms\tremaining: 1.29s\n",
            "289:\tlearn: 1774.2654787\ttotal: 524ms\tremaining: 1.28s\n",
            "290:\tlearn: 1774.1291799\ttotal: 526ms\tremaining: 1.28s\n",
            "291:\tlearn: 1774.1115402\ttotal: 527ms\tremaining: 1.28s\n",
            "292:\tlearn: 1772.8847764\ttotal: 529ms\tremaining: 1.27s\n",
            "293:\tlearn: 1771.5300747\ttotal: 530ms\tremaining: 1.27s\n",
            "294:\tlearn: 1770.2390578\ttotal: 531ms\tremaining: 1.27s\n",
            "295:\tlearn: 1768.1826448\ttotal: 533ms\tremaining: 1.27s\n",
            "296:\tlearn: 1768.1512755\ttotal: 534ms\tremaining: 1.26s\n",
            "297:\tlearn: 1768.0329528\ttotal: 535ms\tremaining: 1.26s\n",
            "298:\tlearn: 1766.7744361\ttotal: 537ms\tremaining: 1.26s\n",
            "299:\tlearn: 1765.7499793\ttotal: 538ms\tremaining: 1.25s\n",
            "300:\tlearn: 1764.8336746\ttotal: 540ms\tremaining: 1.25s\n",
            "301:\tlearn: 1763.9656060\ttotal: 541ms\tremaining: 1.25s\n",
            "302:\tlearn: 1762.4680593\ttotal: 543ms\tremaining: 1.25s\n",
            "303:\tlearn: 1761.8250392\ttotal: 544ms\tremaining: 1.25s\n",
            "304:\tlearn: 1761.2274411\ttotal: 546ms\tremaining: 1.24s\n",
            "305:\tlearn: 1760.0687037\ttotal: 547ms\tremaining: 1.24s\n",
            "306:\tlearn: 1759.0731914\ttotal: 549ms\tremaining: 1.24s\n",
            "307:\tlearn: 1757.5221095\ttotal: 550ms\tremaining: 1.24s\n",
            "308:\tlearn: 1756.3239315\ttotal: 552ms\tremaining: 1.23s\n",
            "309:\tlearn: 1756.2945560\ttotal: 553ms\tremaining: 1.23s\n",
            "310:\tlearn: 1755.8744273\ttotal: 554ms\tremaining: 1.23s\n",
            "311:\tlearn: 1755.8575863\ttotal: 556ms\tremaining: 1.23s\n",
            "312:\tlearn: 1755.2556875\ttotal: 557ms\tremaining: 1.22s\n",
            "313:\tlearn: 1753.4561591\ttotal: 559ms\tremaining: 1.22s\n",
            "314:\tlearn: 1752.0728329\ttotal: 562ms\tremaining: 1.22s\n",
            "315:\tlearn: 1751.1911504\ttotal: 564ms\tremaining: 1.22s\n",
            "316:\tlearn: 1749.9997407\ttotal: 569ms\tremaining: 1.23s\n",
            "317:\tlearn: 1748.7475122\ttotal: 571ms\tremaining: 1.22s\n",
            "318:\tlearn: 1746.7967667\ttotal: 572ms\tremaining: 1.22s\n",
            "319:\tlearn: 1746.7807749\ttotal: 574ms\tremaining: 1.22s\n",
            "320:\tlearn: 1745.8532432\ttotal: 576ms\tremaining: 1.22s\n",
            "321:\tlearn: 1745.8278267\ttotal: 577ms\tremaining: 1.22s\n",
            "322:\tlearn: 1745.0431317\ttotal: 579ms\tremaining: 1.21s\n",
            "323:\tlearn: 1743.8420783\ttotal: 581ms\tremaining: 1.21s\n",
            "324:\tlearn: 1742.8932883\ttotal: 582ms\tremaining: 1.21s\n",
            "325:\tlearn: 1741.1542220\ttotal: 584ms\tremaining: 1.21s\n",
            "326:\tlearn: 1740.0014580\ttotal: 585ms\tremaining: 1.2s\n",
            "327:\tlearn: 1738.9456619\ttotal: 587ms\tremaining: 1.2s\n",
            "328:\tlearn: 1738.8634142\ttotal: 588ms\tremaining: 1.2s\n",
            "329:\tlearn: 1738.0215279\ttotal: 589ms\tremaining: 1.2s\n",
            "330:\tlearn: 1738.0045672\ttotal: 591ms\tremaining: 1.19s\n",
            "331:\tlearn: 1736.8836345\ttotal: 592ms\tremaining: 1.19s\n",
            "332:\tlearn: 1734.9438421\ttotal: 594ms\tremaining: 1.19s\n",
            "333:\tlearn: 1733.7663980\ttotal: 595ms\tremaining: 1.19s\n",
            "334:\tlearn: 1733.7502070\ttotal: 597ms\tremaining: 1.18s\n",
            "335:\tlearn: 1731.9563686\ttotal: 598ms\tremaining: 1.18s\n",
            "336:\tlearn: 1730.6458723\ttotal: 600ms\tremaining: 1.18s\n",
            "337:\tlearn: 1729.5742529\ttotal: 601ms\tremaining: 1.18s\n",
            "338:\tlearn: 1728.1147530\ttotal: 603ms\tremaining: 1.18s\n",
            "339:\tlearn: 1726.8427007\ttotal: 605ms\tremaining: 1.17s\n",
            "340:\tlearn: 1725.5289298\ttotal: 606ms\tremaining: 1.17s\n",
            "341:\tlearn: 1725.5131812\ttotal: 607ms\tremaining: 1.17s\n",
            "342:\tlearn: 1724.5684496\ttotal: 610ms\tremaining: 1.17s\n",
            "343:\tlearn: 1723.4357272\ttotal: 615ms\tremaining: 1.17s\n",
            "344:\tlearn: 1722.4498462\ttotal: 617ms\tremaining: 1.17s\n",
            "345:\tlearn: 1721.3726857\ttotal: 619ms\tremaining: 1.17s\n",
            "346:\tlearn: 1720.8368740\ttotal: 620ms\tremaining: 1.17s\n",
            "347:\tlearn: 1719.7146510\ttotal: 622ms\tremaining: 1.16s\n",
            "348:\tlearn: 1719.7013755\ttotal: 623ms\tremaining: 1.16s\n",
            "349:\tlearn: 1717.9139412\ttotal: 625ms\tremaining: 1.16s\n",
            "350:\tlearn: 1716.6319333\ttotal: 626ms\tremaining: 1.16s\n",
            "351:\tlearn: 1715.3656102\ttotal: 628ms\tremaining: 1.16s\n",
            "352:\tlearn: 1714.1619117\ttotal: 630ms\tremaining: 1.15s\n",
            "353:\tlearn: 1713.1035883\ttotal: 631ms\tremaining: 1.15s\n",
            "354:\tlearn: 1712.4061526\ttotal: 633ms\tremaining: 1.15s\n",
            "355:\tlearn: 1710.1710065\ttotal: 634ms\tremaining: 1.15s\n",
            "356:\tlearn: 1709.0674602\ttotal: 636ms\tremaining: 1.15s\n",
            "357:\tlearn: 1707.7016278\ttotal: 637ms\tremaining: 1.14s\n",
            "358:\tlearn: 1707.0025113\ttotal: 640ms\tremaining: 1.14s\n",
            "359:\tlearn: 1706.1628396\ttotal: 642ms\tremaining: 1.14s\n",
            "360:\tlearn: 1706.1471778\ttotal: 644ms\tremaining: 1.14s\n",
            "361:\tlearn: 1705.1177194\ttotal: 647ms\tremaining: 1.14s\n",
            "362:\tlearn: 1705.0967421\ttotal: 651ms\tremaining: 1.14s\n",
            "363:\tlearn: 1704.4432779\ttotal: 652ms\tremaining: 1.14s\n",
            "364:\tlearn: 1704.4307330\ttotal: 653ms\tremaining: 1.14s\n",
            "365:\tlearn: 1703.9306631\ttotal: 655ms\tremaining: 1.13s\n",
            "366:\tlearn: 1703.4921726\ttotal: 656ms\tremaining: 1.13s\n",
            "367:\tlearn: 1702.6774969\ttotal: 658ms\tremaining: 1.13s\n",
            "368:\tlearn: 1701.7522479\ttotal: 659ms\tremaining: 1.13s\n",
            "369:\tlearn: 1700.7823371\ttotal: 661ms\tremaining: 1.13s\n",
            "370:\tlearn: 1700.7676271\ttotal: 662ms\tremaining: 1.12s\n",
            "371:\tlearn: 1700.7534364\ttotal: 664ms\tremaining: 1.12s\n",
            "372:\tlearn: 1699.8759752\ttotal: 665ms\tremaining: 1.12s\n",
            "373:\tlearn: 1699.1910794\ttotal: 666ms\tremaining: 1.11s\n",
            "374:\tlearn: 1698.2520099\ttotal: 668ms\tremaining: 1.11s\n",
            "375:\tlearn: 1698.2160086\ttotal: 669ms\tremaining: 1.11s\n",
            "376:\tlearn: 1697.3944714\ttotal: 671ms\tremaining: 1.11s\n",
            "377:\tlearn: 1696.2230769\ttotal: 674ms\tremaining: 1.11s\n",
            "378:\tlearn: 1695.1074029\ttotal: 675ms\tremaining: 1.11s\n",
            "379:\tlearn: 1693.8210413\ttotal: 677ms\tremaining: 1.1s\n",
            "380:\tlearn: 1692.8050738\ttotal: 679ms\tremaining: 1.1s\n",
            "381:\tlearn: 1692.2565361\ttotal: 680ms\tremaining: 1.1s\n",
            "382:\tlearn: 1690.7293836\ttotal: 682ms\tremaining: 1.1s\n",
            "383:\tlearn: 1689.4477046\ttotal: 684ms\tremaining: 1.1s\n",
            "384:\tlearn: 1689.4345475\ttotal: 686ms\tremaining: 1.09s\n",
            "385:\tlearn: 1688.3047188\ttotal: 687ms\tremaining: 1.09s\n",
            "386:\tlearn: 1687.3647544\ttotal: 689ms\tremaining: 1.09s\n",
            "387:\tlearn: 1686.8507705\ttotal: 691ms\tremaining: 1.09s\n",
            "388:\tlearn: 1685.8128703\ttotal: 692ms\tremaining: 1.09s\n",
            "389:\tlearn: 1684.8767186\ttotal: 694ms\tremaining: 1.08s\n",
            "390:\tlearn: 1683.4689024\ttotal: 696ms\tremaining: 1.08s\n",
            "391:\tlearn: 1682.5854198\ttotal: 697ms\tremaining: 1.08s\n",
            "392:\tlearn: 1681.7591755\ttotal: 699ms\tremaining: 1.08s\n",
            "393:\tlearn: 1680.9414964\ttotal: 700ms\tremaining: 1.08s\n",
            "394:\tlearn: 1680.2388543\ttotal: 702ms\tremaining: 1.07s\n",
            "395:\tlearn: 1678.9097571\ttotal: 704ms\tremaining: 1.07s\n",
            "396:\tlearn: 1678.3900821\ttotal: 705ms\tremaining: 1.07s\n",
            "397:\tlearn: 1677.7496669\ttotal: 707ms\tremaining: 1.07s\n",
            "398:\tlearn: 1676.2792415\ttotal: 708ms\tremaining: 1.07s\n",
            "399:\tlearn: 1675.1193211\ttotal: 710ms\tremaining: 1.06s\n",
            "400:\tlearn: 1674.4968940\ttotal: 711ms\tremaining: 1.06s\n",
            "401:\tlearn: 1673.3296305\ttotal: 713ms\tremaining: 1.06s\n",
            "402:\tlearn: 1672.0425386\ttotal: 715ms\tremaining: 1.06s\n",
            "403:\tlearn: 1671.2877021\ttotal: 716ms\tremaining: 1.06s\n",
            "404:\tlearn: 1670.3984515\ttotal: 718ms\tremaining: 1.05s\n",
            "405:\tlearn: 1669.8135354\ttotal: 719ms\tremaining: 1.05s\n",
            "406:\tlearn: 1669.0710780\ttotal: 721ms\tremaining: 1.05s\n",
            "407:\tlearn: 1668.3531795\ttotal: 722ms\tremaining: 1.05s\n",
            "408:\tlearn: 1667.5861979\ttotal: 724ms\tremaining: 1.05s\n",
            "409:\tlearn: 1666.7194736\ttotal: 726ms\tremaining: 1.04s\n",
            "410:\tlearn: 1666.7067321\ttotal: 727ms\tremaining: 1.04s\n",
            "411:\tlearn: 1665.5592947\ttotal: 729ms\tremaining: 1.04s\n",
            "412:\tlearn: 1665.1062650\ttotal: 730ms\tremaining: 1.04s\n",
            "413:\tlearn: 1663.9251329\ttotal: 732ms\tremaining: 1.03s\n",
            "414:\tlearn: 1663.9129314\ttotal: 733ms\tremaining: 1.03s\n",
            "415:\tlearn: 1663.9020208\ttotal: 734ms\tremaining: 1.03s\n",
            "416:\tlearn: 1663.1137638\ttotal: 736ms\tremaining: 1.03s\n",
            "417:\tlearn: 1662.3663975\ttotal: 738ms\tremaining: 1.03s\n",
            "418:\tlearn: 1661.1257343\ttotal: 739ms\tremaining: 1.02s\n",
            "419:\tlearn: 1659.6847457\ttotal: 741ms\tremaining: 1.02s\n",
            "420:\tlearn: 1659.6733069\ttotal: 742ms\tremaining: 1.02s\n",
            "421:\tlearn: 1658.6095493\ttotal: 743ms\tremaining: 1.02s\n",
            "422:\tlearn: 1658.1486583\ttotal: 745ms\tremaining: 1.02s\n",
            "423:\tlearn: 1657.5413374\ttotal: 746ms\tremaining: 1.01s\n",
            "424:\tlearn: 1656.8117753\ttotal: 758ms\tremaining: 1.02s\n",
            "425:\tlearn: 1655.9527989\ttotal: 760ms\tremaining: 1.02s\n",
            "426:\tlearn: 1655.8936752\ttotal: 761ms\tremaining: 1.02s\n",
            "427:\tlearn: 1655.8758078\ttotal: 763ms\tremaining: 1.02s\n",
            "428:\tlearn: 1655.3914614\ttotal: 764ms\tremaining: 1.02s\n",
            "429:\tlearn: 1654.8376252\ttotal: 766ms\tremaining: 1.01s\n",
            "430:\tlearn: 1653.6113151\ttotal: 767ms\tremaining: 1.01s\n",
            "431:\tlearn: 1653.6033846\ttotal: 769ms\tremaining: 1.01s\n",
            "432:\tlearn: 1652.7640563\ttotal: 770ms\tremaining: 1.01s\n",
            "433:\tlearn: 1652.0148406\ttotal: 772ms\tremaining: 1.01s\n",
            "434:\tlearn: 1651.2424217\ttotal: 773ms\tremaining: 1s\n",
            "435:\tlearn: 1649.0734823\ttotal: 775ms\tremaining: 1s\n",
            "436:\tlearn: 1647.9706188\ttotal: 777ms\tremaining: 1s\n",
            "437:\tlearn: 1647.2341570\ttotal: 778ms\tremaining: 998ms\n",
            "438:\tlearn: 1646.1877825\ttotal: 780ms\tremaining: 996ms\n",
            "439:\tlearn: 1645.6065801\ttotal: 781ms\tremaining: 994ms\n",
            "440:\tlearn: 1645.5965036\ttotal: 782ms\tremaining: 992ms\n",
            "441:\tlearn: 1644.9139282\ttotal: 784ms\tremaining: 990ms\n",
            "442:\tlearn: 1644.3556189\ttotal: 785ms\tremaining: 987ms\n",
            "443:\tlearn: 1642.8566374\ttotal: 787ms\tremaining: 985ms\n",
            "444:\tlearn: 1641.8977234\ttotal: 788ms\tremaining: 983ms\n",
            "445:\tlearn: 1640.8293383\ttotal: 790ms\tremaining: 981ms\n",
            "446:\tlearn: 1640.0284111\ttotal: 791ms\tremaining: 979ms\n",
            "447:\tlearn: 1639.3132156\ttotal: 793ms\tremaining: 977ms\n",
            "448:\tlearn: 1638.4922836\ttotal: 794ms\tremaining: 975ms\n",
            "449:\tlearn: 1637.4337962\ttotal: 796ms\tremaining: 973ms\n",
            "450:\tlearn: 1636.7014453\ttotal: 797ms\tremaining: 971ms\n",
            "451:\tlearn: 1636.6511828\ttotal: 799ms\tremaining: 968ms\n",
            "452:\tlearn: 1635.6233911\ttotal: 800ms\tremaining: 966ms\n",
            "453:\tlearn: 1634.8711916\ttotal: 802ms\tremaining: 964ms\n",
            "454:\tlearn: 1634.3861321\ttotal: 803ms\tremaining: 962ms\n",
            "455:\tlearn: 1633.8159915\ttotal: 805ms\tremaining: 960ms\n",
            "456:\tlearn: 1632.9515111\ttotal: 806ms\tremaining: 958ms\n",
            "457:\tlearn: 1632.4331189\ttotal: 808ms\tremaining: 956ms\n",
            "458:\tlearn: 1631.5349362\ttotal: 809ms\tremaining: 954ms\n",
            "459:\tlearn: 1631.5094682\ttotal: 811ms\tremaining: 952ms\n",
            "460:\tlearn: 1630.4003218\ttotal: 812ms\tremaining: 950ms\n",
            "461:\tlearn: 1630.3317461\ttotal: 814ms\tremaining: 948ms\n",
            "462:\tlearn: 1629.7476035\ttotal: 815ms\tremaining: 946ms\n",
            "463:\tlearn: 1629.7377301\ttotal: 817ms\tremaining: 943ms\n",
            "464:\tlearn: 1628.9469568\ttotal: 818ms\tremaining: 941ms\n",
            "465:\tlearn: 1628.3305339\ttotal: 820ms\tremaining: 939ms\n",
            "466:\tlearn: 1627.9622402\ttotal: 822ms\tremaining: 938ms\n",
            "467:\tlearn: 1627.4584095\ttotal: 824ms\tremaining: 937ms\n",
            "468:\tlearn: 1626.7201754\ttotal: 826ms\tremaining: 936ms\n",
            "469:\tlearn: 1625.8291620\ttotal: 828ms\tremaining: 934ms\n",
            "470:\tlearn: 1625.3143091\ttotal: 830ms\tremaining: 932ms\n",
            "471:\tlearn: 1625.3064883\ttotal: 833ms\tremaining: 932ms\n",
            "472:\tlearn: 1624.3604748\ttotal: 836ms\tremaining: 932ms\n",
            "473:\tlearn: 1623.7668557\ttotal: 837ms\tremaining: 929ms\n",
            "474:\tlearn: 1623.1358202\ttotal: 839ms\tremaining: 927ms\n",
            "475:\tlearn: 1622.6036447\ttotal: 840ms\tremaining: 925ms\n",
            "476:\tlearn: 1621.9977671\ttotal: 841ms\tremaining: 922ms\n",
            "477:\tlearn: 1620.9688352\ttotal: 843ms\tremaining: 920ms\n",
            "478:\tlearn: 1620.3699773\ttotal: 844ms\tremaining: 918ms\n",
            "479:\tlearn: 1618.4402758\ttotal: 845ms\tremaining: 916ms\n",
            "480:\tlearn: 1617.6914441\ttotal: 847ms\tremaining: 913ms\n",
            "481:\tlearn: 1617.0804956\ttotal: 848ms\tremaining: 911ms\n",
            "482:\tlearn: 1616.0611491\ttotal: 850ms\tremaining: 909ms\n",
            "483:\tlearn: 1615.4226003\ttotal: 851ms\tremaining: 907ms\n",
            "484:\tlearn: 1614.5169660\ttotal: 853ms\tremaining: 905ms\n",
            "485:\tlearn: 1614.5109412\ttotal: 854ms\tremaining: 903ms\n",
            "486:\tlearn: 1614.0107123\ttotal: 855ms\tremaining: 901ms\n",
            "487:\tlearn: 1613.3125650\ttotal: 857ms\tremaining: 899ms\n",
            "488:\tlearn: 1612.5890351\ttotal: 858ms\tremaining: 897ms\n",
            "489:\tlearn: 1612.5821869\ttotal: 860ms\tremaining: 895ms\n",
            "490:\tlearn: 1611.7075721\ttotal: 861ms\tremaining: 893ms\n",
            "491:\tlearn: 1611.6995357\ttotal: 862ms\tremaining: 891ms\n",
            "492:\tlearn: 1610.9232680\ttotal: 864ms\tremaining: 888ms\n",
            "493:\tlearn: 1610.1337532\ttotal: 865ms\tremaining: 886ms\n",
            "494:\tlearn: 1609.4175330\ttotal: 867ms\tremaining: 884ms\n",
            "495:\tlearn: 1608.9383681\ttotal: 868ms\tremaining: 882ms\n",
            "496:\tlearn: 1608.2953724\ttotal: 870ms\tremaining: 880ms\n",
            "497:\tlearn: 1607.7858441\ttotal: 871ms\tremaining: 878ms\n",
            "498:\tlearn: 1607.7807148\ttotal: 873ms\tremaining: 876ms\n",
            "499:\tlearn: 1607.2686253\ttotal: 874ms\tremaining: 874ms\n",
            "500:\tlearn: 1606.8892919\ttotal: 876ms\tremaining: 872ms\n",
            "501:\tlearn: 1606.8843002\ttotal: 877ms\tremaining: 870ms\n",
            "502:\tlearn: 1606.5514718\ttotal: 878ms\tremaining: 868ms\n",
            "503:\tlearn: 1605.7904876\ttotal: 880ms\tremaining: 866ms\n",
            "504:\tlearn: 1605.7830545\ttotal: 881ms\tremaining: 864ms\n",
            "505:\tlearn: 1604.3440633\ttotal: 882ms\tremaining: 862ms\n",
            "506:\tlearn: 1603.6724544\ttotal: 884ms\tremaining: 860ms\n",
            "507:\tlearn: 1603.1789620\ttotal: 885ms\tremaining: 857ms\n",
            "508:\tlearn: 1602.5317857\ttotal: 887ms\tremaining: 856ms\n",
            "509:\tlearn: 1601.6360651\ttotal: 888ms\tremaining: 853ms\n",
            "510:\tlearn: 1601.1168584\ttotal: 890ms\tremaining: 851ms\n",
            "511:\tlearn: 1600.1409990\ttotal: 891ms\tremaining: 849ms\n",
            "512:\tlearn: 1598.8076771\ttotal: 893ms\tremaining: 847ms\n",
            "513:\tlearn: 1598.1491184\ttotal: 894ms\tremaining: 846ms\n",
            "514:\tlearn: 1597.8626225\ttotal: 895ms\tremaining: 843ms\n",
            "515:\tlearn: 1597.6143825\ttotal: 897ms\tremaining: 841ms\n",
            "516:\tlearn: 1596.4662235\ttotal: 898ms\tremaining: 839ms\n",
            "517:\tlearn: 1595.7400145\ttotal: 900ms\tremaining: 837ms\n",
            "518:\tlearn: 1595.0085465\ttotal: 901ms\tremaining: 835ms\n",
            "519:\tlearn: 1594.2497150\ttotal: 903ms\tremaining: 833ms\n",
            "520:\tlearn: 1594.2395205\ttotal: 904ms\tremaining: 831ms\n",
            "521:\tlearn: 1594.2342023\ttotal: 905ms\tremaining: 829ms\n",
            "522:\tlearn: 1593.7343689\ttotal: 907ms\tremaining: 827ms\n",
            "523:\tlearn: 1593.2990136\ttotal: 909ms\tremaining: 826ms\n",
            "524:\tlearn: 1593.2937802\ttotal: 911ms\tremaining: 824ms\n",
            "525:\tlearn: 1592.4805278\ttotal: 912ms\tremaining: 822ms\n",
            "526:\tlearn: 1591.3318756\ttotal: 914ms\tremaining: 820ms\n",
            "527:\tlearn: 1590.7243695\ttotal: 915ms\tremaining: 818ms\n",
            "528:\tlearn: 1590.6774548\ttotal: 916ms\tremaining: 816ms\n",
            "529:\tlearn: 1590.2788358\ttotal: 917ms\tremaining: 814ms\n",
            "530:\tlearn: 1589.4259231\ttotal: 919ms\tremaining: 811ms\n",
            "531:\tlearn: 1588.7541581\ttotal: 920ms\tremaining: 809ms\n",
            "532:\tlearn: 1588.7451407\ttotal: 921ms\tremaining: 807ms\n",
            "533:\tlearn: 1588.1264081\ttotal: 922ms\tremaining: 805ms\n",
            "534:\tlearn: 1587.4387665\ttotal: 924ms\tremaining: 803ms\n",
            "535:\tlearn: 1586.7819922\ttotal: 925ms\tremaining: 801ms\n",
            "536:\tlearn: 1585.9054589\ttotal: 926ms\tremaining: 798ms\n",
            "537:\tlearn: 1585.1963465\ttotal: 928ms\tremaining: 797ms\n",
            "538:\tlearn: 1584.4392699\ttotal: 930ms\tremaining: 796ms\n",
            "539:\tlearn: 1583.7659773\ttotal: 932ms\tremaining: 794ms\n",
            "540:\tlearn: 1583.0103901\ttotal: 933ms\tremaining: 792ms\n",
            "541:\tlearn: 1583.0039170\ttotal: 935ms\tremaining: 790ms\n",
            "542:\tlearn: 1582.7022752\ttotal: 937ms\tremaining: 789ms\n",
            "543:\tlearn: 1582.0544539\ttotal: 939ms\tremaining: 788ms\n",
            "544:\tlearn: 1581.7594818\ttotal: 946ms\tremaining: 790ms\n",
            "545:\tlearn: 1581.3736958\ttotal: 949ms\tremaining: 789ms\n",
            "546:\tlearn: 1580.7595848\ttotal: 951ms\tremaining: 787ms\n",
            "547:\tlearn: 1580.2740085\ttotal: 952ms\tremaining: 786ms\n",
            "548:\tlearn: 1578.8193755\ttotal: 954ms\tremaining: 784ms\n",
            "549:\tlearn: 1578.6005630\ttotal: 956ms\tremaining: 782ms\n",
            "550:\tlearn: 1578.5453546\ttotal: 957ms\tremaining: 780ms\n",
            "551:\tlearn: 1578.1050902\ttotal: 959ms\tremaining: 778ms\n",
            "552:\tlearn: 1577.7904733\ttotal: 961ms\tremaining: 777ms\n",
            "553:\tlearn: 1577.0619164\ttotal: 964ms\tremaining: 776ms\n",
            "554:\tlearn: 1576.3576558\ttotal: 965ms\tremaining: 774ms\n",
            "555:\tlearn: 1575.6724075\ttotal: 967ms\tremaining: 772ms\n",
            "556:\tlearn: 1575.2110090\ttotal: 969ms\tremaining: 771ms\n",
            "557:\tlearn: 1574.5653154\ttotal: 971ms\tremaining: 769ms\n",
            "558:\tlearn: 1573.1757996\ttotal: 974ms\tremaining: 768ms\n",
            "559:\tlearn: 1572.6625118\ttotal: 975ms\tremaining: 766ms\n",
            "560:\tlearn: 1571.8757508\ttotal: 977ms\tremaining: 764ms\n",
            "561:\tlearn: 1571.2519723\ttotal: 978ms\tremaining: 762ms\n",
            "562:\tlearn: 1570.6796646\ttotal: 980ms\tremaining: 760ms\n",
            "563:\tlearn: 1570.1033613\ttotal: 981ms\tremaining: 758ms\n",
            "564:\tlearn: 1568.9160185\ttotal: 982ms\tremaining: 756ms\n",
            "565:\tlearn: 1568.5164751\ttotal: 984ms\tremaining: 754ms\n",
            "566:\tlearn: 1567.9060385\ttotal: 985ms\tremaining: 752ms\n",
            "567:\tlearn: 1567.4387661\ttotal: 987ms\tremaining: 751ms\n",
            "568:\tlearn: 1567.0882239\ttotal: 989ms\tremaining: 749ms\n",
            "569:\tlearn: 1566.3842950\ttotal: 990ms\tremaining: 747ms\n",
            "570:\tlearn: 1565.4953245\ttotal: 992ms\tremaining: 745ms\n",
            "571:\tlearn: 1564.3934508\ttotal: 993ms\tremaining: 743ms\n",
            "572:\tlearn: 1563.5748092\ttotal: 995ms\tremaining: 741ms\n",
            "573:\tlearn: 1562.6186216\ttotal: 996ms\tremaining: 739ms\n",
            "574:\tlearn: 1562.3513167\ttotal: 998ms\tremaining: 738ms\n",
            "575:\tlearn: 1561.5528548\ttotal: 999ms\tremaining: 736ms\n",
            "576:\tlearn: 1560.7614094\ttotal: 1s\tremaining: 734ms\n",
            "577:\tlearn: 1560.0601166\ttotal: 1s\tremaining: 732ms\n",
            "578:\tlearn: 1559.2250822\ttotal: 1s\tremaining: 730ms\n",
            "579:\tlearn: 1558.3712240\ttotal: 1s\tremaining: 728ms\n",
            "580:\tlearn: 1558.3670241\ttotal: 1.01s\tremaining: 726ms\n",
            "581:\tlearn: 1557.7630464\ttotal: 1.01s\tremaining: 725ms\n",
            "582:\tlearn: 1557.1411342\ttotal: 1.01s\tremaining: 723ms\n",
            "583:\tlearn: 1556.5069356\ttotal: 1.01s\tremaining: 721ms\n",
            "584:\tlearn: 1556.0852295\ttotal: 1.01s\tremaining: 719ms\n",
            "585:\tlearn: 1555.9384033\ttotal: 1.01s\tremaining: 717ms\n",
            "586:\tlearn: 1555.4244309\ttotal: 1.02s\tremaining: 715ms\n",
            "587:\tlearn: 1554.9536885\ttotal: 1.02s\tremaining: 713ms\n",
            "588:\tlearn: 1554.5506445\ttotal: 1.02s\tremaining: 711ms\n",
            "589:\tlearn: 1553.7435996\ttotal: 1.02s\tremaining: 709ms\n",
            "590:\tlearn: 1553.1555125\ttotal: 1.02s\tremaining: 708ms\n",
            "591:\tlearn: 1552.7449043\ttotal: 1.02s\tremaining: 706ms\n",
            "592:\tlearn: 1552.5474571\ttotal: 1.02s\tremaining: 704ms\n",
            "593:\tlearn: 1551.9465083\ttotal: 1.03s\tremaining: 702ms\n",
            "594:\tlearn: 1551.9413036\ttotal: 1.03s\tremaining: 700ms\n",
            "595:\tlearn: 1551.2965977\ttotal: 1.03s\tremaining: 698ms\n",
            "596:\tlearn: 1550.7403946\ttotal: 1.03s\tremaining: 696ms\n",
            "597:\tlearn: 1550.1027460\ttotal: 1.03s\tremaining: 694ms\n",
            "598:\tlearn: 1550.0974462\ttotal: 1.03s\tremaining: 692ms\n",
            "599:\tlearn: 1549.4200649\ttotal: 1.03s\tremaining: 691ms\n",
            "600:\tlearn: 1548.9302156\ttotal: 1.04s\tremaining: 689ms\n",
            "601:\tlearn: 1548.5106045\ttotal: 1.04s\tremaining: 687ms\n",
            "602:\tlearn: 1548.2659990\ttotal: 1.04s\tremaining: 685ms\n",
            "603:\tlearn: 1547.9753359\ttotal: 1.04s\tremaining: 683ms\n",
            "604:\tlearn: 1547.0668429\ttotal: 1.04s\tremaining: 681ms\n",
            "605:\tlearn: 1546.7331903\ttotal: 1.04s\tremaining: 679ms\n",
            "606:\tlearn: 1546.2364320\ttotal: 1.05s\tremaining: 678ms\n",
            "607:\tlearn: 1544.9458626\ttotal: 1.05s\tremaining: 676ms\n",
            "608:\tlearn: 1544.1553853\ttotal: 1.05s\tremaining: 674ms\n",
            "609:\tlearn: 1543.5227193\ttotal: 1.05s\tremaining: 672ms\n",
            "610:\tlearn: 1543.1574970\ttotal: 1.05s\tremaining: 670ms\n",
            "611:\tlearn: 1542.4043828\ttotal: 1.05s\tremaining: 668ms\n",
            "612:\tlearn: 1542.4010298\ttotal: 1.05s\tremaining: 666ms\n",
            "613:\tlearn: 1542.0254656\ttotal: 1.06s\tremaining: 664ms\n",
            "614:\tlearn: 1542.0142688\ttotal: 1.06s\tremaining: 662ms\n",
            "615:\tlearn: 1541.2754754\ttotal: 1.06s\tremaining: 661ms\n",
            "616:\tlearn: 1540.7228919\ttotal: 1.06s\tremaining: 659ms\n",
            "617:\tlearn: 1540.0521529\ttotal: 1.06s\tremaining: 657ms\n",
            "618:\tlearn: 1539.2152924\ttotal: 1.06s\tremaining: 655ms\n",
            "619:\tlearn: 1538.7370095\ttotal: 1.07s\tremaining: 654ms\n",
            "620:\tlearn: 1537.7788906\ttotal: 1.07s\tremaining: 652ms\n",
            "621:\tlearn: 1537.2246212\ttotal: 1.07s\tremaining: 650ms\n",
            "622:\tlearn: 1536.7143343\ttotal: 1.07s\tremaining: 648ms\n",
            "623:\tlearn: 1536.7094272\ttotal: 1.07s\tremaining: 646ms\n",
            "624:\tlearn: 1536.3869153\ttotal: 1.07s\tremaining: 644ms\n",
            "625:\tlearn: 1536.3574037\ttotal: 1.07s\tremaining: 642ms\n",
            "626:\tlearn: 1535.8215118\ttotal: 1.08s\tremaining: 641ms\n",
            "627:\tlearn: 1535.2411121\ttotal: 1.08s\tremaining: 639ms\n",
            "628:\tlearn: 1535.2380104\ttotal: 1.08s\tremaining: 637ms\n",
            "629:\tlearn: 1534.6060462\ttotal: 1.08s\tremaining: 635ms\n",
            "630:\tlearn: 1534.1998505\ttotal: 1.08s\tremaining: 633ms\n",
            "631:\tlearn: 1533.6898229\ttotal: 1.08s\tremaining: 631ms\n",
            "632:\tlearn: 1533.0626316\ttotal: 1.08s\tremaining: 629ms\n",
            "633:\tlearn: 1532.5284708\ttotal: 1.09s\tremaining: 628ms\n",
            "634:\tlearn: 1531.9967798\ttotal: 1.09s\tremaining: 626ms\n",
            "635:\tlearn: 1531.7112832\ttotal: 1.09s\tremaining: 624ms\n",
            "636:\tlearn: 1531.3901547\ttotal: 1.09s\tremaining: 622ms\n",
            "637:\tlearn: 1530.7413788\ttotal: 1.09s\tremaining: 620ms\n",
            "638:\tlearn: 1530.1317663\ttotal: 1.09s\tremaining: 618ms\n",
            "639:\tlearn: 1529.6674057\ttotal: 1.1s\tremaining: 617ms\n",
            "640:\tlearn: 1529.5797087\ttotal: 1.1s\tremaining: 615ms\n",
            "641:\tlearn: 1529.3125262\ttotal: 1.1s\tremaining: 613ms\n",
            "642:\tlearn: 1528.4290349\ttotal: 1.1s\tremaining: 611ms\n",
            "643:\tlearn: 1527.7665498\ttotal: 1.1s\tremaining: 609ms\n",
            "644:\tlearn: 1527.4089215\ttotal: 1.1s\tremaining: 607ms\n",
            "645:\tlearn: 1526.7499370\ttotal: 1.1s\tremaining: 605ms\n",
            "646:\tlearn: 1526.3467652\ttotal: 1.11s\tremaining: 604ms\n",
            "647:\tlearn: 1526.3267501\ttotal: 1.11s\tremaining: 602ms\n",
            "648:\tlearn: 1525.9131676\ttotal: 1.11s\tremaining: 600ms\n",
            "649:\tlearn: 1525.6620120\ttotal: 1.11s\tremaining: 598ms\n",
            "650:\tlearn: 1525.6590803\ttotal: 1.11s\tremaining: 596ms\n",
            "651:\tlearn: 1524.8513039\ttotal: 1.11s\tremaining: 594ms\n",
            "652:\tlearn: 1524.5334338\ttotal: 1.11s\tremaining: 593ms\n",
            "653:\tlearn: 1524.5301906\ttotal: 1.12s\tremaining: 591ms\n",
            "654:\tlearn: 1524.5271545\ttotal: 1.12s\tremaining: 589ms\n",
            "655:\tlearn: 1523.9203047\ttotal: 1.12s\tremaining: 587ms\n",
            "656:\tlearn: 1522.9386881\ttotal: 1.12s\tremaining: 585ms\n",
            "657:\tlearn: 1522.5753418\ttotal: 1.12s\tremaining: 583ms\n",
            "658:\tlearn: 1522.2894435\ttotal: 1.12s\tremaining: 582ms\n",
            "659:\tlearn: 1521.9275188\ttotal: 1.13s\tremaining: 580ms\n",
            "660:\tlearn: 1521.4955870\ttotal: 1.13s\tremaining: 579ms\n",
            "661:\tlearn: 1520.7148004\ttotal: 1.13s\tremaining: 578ms\n",
            "662:\tlearn: 1519.9998460\ttotal: 1.13s\tremaining: 577ms\n",
            "663:\tlearn: 1519.7088348\ttotal: 1.14s\tremaining: 577ms\n",
            "664:\tlearn: 1519.0729125\ttotal: 1.14s\tremaining: 575ms\n",
            "665:\tlearn: 1518.7245451\ttotal: 1.14s\tremaining: 573ms\n",
            "666:\tlearn: 1518.3028210\ttotal: 1.15s\tremaining: 572ms\n",
            "667:\tlearn: 1517.8963755\ttotal: 1.15s\tremaining: 570ms\n",
            "668:\tlearn: 1517.2885171\ttotal: 1.15s\tremaining: 568ms\n",
            "669:\tlearn: 1516.9046846\ttotal: 1.15s\tremaining: 566ms\n",
            "670:\tlearn: 1516.5022226\ttotal: 1.15s\tremaining: 564ms\n",
            "671:\tlearn: 1515.9625154\ttotal: 1.15s\tremaining: 562ms\n",
            "672:\tlearn: 1515.3536848\ttotal: 1.15s\tremaining: 561ms\n",
            "673:\tlearn: 1515.0966709\ttotal: 1.16s\tremaining: 559ms\n",
            "674:\tlearn: 1514.9806153\ttotal: 1.16s\tremaining: 557ms\n",
            "675:\tlearn: 1514.4884471\ttotal: 1.16s\tremaining: 555ms\n",
            "676:\tlearn: 1514.1330009\ttotal: 1.16s\tremaining: 554ms\n",
            "677:\tlearn: 1513.8630534\ttotal: 1.16s\tremaining: 552ms\n",
            "678:\tlearn: 1513.2397942\ttotal: 1.16s\tremaining: 551ms\n",
            "679:\tlearn: 1512.9611693\ttotal: 1.17s\tremaining: 549ms\n",
            "680:\tlearn: 1512.9582960\ttotal: 1.17s\tremaining: 547ms\n",
            "681:\tlearn: 1512.9537739\ttotal: 1.17s\tremaining: 545ms\n",
            "682:\tlearn: 1512.6098269\ttotal: 1.17s\tremaining: 543ms\n",
            "683:\tlearn: 1512.3345003\ttotal: 1.17s\tremaining: 541ms\n",
            "684:\tlearn: 1511.4072115\ttotal: 1.17s\tremaining: 539ms\n",
            "685:\tlearn: 1510.8253731\ttotal: 1.17s\tremaining: 537ms\n",
            "686:\tlearn: 1510.0110239\ttotal: 1.18s\tremaining: 536ms\n",
            "687:\tlearn: 1509.5392213\ttotal: 1.18s\tremaining: 534ms\n",
            "688:\tlearn: 1508.9889445\ttotal: 1.18s\tremaining: 532ms\n",
            "689:\tlearn: 1508.5729999\ttotal: 1.18s\tremaining: 530ms\n",
            "690:\tlearn: 1508.2083591\ttotal: 1.18s\tremaining: 528ms\n",
            "691:\tlearn: 1508.2039384\ttotal: 1.18s\tremaining: 527ms\n",
            "692:\tlearn: 1507.6940263\ttotal: 1.18s\tremaining: 525ms\n",
            "693:\tlearn: 1507.6896705\ttotal: 1.19s\tremaining: 523ms\n",
            "694:\tlearn: 1507.2664677\ttotal: 1.19s\tremaining: 521ms\n",
            "695:\tlearn: 1506.7337350\ttotal: 1.19s\tremaining: 519ms\n",
            "696:\tlearn: 1506.0049773\ttotal: 1.19s\tremaining: 517ms\n",
            "697:\tlearn: 1505.8498603\ttotal: 1.19s\tremaining: 516ms\n",
            "698:\tlearn: 1505.1210197\ttotal: 1.19s\tremaining: 514ms\n",
            "699:\tlearn: 1504.8431871\ttotal: 1.19s\tremaining: 512ms\n",
            "700:\tlearn: 1504.0961695\ttotal: 1.2s\tremaining: 510ms\n",
            "701:\tlearn: 1503.6307857\ttotal: 1.2s\tremaining: 509ms\n",
            "702:\tlearn: 1503.4967588\ttotal: 1.2s\tremaining: 508ms\n",
            "703:\tlearn: 1503.0202683\ttotal: 1.2s\tremaining: 506ms\n",
            "704:\tlearn: 1502.5236424\ttotal: 1.2s\tremaining: 504ms\n",
            "705:\tlearn: 1501.7091477\ttotal: 1.21s\tremaining: 502ms\n",
            "706:\tlearn: 1501.2245641\ttotal: 1.21s\tremaining: 500ms\n",
            "707:\tlearn: 1500.9280075\ttotal: 1.21s\tremaining: 499ms\n",
            "708:\tlearn: 1500.6968915\ttotal: 1.21s\tremaining: 497ms\n",
            "709:\tlearn: 1500.1111378\ttotal: 1.21s\tremaining: 495ms\n",
            "710:\tlearn: 1498.9263314\ttotal: 1.21s\tremaining: 493ms\n",
            "711:\tlearn: 1498.5003139\ttotal: 1.22s\tremaining: 491ms\n",
            "712:\tlearn: 1498.1782580\ttotal: 1.22s\tremaining: 490ms\n",
            "713:\tlearn: 1497.8717321\ttotal: 1.22s\tremaining: 488ms\n",
            "714:\tlearn: 1497.3174835\ttotal: 1.22s\tremaining: 486ms\n",
            "715:\tlearn: 1496.5960033\ttotal: 1.22s\tremaining: 484ms\n",
            "716:\tlearn: 1496.3579503\ttotal: 1.22s\tremaining: 483ms\n",
            "717:\tlearn: 1495.9380334\ttotal: 1.22s\tremaining: 481ms\n",
            "718:\tlearn: 1495.6767789\ttotal: 1.23s\tremaining: 479ms\n",
            "719:\tlearn: 1494.9828119\ttotal: 1.23s\tremaining: 477ms\n",
            "720:\tlearn: 1494.6367972\ttotal: 1.23s\tremaining: 475ms\n",
            "721:\tlearn: 1493.9308821\ttotal: 1.23s\tremaining: 474ms\n",
            "722:\tlearn: 1493.4155117\ttotal: 1.23s\tremaining: 472ms\n",
            "723:\tlearn: 1492.8999298\ttotal: 1.23s\tremaining: 470ms\n",
            "724:\tlearn: 1492.5529815\ttotal: 1.23s\tremaining: 468ms\n",
            "725:\tlearn: 1492.5503532\ttotal: 1.24s\tremaining: 467ms\n",
            "726:\tlearn: 1491.9711517\ttotal: 1.24s\tremaining: 465ms\n",
            "727:\tlearn: 1491.7256780\ttotal: 1.24s\tremaining: 463ms\n",
            "728:\tlearn: 1491.2995945\ttotal: 1.24s\tremaining: 461ms\n",
            "729:\tlearn: 1490.7823761\ttotal: 1.24s\tremaining: 460ms\n",
            "730:\tlearn: 1490.6915808\ttotal: 1.25s\tremaining: 458ms\n",
            "731:\tlearn: 1490.2825795\ttotal: 1.25s\tremaining: 456ms\n",
            "732:\tlearn: 1489.8096143\ttotal: 1.25s\tremaining: 455ms\n",
            "733:\tlearn: 1489.0787327\ttotal: 1.25s\tremaining: 453ms\n",
            "734:\tlearn: 1488.6848412\ttotal: 1.25s\tremaining: 451ms\n",
            "735:\tlearn: 1488.2467965\ttotal: 1.25s\tremaining: 449ms\n",
            "736:\tlearn: 1487.7673546\ttotal: 1.25s\tremaining: 448ms\n",
            "737:\tlearn: 1487.2625927\ttotal: 1.25s\tremaining: 446ms\n",
            "738:\tlearn: 1487.0717932\ttotal: 1.26s\tremaining: 444ms\n",
            "739:\tlearn: 1486.6336424\ttotal: 1.26s\tremaining: 442ms\n",
            "740:\tlearn: 1486.6297844\ttotal: 1.26s\tremaining: 440ms\n",
            "741:\tlearn: 1486.2286436\ttotal: 1.26s\tremaining: 439ms\n",
            "742:\tlearn: 1485.6756219\ttotal: 1.26s\tremaining: 437ms\n",
            "743:\tlearn: 1485.0652870\ttotal: 1.26s\tremaining: 435ms\n",
            "744:\tlearn: 1484.2598052\ttotal: 1.26s\tremaining: 433ms\n",
            "745:\tlearn: 1483.2192624\ttotal: 1.27s\tremaining: 432ms\n",
            "746:\tlearn: 1483.1848552\ttotal: 1.27s\tremaining: 430ms\n",
            "747:\tlearn: 1482.7831431\ttotal: 1.27s\tremaining: 428ms\n",
            "748:\tlearn: 1482.4419482\ttotal: 1.27s\tremaining: 426ms\n",
            "749:\tlearn: 1482.4395726\ttotal: 1.27s\tremaining: 424ms\n",
            "750:\tlearn: 1482.1383432\ttotal: 1.27s\tremaining: 423ms\n",
            "751:\tlearn: 1481.6705720\ttotal: 1.27s\tremaining: 421ms\n",
            "752:\tlearn: 1481.4897376\ttotal: 1.28s\tremaining: 419ms\n",
            "753:\tlearn: 1480.6698025\ttotal: 1.28s\tremaining: 417ms\n",
            "754:\tlearn: 1480.1352485\ttotal: 1.28s\tremaining: 415ms\n",
            "755:\tlearn: 1479.4421895\ttotal: 1.28s\tremaining: 414ms\n",
            "756:\tlearn: 1479.0443118\ttotal: 1.28s\tremaining: 412ms\n",
            "757:\tlearn: 1478.5472154\ttotal: 1.28s\tremaining: 410ms\n",
            "758:\tlearn: 1478.2617329\ttotal: 1.29s\tremaining: 408ms\n",
            "759:\tlearn: 1478.0570969\ttotal: 1.29s\tremaining: 407ms\n",
            "760:\tlearn: 1477.6051465\ttotal: 1.29s\tremaining: 405ms\n",
            "761:\tlearn: 1477.1409845\ttotal: 1.29s\tremaining: 403ms\n",
            "762:\tlearn: 1477.1366944\ttotal: 1.29s\tremaining: 401ms\n",
            "763:\tlearn: 1477.1338892\ttotal: 1.29s\tremaining: 400ms\n",
            "764:\tlearn: 1476.9078288\ttotal: 1.29s\tremaining: 398ms\n",
            "765:\tlearn: 1476.5919388\ttotal: 1.3s\tremaining: 396ms\n",
            "766:\tlearn: 1476.5171377\ttotal: 1.3s\tremaining: 394ms\n",
            "767:\tlearn: 1476.3300476\ttotal: 1.3s\tremaining: 392ms\n",
            "768:\tlearn: 1475.6407964\ttotal: 1.3s\tremaining: 391ms\n",
            "769:\tlearn: 1475.1979300\ttotal: 1.3s\tremaining: 389ms\n",
            "770:\tlearn: 1474.6973566\ttotal: 1.3s\tremaining: 387ms\n",
            "771:\tlearn: 1474.1779198\ttotal: 1.3s\tremaining: 385ms\n",
            "772:\tlearn: 1473.6828310\ttotal: 1.31s\tremaining: 384ms\n",
            "773:\tlearn: 1473.6801323\ttotal: 1.31s\tremaining: 382ms\n",
            "774:\tlearn: 1473.1537735\ttotal: 1.31s\tremaining: 380ms\n",
            "775:\tlearn: 1472.9480038\ttotal: 1.31s\tremaining: 378ms\n",
            "776:\tlearn: 1472.2181126\ttotal: 1.31s\tremaining: 377ms\n",
            "777:\tlearn: 1471.7818301\ttotal: 1.31s\tremaining: 375ms\n",
            "778:\tlearn: 1471.3164175\ttotal: 1.31s\tremaining: 373ms\n",
            "779:\tlearn: 1471.3137378\ttotal: 1.32s\tremaining: 371ms\n",
            "780:\tlearn: 1470.9590602\ttotal: 1.32s\tremaining: 370ms\n",
            "781:\tlearn: 1470.4539331\ttotal: 1.32s\tremaining: 369ms\n",
            "782:\tlearn: 1470.1037079\ttotal: 1.33s\tremaining: 368ms\n",
            "783:\tlearn: 1469.1716415\ttotal: 1.33s\tremaining: 366ms\n",
            "784:\tlearn: 1468.9403614\ttotal: 1.33s\tremaining: 364ms\n",
            "785:\tlearn: 1468.9365348\ttotal: 1.33s\tremaining: 362ms\n",
            "786:\tlearn: 1468.8198865\ttotal: 1.33s\tremaining: 360ms\n",
            "787:\tlearn: 1468.2589813\ttotal: 1.33s\tremaining: 359ms\n",
            "788:\tlearn: 1467.7694094\ttotal: 1.33s\tremaining: 357ms\n",
            "789:\tlearn: 1467.2378348\ttotal: 1.33s\tremaining: 355ms\n",
            "790:\tlearn: 1466.6867476\ttotal: 1.34s\tremaining: 353ms\n",
            "791:\tlearn: 1466.4481266\ttotal: 1.34s\tremaining: 352ms\n",
            "792:\tlearn: 1466.0195469\ttotal: 1.34s\tremaining: 350ms\n",
            "793:\tlearn: 1466.0162516\ttotal: 1.34s\tremaining: 348ms\n",
            "794:\tlearn: 1466.0121060\ttotal: 1.34s\tremaining: 346ms\n",
            "795:\tlearn: 1465.7921216\ttotal: 1.34s\tremaining: 344ms\n",
            "796:\tlearn: 1465.3405539\ttotal: 1.34s\tremaining: 342ms\n",
            "797:\tlearn: 1464.9464200\ttotal: 1.34s\tremaining: 341ms\n",
            "798:\tlearn: 1464.4432390\ttotal: 1.35s\tremaining: 339ms\n",
            "799:\tlearn: 1464.4407305\ttotal: 1.35s\tremaining: 337ms\n",
            "800:\tlearn: 1464.1203185\ttotal: 1.35s\tremaining: 335ms\n",
            "801:\tlearn: 1463.7842593\ttotal: 1.35s\tremaining: 334ms\n",
            "802:\tlearn: 1463.4886130\ttotal: 1.35s\tremaining: 332ms\n",
            "803:\tlearn: 1463.2387683\ttotal: 1.35s\tremaining: 330ms\n",
            "804:\tlearn: 1462.8313578\ttotal: 1.35s\tremaining: 328ms\n",
            "805:\tlearn: 1462.6017868\ttotal: 1.36s\tremaining: 326ms\n",
            "806:\tlearn: 1462.4316515\ttotal: 1.36s\tremaining: 325ms\n",
            "807:\tlearn: 1461.8332496\ttotal: 1.36s\tremaining: 323ms\n",
            "808:\tlearn: 1461.6465642\ttotal: 1.36s\tremaining: 321ms\n",
            "809:\tlearn: 1461.4781258\ttotal: 1.36s\tremaining: 319ms\n",
            "810:\tlearn: 1461.1209006\ttotal: 1.36s\tremaining: 318ms\n",
            "811:\tlearn: 1460.7002941\ttotal: 1.36s\tremaining: 316ms\n",
            "812:\tlearn: 1460.3450874\ttotal: 1.36s\tremaining: 314ms\n",
            "813:\tlearn: 1459.8216877\ttotal: 1.37s\tremaining: 312ms\n",
            "814:\tlearn: 1459.2279638\ttotal: 1.37s\tremaining: 311ms\n",
            "815:\tlearn: 1458.8274393\ttotal: 1.37s\tremaining: 309ms\n",
            "816:\tlearn: 1458.6059761\ttotal: 1.37s\tremaining: 307ms\n",
            "817:\tlearn: 1458.6040278\ttotal: 1.37s\tremaining: 305ms\n",
            "818:\tlearn: 1458.6003278\ttotal: 1.37s\tremaining: 304ms\n",
            "819:\tlearn: 1457.5833269\ttotal: 1.38s\tremaining: 302ms\n",
            "820:\tlearn: 1457.3004243\ttotal: 1.38s\tremaining: 300ms\n",
            "821:\tlearn: 1456.8507487\ttotal: 1.38s\tremaining: 299ms\n",
            "822:\tlearn: 1456.3956979\ttotal: 1.38s\tremaining: 297ms\n",
            "823:\tlearn: 1455.6548069\ttotal: 1.38s\tremaining: 295ms\n",
            "824:\tlearn: 1455.1132909\ttotal: 1.38s\tremaining: 293ms\n",
            "825:\tlearn: 1454.7832722\ttotal: 1.38s\tremaining: 292ms\n",
            "826:\tlearn: 1454.3364815\ttotal: 1.39s\tremaining: 290ms\n",
            "827:\tlearn: 1454.1236436\ttotal: 1.39s\tremaining: 288ms\n",
            "828:\tlearn: 1453.7228184\ttotal: 1.39s\tremaining: 287ms\n",
            "829:\tlearn: 1453.0717926\ttotal: 1.39s\tremaining: 285ms\n",
            "830:\tlearn: 1452.7422563\ttotal: 1.39s\tremaining: 283ms\n",
            "831:\tlearn: 1452.3497423\ttotal: 1.39s\tremaining: 281ms\n",
            "832:\tlearn: 1452.1931281\ttotal: 1.4s\tremaining: 280ms\n",
            "833:\tlearn: 1452.0197826\ttotal: 1.4s\tremaining: 278ms\n",
            "834:\tlearn: 1451.4269733\ttotal: 1.4s\tremaining: 277ms\n",
            "835:\tlearn: 1450.9282979\ttotal: 1.4s\tremaining: 275ms\n",
            "836:\tlearn: 1450.5972084\ttotal: 1.4s\tremaining: 273ms\n",
            "837:\tlearn: 1450.2966790\ttotal: 1.41s\tremaining: 272ms\n",
            "838:\tlearn: 1449.8151599\ttotal: 1.41s\tremaining: 270ms\n",
            "839:\tlearn: 1449.4885714\ttotal: 1.41s\tremaining: 268ms\n",
            "840:\tlearn: 1449.1391264\ttotal: 1.41s\tremaining: 267ms\n",
            "841:\tlearn: 1448.8283664\ttotal: 1.41s\tremaining: 265ms\n",
            "842:\tlearn: 1448.5122232\ttotal: 1.41s\tremaining: 263ms\n",
            "843:\tlearn: 1448.2571920\ttotal: 1.42s\tremaining: 262ms\n",
            "844:\tlearn: 1447.9988625\ttotal: 1.42s\tremaining: 260ms\n",
            "845:\tlearn: 1447.7810335\ttotal: 1.42s\tremaining: 258ms\n",
            "846:\tlearn: 1447.5391797\ttotal: 1.42s\tremaining: 257ms\n",
            "847:\tlearn: 1447.2654195\ttotal: 1.42s\tremaining: 255ms\n",
            "848:\tlearn: 1446.9389959\ttotal: 1.42s\tremaining: 253ms\n",
            "849:\tlearn: 1446.5716172\ttotal: 1.43s\tremaining: 252ms\n",
            "850:\tlearn: 1446.3622722\ttotal: 1.43s\tremaining: 250ms\n",
            "851:\tlearn: 1446.3583204\ttotal: 1.43s\tremaining: 248ms\n",
            "852:\tlearn: 1445.8831714\ttotal: 1.43s\tremaining: 246ms\n",
            "853:\tlearn: 1445.3194040\ttotal: 1.43s\tremaining: 245ms\n",
            "854:\tlearn: 1444.9692177\ttotal: 1.43s\tremaining: 243ms\n",
            "855:\tlearn: 1444.9017587\ttotal: 1.43s\tremaining: 241ms\n",
            "856:\tlearn: 1444.5609571\ttotal: 1.44s\tremaining: 240ms\n",
            "857:\tlearn: 1444.1281278\ttotal: 1.44s\tremaining: 238ms\n",
            "858:\tlearn: 1443.9967240\ttotal: 1.44s\tremaining: 236ms\n",
            "859:\tlearn: 1443.5781682\ttotal: 1.44s\tremaining: 234ms\n",
            "860:\tlearn: 1443.2678628\ttotal: 1.44s\tremaining: 233ms\n",
            "861:\tlearn: 1443.2031726\ttotal: 1.44s\tremaining: 231ms\n",
            "862:\tlearn: 1443.0320211\ttotal: 1.44s\tremaining: 229ms\n",
            "863:\tlearn: 1442.7373056\ttotal: 1.45s\tremaining: 228ms\n",
            "864:\tlearn: 1442.3124627\ttotal: 1.45s\tremaining: 226ms\n",
            "865:\tlearn: 1442.3091257\ttotal: 1.45s\tremaining: 224ms\n",
            "866:\tlearn: 1441.7809279\ttotal: 1.45s\tremaining: 222ms\n",
            "867:\tlearn: 1441.6266369\ttotal: 1.45s\tremaining: 221ms\n",
            "868:\tlearn: 1441.4770548\ttotal: 1.45s\tremaining: 219ms\n",
            "869:\tlearn: 1441.3138175\ttotal: 1.45s\tremaining: 217ms\n",
            "870:\tlearn: 1440.8453966\ttotal: 1.46s\tremaining: 216ms\n",
            "871:\tlearn: 1440.5893895\ttotal: 1.46s\tremaining: 214ms\n",
            "872:\tlearn: 1440.4814841\ttotal: 1.46s\tremaining: 212ms\n",
            "873:\tlearn: 1440.4189430\ttotal: 1.46s\tremaining: 210ms\n",
            "874:\tlearn: 1440.4168150\ttotal: 1.46s\tremaining: 209ms\n",
            "875:\tlearn: 1440.4134247\ttotal: 1.46s\tremaining: 207ms\n",
            "876:\tlearn: 1440.1888814\ttotal: 1.46s\tremaining: 205ms\n",
            "877:\tlearn: 1439.8345050\ttotal: 1.47s\tremaining: 204ms\n",
            "878:\tlearn: 1439.4806511\ttotal: 1.47s\tremaining: 202ms\n",
            "879:\tlearn: 1439.2028904\ttotal: 1.47s\tremaining: 200ms\n",
            "880:\tlearn: 1438.7472496\ttotal: 1.47s\tremaining: 199ms\n",
            "881:\tlearn: 1438.5670982\ttotal: 1.47s\tremaining: 197ms\n",
            "882:\tlearn: 1438.5641485\ttotal: 1.47s\tremaining: 195ms\n",
            "883:\tlearn: 1437.9403800\ttotal: 1.47s\tremaining: 194ms\n",
            "884:\tlearn: 1437.5493199\ttotal: 1.48s\tremaining: 192ms\n",
            "885:\tlearn: 1436.9101397\ttotal: 1.48s\tremaining: 190ms\n",
            "886:\tlearn: 1436.3980361\ttotal: 1.48s\tremaining: 188ms\n",
            "887:\tlearn: 1436.0231152\ttotal: 1.48s\tremaining: 187ms\n",
            "888:\tlearn: 1435.5457145\ttotal: 1.48s\tremaining: 185ms\n",
            "889:\tlearn: 1435.2861676\ttotal: 1.48s\tremaining: 183ms\n",
            "890:\tlearn: 1435.2842827\ttotal: 1.49s\tremaining: 182ms\n",
            "891:\tlearn: 1434.9485688\ttotal: 1.49s\tremaining: 180ms\n",
            "892:\tlearn: 1434.4647108\ttotal: 1.49s\tremaining: 178ms\n",
            "893:\tlearn: 1434.0763276\ttotal: 1.49s\tremaining: 177ms\n",
            "894:\tlearn: 1433.8096544\ttotal: 1.49s\tremaining: 175ms\n",
            "895:\tlearn: 1433.8080976\ttotal: 1.49s\tremaining: 173ms\n",
            "896:\tlearn: 1433.4302034\ttotal: 1.49s\tremaining: 172ms\n",
            "897:\tlearn: 1433.0685407\ttotal: 1.5s\tremaining: 170ms\n",
            "898:\tlearn: 1432.7477405\ttotal: 1.5s\tremaining: 168ms\n",
            "899:\tlearn: 1432.4168701\ttotal: 1.5s\tremaining: 167ms\n",
            "900:\tlearn: 1432.0883090\ttotal: 1.5s\tremaining: 165ms\n",
            "901:\tlearn: 1431.6808843\ttotal: 1.5s\tremaining: 163ms\n",
            "902:\tlearn: 1431.3136350\ttotal: 1.5s\tremaining: 162ms\n",
            "903:\tlearn: 1431.1017034\ttotal: 1.51s\tremaining: 160ms\n",
            "904:\tlearn: 1430.7038956\ttotal: 1.51s\tremaining: 159ms\n",
            "905:\tlearn: 1430.3659010\ttotal: 1.51s\tremaining: 157ms\n",
            "906:\tlearn: 1430.2852661\ttotal: 1.52s\tremaining: 156ms\n",
            "907:\tlearn: 1429.6312476\ttotal: 1.52s\tremaining: 154ms\n",
            "908:\tlearn: 1429.5319200\ttotal: 1.52s\tremaining: 153ms\n",
            "909:\tlearn: 1429.4336407\ttotal: 1.53s\tremaining: 151ms\n",
            "910:\tlearn: 1429.0012968\ttotal: 1.53s\tremaining: 149ms\n",
            "911:\tlearn: 1428.5440316\ttotal: 1.53s\tremaining: 148ms\n",
            "912:\tlearn: 1428.5412944\ttotal: 1.53s\tremaining: 146ms\n",
            "913:\tlearn: 1428.0742534\ttotal: 1.53s\tremaining: 144ms\n",
            "914:\tlearn: 1427.6730743\ttotal: 1.53s\tremaining: 143ms\n",
            "915:\tlearn: 1427.4568720\ttotal: 1.54s\tremaining: 141ms\n",
            "916:\tlearn: 1427.0954844\ttotal: 1.54s\tremaining: 139ms\n",
            "917:\tlearn: 1426.9366839\ttotal: 1.54s\tremaining: 138ms\n",
            "918:\tlearn: 1426.6813388\ttotal: 1.54s\tremaining: 136ms\n",
            "919:\tlearn: 1426.4727369\ttotal: 1.54s\tremaining: 134ms\n",
            "920:\tlearn: 1425.8065575\ttotal: 1.54s\tremaining: 132ms\n",
            "921:\tlearn: 1425.4383787\ttotal: 1.54s\tremaining: 131ms\n",
            "922:\tlearn: 1425.3379628\ttotal: 1.55s\tremaining: 129ms\n",
            "923:\tlearn: 1424.9616135\ttotal: 1.55s\tremaining: 127ms\n",
            "924:\tlearn: 1424.6244477\ttotal: 1.55s\tremaining: 126ms\n",
            "925:\tlearn: 1424.5101258\ttotal: 1.55s\tremaining: 124ms\n",
            "926:\tlearn: 1423.7127644\ttotal: 1.55s\tremaining: 122ms\n",
            "927:\tlearn: 1423.1616805\ttotal: 1.56s\tremaining: 121ms\n",
            "928:\tlearn: 1422.8866592\ttotal: 1.56s\tremaining: 119ms\n",
            "929:\tlearn: 1422.6508425\ttotal: 1.56s\tremaining: 117ms\n",
            "930:\tlearn: 1422.1944665\ttotal: 1.56s\tremaining: 116ms\n",
            "931:\tlearn: 1421.8175894\ttotal: 1.56s\tremaining: 114ms\n",
            "932:\tlearn: 1421.3839682\ttotal: 1.56s\tremaining: 112ms\n",
            "933:\tlearn: 1420.8144125\ttotal: 1.57s\tremaining: 111ms\n",
            "934:\tlearn: 1420.4211554\ttotal: 1.57s\tremaining: 109ms\n",
            "935:\tlearn: 1419.6126410\ttotal: 1.57s\tremaining: 107ms\n",
            "936:\tlearn: 1419.3165205\ttotal: 1.57s\tremaining: 106ms\n",
            "937:\tlearn: 1418.9423710\ttotal: 1.57s\tremaining: 104ms\n",
            "938:\tlearn: 1418.2763924\ttotal: 1.57s\tremaining: 102ms\n",
            "939:\tlearn: 1418.1169155\ttotal: 1.58s\tremaining: 101ms\n",
            "940:\tlearn: 1417.5612620\ttotal: 1.58s\tremaining: 99ms\n",
            "941:\tlearn: 1417.4670040\ttotal: 1.58s\tremaining: 97.3ms\n",
            "942:\tlearn: 1417.3760279\ttotal: 1.58s\tremaining: 95.6ms\n",
            "943:\tlearn: 1416.9267376\ttotal: 1.58s\tremaining: 94ms\n",
            "944:\tlearn: 1416.5505930\ttotal: 1.58s\tremaining: 92.3ms\n",
            "945:\tlearn: 1416.1936115\ttotal: 1.59s\tremaining: 90.6ms\n",
            "946:\tlearn: 1416.1115599\ttotal: 1.59s\tremaining: 89ms\n",
            "947:\tlearn: 1415.2080120\ttotal: 1.59s\tremaining: 87.3ms\n",
            "948:\tlearn: 1414.8647845\ttotal: 1.59s\tremaining: 85.6ms\n",
            "949:\tlearn: 1414.4300006\ttotal: 1.59s\tremaining: 83.9ms\n",
            "950:\tlearn: 1413.9990471\ttotal: 1.59s\tremaining: 82.2ms\n",
            "951:\tlearn: 1413.5043901\ttotal: 1.6s\tremaining: 80.5ms\n",
            "952:\tlearn: 1413.1756953\ttotal: 1.6s\tremaining: 78.9ms\n",
            "953:\tlearn: 1412.8904657\ttotal: 1.6s\tremaining: 77.2ms\n",
            "954:\tlearn: 1412.6445377\ttotal: 1.6s\tremaining: 75.5ms\n",
            "955:\tlearn: 1412.6417853\ttotal: 1.6s\tremaining: 73.8ms\n",
            "956:\tlearn: 1412.6201514\ttotal: 1.6s\tremaining: 72.1ms\n",
            "957:\tlearn: 1412.2696695\ttotal: 1.61s\tremaining: 70.4ms\n",
            "958:\tlearn: 1412.0472322\ttotal: 1.61s\tremaining: 68.7ms\n",
            "959:\tlearn: 1411.8732485\ttotal: 1.61s\tremaining: 67.1ms\n",
            "960:\tlearn: 1411.4802503\ttotal: 1.61s\tremaining: 65.4ms\n",
            "961:\tlearn: 1411.0777917\ttotal: 1.61s\tremaining: 63.7ms\n",
            "962:\tlearn: 1410.6046366\ttotal: 1.61s\tremaining: 62ms\n",
            "963:\tlearn: 1410.1885444\ttotal: 1.61s\tremaining: 60.3ms\n",
            "964:\tlearn: 1409.8607182\ttotal: 1.62s\tremaining: 58.6ms\n",
            "965:\tlearn: 1409.3551953\ttotal: 1.62s\tremaining: 57ms\n",
            "966:\tlearn: 1409.1930304\ttotal: 1.62s\tremaining: 55.3ms\n",
            "967:\tlearn: 1408.7031163\ttotal: 1.62s\tremaining: 53.6ms\n",
            "968:\tlearn: 1408.6134582\ttotal: 1.62s\tremaining: 51.9ms\n",
            "969:\tlearn: 1408.2845765\ttotal: 1.62s\tremaining: 50.2ms\n",
            "970:\tlearn: 1407.9471053\ttotal: 1.63s\tremaining: 48.5ms\n",
            "971:\tlearn: 1407.9446839\ttotal: 1.63s\tremaining: 46.9ms\n",
            "972:\tlearn: 1407.7538686\ttotal: 1.63s\tremaining: 45.2ms\n",
            "973:\tlearn: 1407.5390575\ttotal: 1.63s\tremaining: 43.5ms\n",
            "974:\tlearn: 1407.3172501\ttotal: 1.63s\tremaining: 41.8ms\n",
            "975:\tlearn: 1406.9542261\ttotal: 1.63s\tremaining: 40.1ms\n",
            "976:\tlearn: 1406.6906908\ttotal: 1.63s\tremaining: 38.5ms\n",
            "977:\tlearn: 1406.5284250\ttotal: 1.64s\tremaining: 36.8ms\n",
            "978:\tlearn: 1406.3022867\ttotal: 1.64s\tremaining: 35.1ms\n",
            "979:\tlearn: 1405.9187172\ttotal: 1.64s\tremaining: 33.4ms\n",
            "980:\tlearn: 1405.2746908\ttotal: 1.64s\tremaining: 31.8ms\n",
            "981:\tlearn: 1405.0945060\ttotal: 1.64s\tremaining: 30.1ms\n",
            "982:\tlearn: 1404.6519871\ttotal: 1.64s\tremaining: 28.4ms\n",
            "983:\tlearn: 1404.2592571\ttotal: 1.64s\tremaining: 26.7ms\n",
            "984:\tlearn: 1404.0541623\ttotal: 1.65s\tremaining: 25.1ms\n",
            "985:\tlearn: 1403.6960618\ttotal: 1.65s\tremaining: 23.4ms\n",
            "986:\tlearn: 1403.4109863\ttotal: 1.65s\tremaining: 21.7ms\n",
            "987:\tlearn: 1403.1374825\ttotal: 1.65s\tremaining: 20ms\n",
            "988:\tlearn: 1402.6220507\ttotal: 1.65s\tremaining: 18.4ms\n",
            "989:\tlearn: 1402.4110799\ttotal: 1.66s\tremaining: 16.7ms\n",
            "990:\tlearn: 1402.1670265\ttotal: 1.66s\tremaining: 15ms\n",
            "991:\tlearn: 1402.0511266\ttotal: 1.66s\tremaining: 13.4ms\n",
            "992:\tlearn: 1401.9432650\ttotal: 1.66s\tremaining: 11.7ms\n",
            "993:\tlearn: 1401.7068627\ttotal: 1.66s\tremaining: 10ms\n",
            "994:\tlearn: 1401.2784169\ttotal: 1.66s\tremaining: 8.36ms\n",
            "995:\tlearn: 1401.1914028\ttotal: 1.67s\tremaining: 6.69ms\n",
            "996:\tlearn: 1400.5979870\ttotal: 1.67s\tremaining: 5.02ms\n",
            "997:\tlearn: 1399.8580133\ttotal: 1.67s\tremaining: 3.34ms\n",
            "998:\tlearn: 1399.6210936\ttotal: 1.67s\tremaining: 1.67ms\n",
            "999:\tlearn: 1399.3300415\ttotal: 1.67s\tremaining: 0us\n"
          ]
        },
        {
          "output_type": "execute_result",
          "data": {
            "text/plain": [
              "<catboost.core.CatBoostRegressor at 0x7fe2e7cf9f10>"
            ]
          },
          "metadata": {},
          "execution_count": 77
        }
      ],
      "source": [
        "from catboost import CatBoostRegressor\n",
        "\n",
        "cat=CatBoostRegressor()\n",
        "cat.fit(X_train,y_train)"
      ]
    },
    {
      "cell_type": "code",
      "execution_count": 78,
      "metadata": {
        "id": "Lfzy6s1xUSdO"
      },
      "outputs": [],
      "source": [
        "cat_pred=cat.predict(X_test)"
      ]
    },
    {
      "cell_type": "code",
      "execution_count": 79,
      "metadata": {
        "colab": {
          "base_uri": "https://localhost:8080/"
        },
        "id": "FUsfzcaeUSdO",
        "outputId": "de72aab2-b1fd-4028-9f98-8c7340d893e3"
      },
      "outputs": [
        {
          "output_type": "execute_result",
          "data": {
            "text/plain": [
              "0.8273858089678572"
            ]
          },
          "metadata": {},
          "execution_count": 79
        }
      ],
      "source": [
        "r2_score(y_test,cat_pred)"
      ]
    },
    {
      "cell_type": "code",
      "execution_count": 80,
      "metadata": {
        "colab": {
          "base_uri": "https://localhost:8080/"
        },
        "id": "DiRayWCeUSdO",
        "outputId": "7458f491-418e-4fa6-c4bf-2e6e3568b957"
      },
      "outputs": [
        {
          "output_type": "stream",
          "name": "stdout",
          "text": [
            "Looking in indexes: https://pypi.org/simple, https://us-python.pkg.dev/colab-wheels/public/simple/\n",
            "Requirement already satisfied: lightgbm in /usr/local/lib/python3.8/dist-packages (2.2.3)\n",
            "Requirement already satisfied: scipy in /usr/local/lib/python3.8/dist-packages (from lightgbm) (1.7.3)\n",
            "Requirement already satisfied: numpy in /usr/local/lib/python3.8/dist-packages (from lightgbm) (1.21.6)\n",
            "Requirement already satisfied: scikit-learn in /usr/local/lib/python3.8/dist-packages (from lightgbm) (1.0.2)\n",
            "Requirement already satisfied: threadpoolctl>=2.0.0 in /usr/local/lib/python3.8/dist-packages (from scikit-learn->lightgbm) (3.1.0)\n",
            "Requirement already satisfied: joblib>=0.11 in /usr/local/lib/python3.8/dist-packages (from scikit-learn->lightgbm) (1.2.0)\n"
          ]
        }
      ],
      "source": [
        "!pip install lightgbm"
      ]
    },
    {
      "cell_type": "code",
      "execution_count": 81,
      "metadata": {
        "id": "cae3nDVfUSdP"
      },
      "outputs": [],
      "source": [
        "X_train[['duration_hr','duration_min']]=X_train[['duration_hr','duration_min']].astype(int)\n",
        "X_test[['duration_hr','duration_min']]=X_test[['duration_hr','duration_min']].astype(int)"
      ]
    },
    {
      "cell_type": "code",
      "execution_count": 82,
      "metadata": {
        "colab": {
          "base_uri": "https://localhost:8080/"
        },
        "id": "ljqmm7tmUSdP",
        "outputId": "d71adf8d-1c79-4927-dc49-414c30f689ff"
      },
      "outputs": [
        {
          "output_type": "execute_result",
          "data": {
            "text/plain": [
              "LGBMRegressor()"
            ]
          },
          "metadata": {},
          "execution_count": 82
        }
      ],
      "source": [
        "from lightgbm import LGBMRegressor\n",
        "\n",
        "lgb_model = LGBMRegressor()\n",
        "lgb_model.fit(X_train,y_train)"
      ]
    },
    {
      "cell_type": "code",
      "execution_count": 83,
      "metadata": {
        "colab": {
          "base_uri": "https://localhost:8080/"
        },
        "id": "w1g2tENCUSdP",
        "outputId": "c8eea75f-ac52-4054-ca8b-46f22e1ace9d"
      },
      "outputs": [
        {
          "output_type": "execute_result",
          "data": {
            "text/plain": [
              "0.8030064936005559"
            ]
          },
          "metadata": {},
          "execution_count": 83
        }
      ],
      "source": [
        "lgb_pred=lgb_model.predict(X_test)\n",
        "r2_score(y_test,lgb_pred)"
      ]
    },
    {
      "cell_type": "code",
      "execution_count": 83,
      "metadata": {
        "id": "HxbB5DVcUSdQ"
      },
      "outputs": [],
      "source": []
    },
    {
      "cell_type": "code",
      "execution_count": 84,
      "metadata": {
        "colab": {
          "base_uri": "https://localhost:8080/"
        },
        "id": "7tpf0vQzUSdQ",
        "outputId": "1617df3e-a8bc-48ec-da23-6c8f668490dd"
      },
      "outputs": [
        {
          "output_type": "stream",
          "name": "stdout",
          "text": [
            "Looking in indexes: https://pypi.org/simple, https://us-python.pkg.dev/colab-wheels/public/simple/\n",
            "Requirement already satisfied: xgboost in /usr/local/lib/python3.8/dist-packages (0.90)\n",
            "Requirement already satisfied: numpy in /usr/local/lib/python3.8/dist-packages (from xgboost) (1.21.6)\n",
            "Requirement already satisfied: scipy in /usr/local/lib/python3.8/dist-packages (from xgboost) (1.7.3)\n"
          ]
        }
      ],
      "source": [
        "!pip install xgboost"
      ]
    },
    {
      "cell_type": "code",
      "execution_count": 85,
      "metadata": {
        "colab": {
          "base_uri": "https://localhost:8080/"
        },
        "id": "LoeNuDQpUSdQ",
        "outputId": "d8bd89c2-9783-40f1-fbb2-1a943dbcf02f"
      },
      "outputs": [
        {
          "output_type": "stream",
          "name": "stdout",
          "text": [
            "[09:03:52] WARNING: /workspace/src/objective/regression_obj.cu:152: reg:linear is now deprecated in favor of reg:squarederror.\n"
          ]
        },
        {
          "output_type": "execute_result",
          "data": {
            "text/plain": [
              "0.7360850618843358"
            ]
          },
          "metadata": {},
          "execution_count": 85
        }
      ],
      "source": [
        "import xgboost as xgb\n",
        "xgb_model=xgb.XGBRegressor()\n",
        "xgb_model.fit(X_train,y_train)\n",
        "xgb_pred=xgb_model.predict(X_test)\n",
        "r2_score(y_test,xgb_pred)"
      ]
    },
    {
      "cell_type": "code",
      "execution_count": 86,
      "metadata": {
        "colab": {
          "base_uri": "https://localhost:8080/",
          "height": 352
        },
        "id": "W7hZANgNUSdR",
        "outputId": "7c34bd13-98a6-4839-93cc-411117bfca99"
      },
      "outputs": [
        {
          "output_type": "execute_result",
          "data": {
            "text/plain": [
              "   Air India  GoAir  IndiGo  Jet Airways  Jet Airways Business  \\\n",
              "0          0      0       1            0                     0   \n",
              "1          1      0       0            0                     0   \n",
              "2          0      0       0            1                     0   \n",
              "3          0      0       1            0                     0   \n",
              "4          0      0       1            0                     0   \n",
              "\n",
              "   Multiple carriers  Multiple carriers Premium economy  SpiceJet  Trujet  \\\n",
              "0                  0                                  0         0       0   \n",
              "1                  0                                  0         0       0   \n",
              "2                  0                                  0         0       0   \n",
              "3                  0                                  0         0       0   \n",
              "4                  0                                  0         0       0   \n",
              "\n",
              "   Vistara  ...  Additional_Info  Price  Day_of_Journey  Month_of_Journey  \\\n",
              "0        0  ...          No info   3897              24                 3   \n",
              "1        0  ...          No info   7662               5                 1   \n",
              "2        0  ...          No info  13882               6                 9   \n",
              "3        0  ...          No info   6218               5                12   \n",
              "4        0  ...          No info  13302               3                 1   \n",
              "\n",
              "   Dep_hr  Dep_min  Arrival_hr  Arrival_min  duration_hr duration_min  \n",
              "0      22       20           1           10            2           50  \n",
              "1       5       50          13           15            7           25  \n",
              "2       9       25           4           25           19           00  \n",
              "3      18        5          23           30            5           25  \n",
              "4      16       50          21           35            4           45  \n",
              "\n",
              "[5 rows x 31 columns]"
            ],
            "text/html": [
              "\n",
              "  <div id=\"df-ed2a550b-5bb1-45fe-9e8f-ec7f9e04fa09\">\n",
              "    <div class=\"colab-df-container\">\n",
              "      <div>\n",
              "<style scoped>\n",
              "    .dataframe tbody tr th:only-of-type {\n",
              "        vertical-align: middle;\n",
              "    }\n",
              "\n",
              "    .dataframe tbody tr th {\n",
              "        vertical-align: top;\n",
              "    }\n",
              "\n",
              "    .dataframe thead th {\n",
              "        text-align: right;\n",
              "    }\n",
              "</style>\n",
              "<table border=\"1\" class=\"dataframe\">\n",
              "  <thead>\n",
              "    <tr style=\"text-align: right;\">\n",
              "      <th></th>\n",
              "      <th>Air India</th>\n",
              "      <th>GoAir</th>\n",
              "      <th>IndiGo</th>\n",
              "      <th>Jet Airways</th>\n",
              "      <th>Jet Airways Business</th>\n",
              "      <th>Multiple carriers</th>\n",
              "      <th>Multiple carriers Premium economy</th>\n",
              "      <th>SpiceJet</th>\n",
              "      <th>Trujet</th>\n",
              "      <th>Vistara</th>\n",
              "      <th>...</th>\n",
              "      <th>Additional_Info</th>\n",
              "      <th>Price</th>\n",
              "      <th>Day_of_Journey</th>\n",
              "      <th>Month_of_Journey</th>\n",
              "      <th>Dep_hr</th>\n",
              "      <th>Dep_min</th>\n",
              "      <th>Arrival_hr</th>\n",
              "      <th>Arrival_min</th>\n",
              "      <th>duration_hr</th>\n",
              "      <th>duration_min</th>\n",
              "    </tr>\n",
              "  </thead>\n",
              "  <tbody>\n",
              "    <tr>\n",
              "      <th>0</th>\n",
              "      <td>0</td>\n",
              "      <td>0</td>\n",
              "      <td>1</td>\n",
              "      <td>0</td>\n",
              "      <td>0</td>\n",
              "      <td>0</td>\n",
              "      <td>0</td>\n",
              "      <td>0</td>\n",
              "      <td>0</td>\n",
              "      <td>0</td>\n",
              "      <td>...</td>\n",
              "      <td>No info</td>\n",
              "      <td>3897</td>\n",
              "      <td>24</td>\n",
              "      <td>3</td>\n",
              "      <td>22</td>\n",
              "      <td>20</td>\n",
              "      <td>1</td>\n",
              "      <td>10</td>\n",
              "      <td>2</td>\n",
              "      <td>50</td>\n",
              "    </tr>\n",
              "    <tr>\n",
              "      <th>1</th>\n",
              "      <td>1</td>\n",
              "      <td>0</td>\n",
              "      <td>0</td>\n",
              "      <td>0</td>\n",
              "      <td>0</td>\n",
              "      <td>0</td>\n",
              "      <td>0</td>\n",
              "      <td>0</td>\n",
              "      <td>0</td>\n",
              "      <td>0</td>\n",
              "      <td>...</td>\n",
              "      <td>No info</td>\n",
              "      <td>7662</td>\n",
              "      <td>5</td>\n",
              "      <td>1</td>\n",
              "      <td>5</td>\n",
              "      <td>50</td>\n",
              "      <td>13</td>\n",
              "      <td>15</td>\n",
              "      <td>7</td>\n",
              "      <td>25</td>\n",
              "    </tr>\n",
              "    <tr>\n",
              "      <th>2</th>\n",
              "      <td>0</td>\n",
              "      <td>0</td>\n",
              "      <td>0</td>\n",
              "      <td>1</td>\n",
              "      <td>0</td>\n",
              "      <td>0</td>\n",
              "      <td>0</td>\n",
              "      <td>0</td>\n",
              "      <td>0</td>\n",
              "      <td>0</td>\n",
              "      <td>...</td>\n",
              "      <td>No info</td>\n",
              "      <td>13882</td>\n",
              "      <td>6</td>\n",
              "      <td>9</td>\n",
              "      <td>9</td>\n",
              "      <td>25</td>\n",
              "      <td>4</td>\n",
              "      <td>25</td>\n",
              "      <td>19</td>\n",
              "      <td>00</td>\n",
              "    </tr>\n",
              "    <tr>\n",
              "      <th>3</th>\n",
              "      <td>0</td>\n",
              "      <td>0</td>\n",
              "      <td>1</td>\n",
              "      <td>0</td>\n",
              "      <td>0</td>\n",
              "      <td>0</td>\n",
              "      <td>0</td>\n",
              "      <td>0</td>\n",
              "      <td>0</td>\n",
              "      <td>0</td>\n",
              "      <td>...</td>\n",
              "      <td>No info</td>\n",
              "      <td>6218</td>\n",
              "      <td>5</td>\n",
              "      <td>12</td>\n",
              "      <td>18</td>\n",
              "      <td>5</td>\n",
              "      <td>23</td>\n",
              "      <td>30</td>\n",
              "      <td>5</td>\n",
              "      <td>25</td>\n",
              "    </tr>\n",
              "    <tr>\n",
              "      <th>4</th>\n",
              "      <td>0</td>\n",
              "      <td>0</td>\n",
              "      <td>1</td>\n",
              "      <td>0</td>\n",
              "      <td>0</td>\n",
              "      <td>0</td>\n",
              "      <td>0</td>\n",
              "      <td>0</td>\n",
              "      <td>0</td>\n",
              "      <td>0</td>\n",
              "      <td>...</td>\n",
              "      <td>No info</td>\n",
              "      <td>13302</td>\n",
              "      <td>3</td>\n",
              "      <td>1</td>\n",
              "      <td>16</td>\n",
              "      <td>50</td>\n",
              "      <td>21</td>\n",
              "      <td>35</td>\n",
              "      <td>4</td>\n",
              "      <td>45</td>\n",
              "    </tr>\n",
              "  </tbody>\n",
              "</table>\n",
              "<p>5 rows × 31 columns</p>\n",
              "</div>\n",
              "      <button class=\"colab-df-convert\" onclick=\"convertToInteractive('df-ed2a550b-5bb1-45fe-9e8f-ec7f9e04fa09')\"\n",
              "              title=\"Convert this dataframe to an interactive table.\"\n",
              "              style=\"display:none;\">\n",
              "        \n",
              "  <svg xmlns=\"http://www.w3.org/2000/svg\" height=\"24px\"viewBox=\"0 0 24 24\"\n",
              "       width=\"24px\">\n",
              "    <path d=\"M0 0h24v24H0V0z\" fill=\"none\"/>\n",
              "    <path d=\"M18.56 5.44l.94 2.06.94-2.06 2.06-.94-2.06-.94-.94-2.06-.94 2.06-2.06.94zm-11 1L8.5 8.5l.94-2.06 2.06-.94-2.06-.94L8.5 2.5l-.94 2.06-2.06.94zm10 10l.94 2.06.94-2.06 2.06-.94-2.06-.94-.94-2.06-.94 2.06-2.06.94z\"/><path d=\"M17.41 7.96l-1.37-1.37c-.4-.4-.92-.59-1.43-.59-.52 0-1.04.2-1.43.59L10.3 9.45l-7.72 7.72c-.78.78-.78 2.05 0 2.83L4 21.41c.39.39.9.59 1.41.59.51 0 1.02-.2 1.41-.59l7.78-7.78 2.81-2.81c.8-.78.8-2.07 0-2.86zM5.41 20L4 18.59l7.72-7.72 1.47 1.35L5.41 20z\"/>\n",
              "  </svg>\n",
              "      </button>\n",
              "      \n",
              "  <style>\n",
              "    .colab-df-container {\n",
              "      display:flex;\n",
              "      flex-wrap:wrap;\n",
              "      gap: 12px;\n",
              "    }\n",
              "\n",
              "    .colab-df-convert {\n",
              "      background-color: #E8F0FE;\n",
              "      border: none;\n",
              "      border-radius: 50%;\n",
              "      cursor: pointer;\n",
              "      display: none;\n",
              "      fill: #1967D2;\n",
              "      height: 32px;\n",
              "      padding: 0 0 0 0;\n",
              "      width: 32px;\n",
              "    }\n",
              "\n",
              "    .colab-df-convert:hover {\n",
              "      background-color: #E2EBFA;\n",
              "      box-shadow: 0px 1px 2px rgba(60, 64, 67, 0.3), 0px 1px 3px 1px rgba(60, 64, 67, 0.15);\n",
              "      fill: #174EA6;\n",
              "    }\n",
              "\n",
              "    [theme=dark] .colab-df-convert {\n",
              "      background-color: #3B4455;\n",
              "      fill: #D2E3FC;\n",
              "    }\n",
              "\n",
              "    [theme=dark] .colab-df-convert:hover {\n",
              "      background-color: #434B5C;\n",
              "      box-shadow: 0px 1px 3px 1px rgba(0, 0, 0, 0.15);\n",
              "      filter: drop-shadow(0px 1px 2px rgba(0, 0, 0, 0.3));\n",
              "      fill: #FFFFFF;\n",
              "    }\n",
              "  </style>\n",
              "\n",
              "      <script>\n",
              "        const buttonEl =\n",
              "          document.querySelector('#df-ed2a550b-5bb1-45fe-9e8f-ec7f9e04fa09 button.colab-df-convert');\n",
              "        buttonEl.style.display =\n",
              "          google.colab.kernel.accessAllowed ? 'block' : 'none';\n",
              "\n",
              "        async function convertToInteractive(key) {\n",
              "          const element = document.querySelector('#df-ed2a550b-5bb1-45fe-9e8f-ec7f9e04fa09');\n",
              "          const dataTable =\n",
              "            await google.colab.kernel.invokeFunction('convertToInteractive',\n",
              "                                                     [key], {});\n",
              "          if (!dataTable) return;\n",
              "\n",
              "          const docLinkHtml = 'Like what you see? Visit the ' +\n",
              "            '<a target=\"_blank\" href=https://colab.research.google.com/notebooks/data_table.ipynb>data table notebook</a>'\n",
              "            + ' to learn more about interactive tables.';\n",
              "          element.innerHTML = '';\n",
              "          dataTable['output_type'] = 'display_data';\n",
              "          await google.colab.output.renderOutput(dataTable, element);\n",
              "          const docLink = document.createElement('div');\n",
              "          docLink.innerHTML = docLinkHtml;\n",
              "          element.appendChild(docLink);\n",
              "        }\n",
              "      </script>\n",
              "    </div>\n",
              "  </div>\n",
              "  "
            ]
          },
          "metadata": {},
          "execution_count": 86
        }
      ],
      "source": [
        "df.head()"
      ]
    },
    {
      "cell_type": "code",
      "execution_count": 87,
      "metadata": {
        "id": "YYKT0ToUUSdR"
      },
      "outputs": [],
      "source": [
        "#Use pickle to save our model so that we can use it later\n",
        "\n",
        "import pickle \n",
        "# Saving model to disk\n",
        "pickle.dump(cat, open('model.pkl','wb'))\n",
        "model=pickle.load(open('model.pkl','rb'))"
      ]
    },
    {
      "cell_type": "markdown",
      "source": [
        "## Save dataframe to later use in build.py"
      ],
      "metadata": {
        "id": "YizYG2mGXABP"
      }
    },
    {
      "cell_type": "code",
      "execution_count": 88,
      "metadata": {
        "id": "5boxIsV2USdS"
      },
      "outputs": [],
      "source": [
        "deploy_df=df.drop(['Route','Additional_Info'],axis=1)"
      ]
    },
    {
      "cell_type": "code",
      "execution_count": 89,
      "metadata": {
        "id": "g3k8o7exUSdT"
      },
      "outputs": [],
      "source": [
        "deploy_df.to_csv('deploy_df')"
      ]
    }
  ],
  "metadata": {
    "kernelspec": {
      "display_name": "Python 3",
      "language": "python",
      "name": "python3"
    },
    "language_info": {
      "codemirror_mode": {
        "name": "ipython",
        "version": 3
      },
      "file_extension": ".py",
      "mimetype": "text/x-python",
      "name": "python",
      "nbconvert_exporter": "python",
      "pygments_lexer": "ipython3",
      "version": "3.7.6"
    },
    "colab": {
      "provenance": []
    }
  },
  "nbformat": 4,
  "nbformat_minor": 0
}